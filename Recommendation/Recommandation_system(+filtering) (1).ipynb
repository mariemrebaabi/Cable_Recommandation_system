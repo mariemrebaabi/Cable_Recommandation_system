{
  "cells": [
    {
      "cell_type": "markdown",
      "metadata": {
        "id": "I1-UlW69Gq8x"
      },
      "source": [
        "# **Import modules**"
      ]
    },
    {
      "cell_type": "code",
      "execution_count": null,
      "metadata": {
        "id": "DCFfF3iuGYT9"
      },
      "outputs": [],
      "source": [
        "import numpy as np\n",
        "import pandas as pd\n",
        "from sklearn.metrics import confusion_matrix\n",
        "from sklearn.model_selection import train_test_split\n",
        "from sklearn.tree import DecisionTreeClassifier\n",
        "from sklearn.metrics import accuracy_score\n",
        "from sklearn.metrics import classification_report\n",
        "from sklearn.metrics.pairwise import cosine_similarity\n",
        "from sklearn.feature_extraction.text import CountVectorizer"
      ]
    },
    {
      "cell_type": "markdown",
      "source": [
        "# **Load data**"
      ],
      "metadata": {
        "id": "lg8FhBu3bS2V"
      }
    },
    {
      "cell_type": "code",
      "execution_count": null,
      "metadata": {
        "id": "ZIccSgiNIjeR",
        "colab": {
          "base_uri": "https://localhost:8080/"
        },
        "outputId": "c49e4ab2-7e56-415f-b1ef-42475aa4cc7e"
      },
      "outputs": [
        {
          "output_type": "stream",
          "name": "stdout",
          "text": [
            "Mounted at /content/drive\n"
          ]
        }
      ],
      "source": [
        "import os\n",
        "\n",
        "\n",
        "from google.colab import drive\n",
        "drive.mount('/content/drive')\n"
      ]
    },
    {
      "cell_type": "code",
      "execution_count": null,
      "metadata": {
        "id": "BRVhxueVIo_a"
      },
      "outputs": [],
      "source": [
        "data=\"/content/drive/MyDrive/LEONI_2021-2022/clean_dataset.csv\""
      ]
    },
    {
      "cell_type": "code",
      "execution_count": null,
      "metadata": {
        "id": "HM5DfLstIi67"
      },
      "outputs": [],
      "source": [
        "dataset = pd.read_csv(data)"
      ]
    },
    {
      "cell_type": "code",
      "execution_count": null,
      "metadata": {
        "colab": {
          "base_uri": "https://localhost:8080/",
          "height": 337
        },
        "id": "IkMztcHIJPuq",
        "outputId": "4959abce-f82c-4353-c22f-7b93f120d543"
      },
      "outputs": [
        {
          "output_type": "execute_result",
          "data": {
            "text/plain": [
              "  Leoni Part Number Contact System Finish  Gender Material Name  \\\n",
              "0         P00117177       MQS 0.64     Au    male        CuNiSi   \n",
              "1         P00072506        JPT 2.8     Au  female        CuNiSi   \n",
              "2         P00087589       MCON 1.2     Sn  female          CuSn   \n",
              "3         P00087605        MAK 2.8     Sn  female      CuCrSiTi   \n",
              "4         P00088453     DFK 40 4.8     Sn  female      CuCrSiTi   \n",
              "\n",
              "   Strip Length [mm] Sealability  Tab Thickness [mm]  Tab Width [mm]  \\\n",
              "0           3.817235    sealable            0.640000            0.64   \n",
              "1           3.500000    sealable            0.800000            2.80   \n",
              "2           3.921776    sealable            0.665182            1.20   \n",
              "3           4.009365    sealable            0.800000            2.80   \n",
              "4           4.846647    sealable            0.800000            4.80   \n",
              "\n",
              "  Wire Material  Wire Max. External Diameter [mm]  \\\n",
              "0            Cu                          1.600000   \n",
              "1            Cu                          2.300000   \n",
              "2            Cu                          1.656134   \n",
              "3            Cu                          1.651835   \n",
              "4            Cu                          3.105324   \n",
              "\n",
              "   Wire Min. External Diameter [mm]  Wire Size Range From [mm²]  \\\n",
              "0                          1.142954                        0.25   \n",
              "1                          1.183465                        0.20   \n",
              "2                          1.152643                        0.14   \n",
              "3                          1.169176                        0.20   \n",
              "4                          2.305979                        1.50   \n",
              "\n",
              "   Wire Size Range To [mm²]  id  \n",
              "0                      0.35   2  \n",
              "1                      0.50   4  \n",
              "2                      0.22   7  \n",
              "3                      0.35  11  \n",
              "4                      2.50  13  "
            ],
            "text/html": [
              "\n",
              "  <div id=\"df-c1249fc8-1375-4151-94a7-febf8ce5dd32\">\n",
              "    <div class=\"colab-df-container\">\n",
              "      <div>\n",
              "<style scoped>\n",
              "    .dataframe tbody tr th:only-of-type {\n",
              "        vertical-align: middle;\n",
              "    }\n",
              "\n",
              "    .dataframe tbody tr th {\n",
              "        vertical-align: top;\n",
              "    }\n",
              "\n",
              "    .dataframe thead th {\n",
              "        text-align: right;\n",
              "    }\n",
              "</style>\n",
              "<table border=\"1\" class=\"dataframe\">\n",
              "  <thead>\n",
              "    <tr style=\"text-align: right;\">\n",
              "      <th></th>\n",
              "      <th>Leoni Part Number</th>\n",
              "      <th>Contact System</th>\n",
              "      <th>Finish</th>\n",
              "      <th>Gender</th>\n",
              "      <th>Material Name</th>\n",
              "      <th>Strip Length [mm]</th>\n",
              "      <th>Sealability</th>\n",
              "      <th>Tab Thickness [mm]</th>\n",
              "      <th>Tab Width [mm]</th>\n",
              "      <th>Wire Material</th>\n",
              "      <th>Wire Max. External Diameter [mm]</th>\n",
              "      <th>Wire Min. External Diameter [mm]</th>\n",
              "      <th>Wire Size Range From [mm²]</th>\n",
              "      <th>Wire Size Range To [mm²]</th>\n",
              "      <th>id</th>\n",
              "    </tr>\n",
              "  </thead>\n",
              "  <tbody>\n",
              "    <tr>\n",
              "      <th>0</th>\n",
              "      <td>P00117177</td>\n",
              "      <td>MQS 0.64</td>\n",
              "      <td>Au</td>\n",
              "      <td>male</td>\n",
              "      <td>CuNiSi</td>\n",
              "      <td>3.817235</td>\n",
              "      <td>sealable</td>\n",
              "      <td>0.640000</td>\n",
              "      <td>0.64</td>\n",
              "      <td>Cu</td>\n",
              "      <td>1.600000</td>\n",
              "      <td>1.142954</td>\n",
              "      <td>0.25</td>\n",
              "      <td>0.35</td>\n",
              "      <td>2</td>\n",
              "    </tr>\n",
              "    <tr>\n",
              "      <th>1</th>\n",
              "      <td>P00072506</td>\n",
              "      <td>JPT 2.8</td>\n",
              "      <td>Au</td>\n",
              "      <td>female</td>\n",
              "      <td>CuNiSi</td>\n",
              "      <td>3.500000</td>\n",
              "      <td>sealable</td>\n",
              "      <td>0.800000</td>\n",
              "      <td>2.80</td>\n",
              "      <td>Cu</td>\n",
              "      <td>2.300000</td>\n",
              "      <td>1.183465</td>\n",
              "      <td>0.20</td>\n",
              "      <td>0.50</td>\n",
              "      <td>4</td>\n",
              "    </tr>\n",
              "    <tr>\n",
              "      <th>2</th>\n",
              "      <td>P00087589</td>\n",
              "      <td>MCON 1.2</td>\n",
              "      <td>Sn</td>\n",
              "      <td>female</td>\n",
              "      <td>CuSn</td>\n",
              "      <td>3.921776</td>\n",
              "      <td>sealable</td>\n",
              "      <td>0.665182</td>\n",
              "      <td>1.20</td>\n",
              "      <td>Cu</td>\n",
              "      <td>1.656134</td>\n",
              "      <td>1.152643</td>\n",
              "      <td>0.14</td>\n",
              "      <td>0.22</td>\n",
              "      <td>7</td>\n",
              "    </tr>\n",
              "    <tr>\n",
              "      <th>3</th>\n",
              "      <td>P00087605</td>\n",
              "      <td>MAK 2.8</td>\n",
              "      <td>Sn</td>\n",
              "      <td>female</td>\n",
              "      <td>CuCrSiTi</td>\n",
              "      <td>4.009365</td>\n",
              "      <td>sealable</td>\n",
              "      <td>0.800000</td>\n",
              "      <td>2.80</td>\n",
              "      <td>Cu</td>\n",
              "      <td>1.651835</td>\n",
              "      <td>1.169176</td>\n",
              "      <td>0.20</td>\n",
              "      <td>0.35</td>\n",
              "      <td>11</td>\n",
              "    </tr>\n",
              "    <tr>\n",
              "      <th>4</th>\n",
              "      <td>P00088453</td>\n",
              "      <td>DFK 40 4.8</td>\n",
              "      <td>Sn</td>\n",
              "      <td>female</td>\n",
              "      <td>CuCrSiTi</td>\n",
              "      <td>4.846647</td>\n",
              "      <td>sealable</td>\n",
              "      <td>0.800000</td>\n",
              "      <td>4.80</td>\n",
              "      <td>Cu</td>\n",
              "      <td>3.105324</td>\n",
              "      <td>2.305979</td>\n",
              "      <td>1.50</td>\n",
              "      <td>2.50</td>\n",
              "      <td>13</td>\n",
              "    </tr>\n",
              "  </tbody>\n",
              "</table>\n",
              "</div>\n",
              "      <button class=\"colab-df-convert\" onclick=\"convertToInteractive('df-c1249fc8-1375-4151-94a7-febf8ce5dd32')\"\n",
              "              title=\"Convert this dataframe to an interactive table.\"\n",
              "              style=\"display:none;\">\n",
              "        \n",
              "  <svg xmlns=\"http://www.w3.org/2000/svg\" height=\"24px\"viewBox=\"0 0 24 24\"\n",
              "       width=\"24px\">\n",
              "    <path d=\"M0 0h24v24H0V0z\" fill=\"none\"/>\n",
              "    <path d=\"M18.56 5.44l.94 2.06.94-2.06 2.06-.94-2.06-.94-.94-2.06-.94 2.06-2.06.94zm-11 1L8.5 8.5l.94-2.06 2.06-.94-2.06-.94L8.5 2.5l-.94 2.06-2.06.94zm10 10l.94 2.06.94-2.06 2.06-.94-2.06-.94-.94-2.06-.94 2.06-2.06.94z\"/><path d=\"M17.41 7.96l-1.37-1.37c-.4-.4-.92-.59-1.43-.59-.52 0-1.04.2-1.43.59L10.3 9.45l-7.72 7.72c-.78.78-.78 2.05 0 2.83L4 21.41c.39.39.9.59 1.41.59.51 0 1.02-.2 1.41-.59l7.78-7.78 2.81-2.81c.8-.78.8-2.07 0-2.86zM5.41 20L4 18.59l7.72-7.72 1.47 1.35L5.41 20z\"/>\n",
              "  </svg>\n",
              "      </button>\n",
              "      \n",
              "  <style>\n",
              "    .colab-df-container {\n",
              "      display:flex;\n",
              "      flex-wrap:wrap;\n",
              "      gap: 12px;\n",
              "    }\n",
              "\n",
              "    .colab-df-convert {\n",
              "      background-color: #E8F0FE;\n",
              "      border: none;\n",
              "      border-radius: 50%;\n",
              "      cursor: pointer;\n",
              "      display: none;\n",
              "      fill: #1967D2;\n",
              "      height: 32px;\n",
              "      padding: 0 0 0 0;\n",
              "      width: 32px;\n",
              "    }\n",
              "\n",
              "    .colab-df-convert:hover {\n",
              "      background-color: #E2EBFA;\n",
              "      box-shadow: 0px 1px 2px rgba(60, 64, 67, 0.3), 0px 1px 3px 1px rgba(60, 64, 67, 0.15);\n",
              "      fill: #174EA6;\n",
              "    }\n",
              "\n",
              "    [theme=dark] .colab-df-convert {\n",
              "      background-color: #3B4455;\n",
              "      fill: #D2E3FC;\n",
              "    }\n",
              "\n",
              "    [theme=dark] .colab-df-convert:hover {\n",
              "      background-color: #434B5C;\n",
              "      box-shadow: 0px 1px 3px 1px rgba(0, 0, 0, 0.15);\n",
              "      filter: drop-shadow(0px 1px 2px rgba(0, 0, 0, 0.3));\n",
              "      fill: #FFFFFF;\n",
              "    }\n",
              "  </style>\n",
              "\n",
              "      <script>\n",
              "        const buttonEl =\n",
              "          document.querySelector('#df-c1249fc8-1375-4151-94a7-febf8ce5dd32 button.colab-df-convert');\n",
              "        buttonEl.style.display =\n",
              "          google.colab.kernel.accessAllowed ? 'block' : 'none';\n",
              "\n",
              "        async function convertToInteractive(key) {\n",
              "          const element = document.querySelector('#df-c1249fc8-1375-4151-94a7-febf8ce5dd32');\n",
              "          const dataTable =\n",
              "            await google.colab.kernel.invokeFunction('convertToInteractive',\n",
              "                                                     [key], {});\n",
              "          if (!dataTable) return;\n",
              "\n",
              "          const docLinkHtml = 'Like what you see? Visit the ' +\n",
              "            '<a target=\"_blank\" href=https://colab.research.google.com/notebooks/data_table.ipynb>data table notebook</a>'\n",
              "            + ' to learn more about interactive tables.';\n",
              "          element.innerHTML = '';\n",
              "          dataTable['output_type'] = 'display_data';\n",
              "          await google.colab.output.renderOutput(dataTable, element);\n",
              "          const docLink = document.createElement('div');\n",
              "          docLink.innerHTML = docLinkHtml;\n",
              "          element.appendChild(docLink);\n",
              "        }\n",
              "      </script>\n",
              "    </div>\n",
              "  </div>\n",
              "  "
            ]
          },
          "metadata": {},
          "execution_count": 5
        }
      ],
      "source": [
        "dataset.head()"
      ]
    },
    {
      "cell_type": "code",
      "source": [
        "l=dataset['Finish'].unique()\n",
        "l"
      ],
      "metadata": {
        "colab": {
          "base_uri": "https://localhost:8080/"
        },
        "id": "ImURwXvQXEPm",
        "outputId": "5e0ca48d-13d2-4bb9-d53c-aee24410194a"
      },
      "execution_count": null,
      "outputs": [
        {
          "output_type": "execute_result",
          "data": {
            "text/plain": [
              "array(['Au', 'Sn', 'Ag', 'Ni+Sn', 'Ni', 'Au+Ni', 'Ag+Sn', 'Zn',\n",
              "       'Au+Ni+Sn', 'CuSn', 'Ag+Ni', 'Sn+Pb', 'CuSnP', 'Au+Pd'],\n",
              "      dtype=object)"
            ]
          },
          "metadata": {},
          "execution_count": 6
        }
      ]
    },
    {
      "cell_type": "code",
      "source": [
        "#dataset[dataset['Finish'] == \"Au+Ni\"]"
      ],
      "metadata": {
        "id": "MKSThBz4WBvn"
      },
      "execution_count": null,
      "outputs": []
    },
    {
      "cell_type": "code",
      "source": [
        "import plotly.express as px\n",
        "px.histogram(dataset, x=\"Contact System\")"
      ],
      "metadata": {
        "colab": {
          "base_uri": "https://localhost:8080/",
          "height": 542
        },
        "id": "8FiJ-wA1zhO_",
        "outputId": "7324d292-f27e-4eaa-ce10-974ef81f574c"
      },
      "execution_count": null,
      "outputs": [
        {
          "output_type": "display_data",
          "data": {
            "text/html": [
              "<html>\n",
              "<head><meta charset=\"utf-8\" /></head>\n",
              "<body>\n",
              "    <div>            <script src=\"https://cdnjs.cloudflare.com/ajax/libs/mathjax/2.7.5/MathJax.js?config=TeX-AMS-MML_SVG\"></script><script type=\"text/javascript\">if (window.MathJax) {MathJax.Hub.Config({SVG: {font: \"STIX-Web\"}});}</script>                <script type=\"text/javascript\">window.PlotlyConfig = {MathJaxConfig: 'local'};</script>\n",
              "        <script src=\"https://cdn.plot.ly/plotly-2.8.3.min.js\"></script>                <div id=\"1a218aa9-3c17-4df7-a751-5814cc97d2a2\" class=\"plotly-graph-div\" style=\"height:525px; width:100%;\"></div>            <script type=\"text/javascript\">                                    window.PLOTLYENV=window.PLOTLYENV || {};                                    if (document.getElementById(\"1a218aa9-3c17-4df7-a751-5814cc97d2a2\")) {                    Plotly.newPlot(                        \"1a218aa9-3c17-4df7-a751-5814cc97d2a2\",                        [{\"alignmentgroup\":\"True\",\"bingroup\":\"x\",\"hovertemplate\":\"Contact System=%{x}<br>count=%{y}<extra></extra>\",\"legendgroup\":\"\",\"marker\":{\"color\":\"#636efa\",\"pattern\":{\"shape\":\"\"}},\"name\":\"\",\"offsetgroup\":\"\",\"orientation\":\"v\",\"showlegend\":false,\"x\":[\"MQS 0.64\",\"JPT 2.8\",\"MCON 1.2\",\"MAK 2.8\",\"DFK 40 4.8\",\"JT 2.8\",\"JT 2.8\",\"DIA 2.5\",\"DIA 2.5\",\"DIA 2.5\",\"MCP 2.8\",\"MLK 1.2\",\"MLK 1.2\",\"MLK 1.2\",\"DCS-2 2.8\",\"MAK 2.8\",\"HSD\",\"MLK 1.2\",\"MLK 1.2\",\"DCK 1.5\",\"DCK 1.5\",\"DCS-2 2.8\",\"DCS-2 2.8\",\"DCS-2 2.8\",\"MQS 0.64\",\"MLK 1.2\",\"MQS 0.64\",\"MQS 0.64\",\"MQS 0.64\",\"Spring 0.64\",\"E95\",\"BOX 2.8\",\"MQS 0.64\",\"MQS 0.64\",\"ML 0.40\",\"1.5\",\"MLK 1.2\",\"MLK 1.2\",\"MLK 1.2 Sm\",\"MLK 1.2 Sm\",\"025 TS\",\"FASTON 6.3\",\"RK 1.2\",\"DIA 4 GLOW PLUG\",\"MCON 1.2\",\"025 HSC\",\"025 MMC\",\"090 NMWP\",\"090 NMWP\",\"090 NMWP\",\"MULTILOCK 040\",\"MCON 1.2\",\"MCON 1.2\",\"MCON 1.2\",\"MCON 1.2\",\"MQS 0.64 CB\",\"MSK 0.64\",\"RK\",\"RK\",\"SPT 6.3 Type A\",\"MSK 0.64\",\"060 NIC\",\"MTS-II 0.64\",\"MOX 0.64\",\"MTS-II 0.64\",\"MTS-II 0.64\",\"MTS-II 0.64\",\"MTS-II 0.64\",\"GTS 1.5\",\"GTS 1.5\",\"GTS 1.5\",\"040-III\",\"MULTILOCK 070\",\"MULTILOCK 070\",\"MULTILOCK 070\",\"DCK 1.5\",\"MQS 1.5\",\"Blade 2.8\",\"JPT 2.8\",\"DIA 2.5 (90 DEG)\",\"DIA 2.5 (90 DEG)\",\"BULB SOCKET\",\"US 2.8x0.6\",\"DIA 2.5\",\"DIA 2.5\",\"FASTON 6.3\",\"HD 20\",\"D-3\",\"DIA 2.5\",\"D-3\",\"D-3\",\"MSK 0.64\",\"RK\",\"RK\",\"RK\",\"DIA 2.5\",\"DIA 2.5\",\"DIA 2.5\",\"DIA 2.5\",\"DIA 2.5\",\"DIA 2.5\",\"MAK 2.8\",\"MAK 2.8\",\"MAK 2.8\",\"MAK 2.8\",\"MAK 2.8\",\"025 MMC\",\"25\",\"025 HSC\",\"050\",\"MDK3\",\"MDK4 2.8\",\"MDK5 2.8\",\"SPT 4.8\",\"GT 1.5\",\"FASTON 2.8\",\"CTX 0.64\",\"Micro MATE-N-LOK\",\"BOX 2.8\",\"Blade 2.8\",\"MATE-N-LOK\",\"MATE-N-LOK\",\"MATE-N-LOK\",\"050\",\"050 CDR\",\"050 CDR\",\"MQS 0.64 CB\",\"FASTON 6.3\",\"050 CDR\",\"GT 2.8\",\"CP 2.8\",\"CP 2.8\",\"CP 2.8\",\"1.7\",\"MOX 1.5\",\"DIA 2.5\",\"MAK 1.5\",\"MAK 1.5\",\"MAK 1.5\",\"CTS 2.8\",\"DCS-2 2.8\",\"MCP 1.5K (0.8)\",\"MP 8.0\",\"MCP 1.5K (0.8)\",\"MP 6.3\",\"MCS 1.0\",\"Micro-Pack 1.0W\",\"Micro-Pack 1.0W\",\"Micro-Pack 1.0\",\"Micro-Pack 1.0\",\"Micro-Pack 1.0\",\"MCP 2.8\",\"MP 2.8\",\"MTS 0.64\",\"MTS 0.64\",\"RK 1.5\",\"DIA 1.5\",\"DIA 1.5\",\"JPT 2.8\",\"MQS 1.5\",\"DFK 40 4.8\",\"MCON 2.8\",\"MCON 2.8\",\"MDK3\",\"060\",\"MDK3\",\"MDK3\",\"MLK 1.2\",\"MLK 1.2\",\"MLK 1.2 Sm\",\"MLK 1.2\",\"MLK 1.2\",\"MLK 1.2 Sm\",\"MLK 1.2 Sm\",\"AFS 4.8\",\"AFS 4.8\",\"JPT 2.8\",\"JPT 2.8\",\"JPT 2.8\",\"JPT 2.8\",\"MCON 1.2 CB\",\"JPT 2.8\",\"MLK 1.2 Sm\",\"MIC-P 1.0\",\"DuoTwin 0.64 CB\",\"MSK 0.64\",\"MSA 1.2\",\"MSA 1.2\",\"Apex 1.5\",\"GT 1.5\",\"MTS 0.64\",\"HPCS 2.8\",\"MT2 1.6\",\"DCS-2 2.8\",\"HPCS 2.8\",\"MP 2.8\",\"OCS 1.5\",\"DCS-1 4.8\",\"DSQ 1.5 (0.8)\",\"DSQ 1.5 (0.8)\",\"DSQ 1.5 (0.6)\",\"US 1.5\",\"DSQ 2.8\",\"MLK 1.2\",\"VF 2.8\",\"MTS 0.64\",\"DSQ 1.5 (0.8)\",\"DSQ 1.5 (0.8)\",\"MLK 1.2\",\"DSQ 1.5 (0.8)\",\"Ducon 1.5\",\"DSQ 1.5 (0.6)\",\"DSQ 1.5 (0.8)\",\"CTS 1.5\",\"MULTILOCK 070\",\"MSK 0.64\",\"MSK 0.64\",\"110\",\"DSQ 1.5 (0.8)\",\"DSQ 1.5 (0.8)\",\"DSQ 1.5 (0.8)\",\"MTS 0.64\",\"DSQ 1.5 (0.6)\",\"US 1.5\",\"DSQ 2.8\",\"DSQ 2.8\",\"DSQ 1.5 (0.8)\",\"DSQ 1.5 (0.8)\",\"DSQ 1.5 (0.8)\",\"GT 2.8\",\"DSQ 1.5 (0.8)\",\"DSQ 1.5 (0.8)\",\"DSQ 1.5 (0.8)\",\"MTS 0.64\",\"090-II\",\"DSQ 1.5 (0.8)\",\"DSQ 1.5 (0.8)\",\"040 TS\",\"YESC 1.5\",\"DSQ 1.5 (0.6)\",\"DSQ 1.5 (0.6)\",\"MTS 0.64\",\"Econoseal J 070\",\"US 0.64\",\"SENSOR FLAT 1.5\",\"DCS-2 1.5\",\"DCS-2 1.5 (0.8)\",\"DCS-2 1.5 (0.8)\",\"DCS-2 1.5 (0.8)\",\"DCS-2 1.5 (0.8)\",\"OCS 0.64 IDR\",\"DCS-2 1.5 (0.8)\",\"MCON 1.2 CB\",\"HSD\",\"HSD\",\"Apex 2.8\",\"Apex 2.8\",\"MQS 0.64\",\"MCON 1.2\",\"MCON 1.2\",\"MCON 1.2 CB\",\"MQS 0.64\",\"RK\",\"RK\",\"RK\",\"RK\",\"RK\",\"RK\",\"RK\",\"RK\",\"RK\",\"RK\",\"RK\",\"RK\",\"RK\",\"RK\",\"RK\",\"RK\",\"RK\",\"RK\",\"MQS 0.64\",\"HPCS 2.8\",\"HSD\",\"RK\",\"RK\",\"GET 0.64\",\"NAC-III 0.64\",\"NAC-III 0.64\",\"TTS 1.5\",\"TTS 1.5\",\"TTS 1.5\",\"DCS-2 2.8\",\"090 TS\",\"TTS 1.5\",\"040 TS\",\"US 1.5\",\"TAB 2.8\",\"TTS 1.5\",\"TTS 1.5\",\"TTS 1.5\",\"DCS-2 2.8\",\"040 TS\",\"DCS-2 2.8\",\"TTS 1.5\",\"TTS 1.5\",\"TAB 2.8\",\"MLK 1.2\",\"FASTON 2.8\",\"FASTON 2.8\",\"060\",\"MTS 0.64\",\"060\",\"060\",\"060\",\"JPT 2.8\",\"MSA 1.2\",\"MSA 1.2\",\"MSA 1.2\",\"MSA 1.2\",\"DCS-2 2.8\",\"MLK 1.2\",\"MLK 1.2\",\"Sicma 2.8\",\"Sicma 2.8\",\"Sicma 1.5\",\"Sicma 2.8\",\"Sicma-2 1.5\",\"DCS-2 2.8\",\"DCS-2 1.5\",\"PQ 5.6\",\"DCS-2 1.5\",\"DCS-2 1.5\",\"DCS-2 1.5\",\"MX 1.5\",\"MX 1.5\",\"DCS-2 1.5\",\"DCS-2 2.8\",\"MLK 1.2\",\"MQS 0.64\",\"DCS-2 1.5\",\"MPQ 2.8\",\"DCS-2 2.8\",\"DCS-2 2.8\",\"DCS-2 2.8\",\"Blade 2.8\",\"Blade 2.8\",\"MLK 1.2\",\"TAB 1.2\",\"MLK 1.2\",\"SWP 1.8\",\"025\",\"DCS-2 2.8\",\"DCS-2 2.8\",\"MCON 1.2\",\"MCON 1.2\",\"MCON 1.2\",\"MCON 1.2\",\"MCON 1.2\",\"MCON 1.2\",\"MCON 1.2\",\"MQS 0.64\",\"MQS 0.64\",\"DSQ 2.8\",\"FASTON 6.3\",\"110 WWP\",\"MATE-N-LOK\",\"MDK3\",\"MDK3\",\"RK\",\"JPT 2.8\",\"MCP 2.8\",\"SPT 6.3\",\"BOX 0.64\",\"GTS 1.5\",\"DCS 2.8\",\"DCS 2.8\",\"OCS 1.2\",\"TAK50\",\"SUPERSEAL 1.5\",\"MCON 0.5 CB\",\"OCS 1.2\",\"OCS 1.2\",\"OCS 1.2\",\"SENSOR FLAT 1.5\",\"GTS 0.64\",\"MINI FIT\",\"MDK3\",\"1.2\",\"1.2\",\"4\",\"BOX 0.64\",\"TAB 0.64\",\"NSCC 1.5\",\"MPQ 2.8\",\"RK\",\"CP 0.64\",\"CP 1.5\",\"MCON 1.2 CB\",\"MCON 1.2 CB\",\"MDK3\",\"AFK 2.8\",\"MP 1.5\",\"AFK 2.8\",\"RK\",\"ATS 2.8\",\"090\",\"BOX 3.0\",\"FASTON 6.3\",\"090-II\",\"GT 1.5\",\"RK\",\"Sicma-3 2.8\",\"Apex 2.8\",\"MML 0.8\",\"Econoseal J 070\",\"BOX 1.8\",\"090 MT/HW/HM\",\"FASTON 6.3\",\"FASTON 6.3\",\"MOX 0.64\",\"TAB 2.8\",\"JT 2.8\",\"RK\",\"RK\",\"MINI FUSE 2.8\",\"MINI FUSE 2.8\",\"CONI1 1.6\",\"MATE-N-LOK\",\"FASTON 6.3\",\"FASTON 4.8\",\"MATE-N-LOK\",\"MATE-N-LOK\",\"CONI1 1.6\",\"POSITIVE LOCK Mark I 6.3\",\"FASTIN-FASTON 2.8\",\"FASTON 6.3\",\"YESC 1.5\",\"SP 1.2\",\"2.5\",\"DIA 1.6\",\"RK\",\"RK 1.6\",\"RK 1.6\",\"RK 1.6\",\"RK\",\"Multimate III+\",\"MP 2.8\",\"Spring 0.64\",\"Spring 4.8\",\"025 TH\",\"025 TH\",\"WDF2 2.8\",\"DCS-2 2.8\",\"RK 1.6\",\"FASTON 6.3\",\"POSITIVE LOCK Mark II 4.8\",\"BOX 1.25\",\"POSITIVE LOCK Mark II 4.8\",\"JT 2.8\",\"DFK2 6.3\",\"Econoseal J 250\",\"090 TS\",\"POSITIVE LOCK EX Series 4.8\",\"FASTON 2.8\",\"FASTIN-FASTON 2.8\",\"MT2 1.6\",\"MFK 1.5\",\"RK\",\"MULTILOCK 070\",\"MULTILOCK 070\",\"MULTILOCK 070\",\"RK\",\"RK\",\"MATE-N-LOK\",\"090 TS/SL\",\"MATE-N-LOK\",\"TAB 2.8\",\"FASTIN-FASTON 2.8\",\"GET 0.64\",\"FS 4.8\",\"WDF2 2.8\",\"YESC 1.5\",\"YESC 1.5\",\"MP 6.3\",\"MP 6.3\",\"FASTIN-FASTON 4.8\",\"FASTON 2.8\",\"BSK 2.8\",\"090 MT/HW/HM\",\"DCS-1 2.8\",\"090 NMWP\",\"OBD2\",\"MDK5 2.8\",\"RK 2.8\",\"110\",\"090-II\",\"MDK3\",\"060 C\",\"WDF2 2.8\",\"YESC 1.5\",\"070\",\"MDK4 2.8\",\"070 SDL\",\"DCS-2 2.8\",\"Sicma-2 1.5\",\"Econoseal J 070\",\"MULTILOCK 070\",\"Apex 2.8\",\"2.8\",\"BOX 0.64\",\"F630E\",\"090-II\",\"Sicma-3 2.8\",\"MIC IV\",\"Sicma-3 2.8\",\"Sicma-3 2.8\",\"090\",\"090\",\"110 SDL\",\"090\",\"090\",\"SWP 2.5\",\"SWP 2.5\",\"MCP 1.5K (0.6)\",\"JPT 2.8\",\"090 MT/HW\",\"SWP 2.5\",\"MLK 1.2\",\"ST 4.8\",\"SUPERSEAL 1.5\",\"CONI1 1.6\",\"FASTIN-FASTON\",\"JT 2.8\",\"Econoseal J 070\",\"JPT 2.8\",\"MATE-N-LOK\",\"YESC 0.64\",\"YESC 2.8\",\"090-II\",\"RK\",\"RK\",\"JT 2.8\",\"RK 1.6\",\"Apex 2.8\",\"DCS-1 2.8\",\"DCS-2 2.8\",\"CI 2 1.6\",\"POSITIVE LOCK Mark II 4.8\",\"SPT 6.3\",\"MQS 1.5\",\"MQS 1.5\",\"090 MT/HW/HM\",\"MP 1.5\",\"MQS 0.64\",\"BDK 2.8\",\"BDK 2.8\",\"BMK 0.6\",\"BDK 2.8\",\"FASTON 2.8\",\"MQS 0.64\",\"SUPERSEAL 1.5\",\"TAB 1.8\",\"MP 1.5\",\"JPT 2.8\",\"Spring 2.0\",\"MQS 0.64 CB\",\"MQS 0.64\",\"DFK4 4.8\",\"DFK4 4.8\",\"JPT 2.8\",\"TAB 2.8\",\"DIA 2.5\",\"DIA 2.5\",\"MPQ 2.8\",\"JPT 2.8\",\"MPQ 2.8\",\"MP 1.5\",\"JPT 2.8\",\"SLK 2.8\",\"MP 2.8\",\"SLK 2.8\",\"MULTILOCK 040\",\"MIC-P 1.0\",\"MQS 0.64\",\"MT2 1.6\",\"MP 1.5 v2\",\"MP 2.8\",\"MDK3\",\"Spring 2.0\",\"DCS-2 2.8\",\"AFS 2.8\",\"JPT 2.8\",\"TAB 2.8\",\"TAB 1.6\",\"AFK 2.8\",\"BMK 0.6\",\"Spring 5.0\",\"MT2 1.6\",\"TAB 1.6\",\"SLK 2.8\",\"SLK 2.8\",\"SLK 2.8\",\"SLK 2.8\",\"DCS-2 2.8\",\"AFS 1.5\",\"SWP 1.8\",\"MQS 0.64\",\"BDK 2.8\",\"DCS-2 2.8\",\"E 2.3\",\"BDK 2.8\",\"MPQ 2.8\",\"YESC 2.8\",\"DIA 2.5\",\"MCP 2.8\",\"DCK 2.8\",\"Sicma-2 1.5\",\"MLK 1.2\",\"MLK 1.2\",\"MQS 0.64\",\"Sicma-2 1.5\",\"Sicma-2 1.5\",\"GT 1.5\",\"MT2 1.6\",\"JPT 2.8\",\"MQS 0.64\",\"CONI1 1.6\",\"MULTILOCK 070\",\"MP 4.8\",\"SPT 6.3\",\"MP 4.8\",\"FASTON 2.8\",\"MT3 1.6\",\"IL-AG5 0.64\",\"MULTILOCK 070\",\"YESC 1.5\",\"YESC 2.8\",\"Spring 4.8\",\"Spring 4.8\",\"BOX 2.2\",\"POSITIVE LOCK Mark II 2.8\",\"Econoseal J 070\",\"MQS 1.5 CB\",\"RH 0.64\",\"JPT 2.8\",\"MT2 1.6\",\"JPT 2.8\",\"AFS 1.5\",\"YESC 1.5\",\"SLK 2.8\",\"CONI1 1.6\",\"RK\",\"RK 2.5\",\"RK 4\",\"MINI F280\",\"090 TS\",\"Sicma-3plus 1.5\",\"Sicma-3plus 1.5\",\"090 RS\",\"090 RS\",\"RH 0.64\",\"DCS 1.5\",\"090 RS\",\"RH 0.64\",\"MULTILOCK 040-III\",\"MULTILOCK 040-III\",\"DIA 1.0\",\"RH 0.64\",\"MULTILOCK 040-III\",\"090 RS\",\"GTS 0.64\",\"040 HX\",\"Fuse Contact\",\"Sicma-3plus 1.5\",\"SENSOR FLAT 2.8\",\"MT2 1.6\",\"TTS 1.5\",\"Sicma 2.8\",\"Sicma 2.8\",\"SENSOR FLAT 2.8\",\"FASTON 2.8\",\"MP 2.8\",\"BULB SOCKET\",\"MP 2.8 CB\",\"MATE-N-LOK\",\"MLK 1.2\",\"GT 1.5\",\"SP 1.2\",\"SSD 1.2\",\"GET 0.64\",\"TAB 4.8\",\"MULTILOCK 090\",\"090 TS\",\"MX 0.64\",\"DCS-2 2.8\",\"0.64\",\"JT 2.8\",\"SUPERSEAL 1.5\",\"VEK 4\",\"070 SWP\",\"110 W\",\"DCS-2 2.8\",\"DCS-2 2.8\",\"BOX 2.8\",\"SENSOR FLAT 2.8\",\"MCON 1.2\",\"MP 1.5\",\"MP 2.8 CB\",\"SWP 2.5\",\"MP 1.5\",\"MP 2.8\",\"Econoseal J 070\",\"MPQ 2.8\",\"Spring 4.8\",\"MICRO 1.5\",\"187 TS\",\"MP 1.5\",\"JPT 2.8\",\"RK\",\"RK\",\"MP 8.0\",\"Micro-Pack 1.0W\",\"Auto Fuse 3.7\",\"Micro-Pack 1.0W\",\"MP 2.8\",\"SLK 2.8\",\"MPQ 2.8\",\"187 TS\",\"MAK 2.8\",\"GT 2.8\",\"GT 2.8\",\"NS-CS 2.3\",\"090 NS-CS\",\"NS-CS 2.3\",\"CP 1.5\",\"MX 1.5\",\"090 TS\",\"MX 0.64\",\"FASTON 4.8\",\"Sicma 1.5\",\"MX 0.64\",\"187 HE/HD\",\"040 HX\",\"MP 1.5\",\"MQS 1.5\",\"YESC Kaizen 0.64\",\"MX 1.5\",\"060 C\",\"110\",\"RK\",\"RK\",\"PAL\",\"HMK 1.2\",\"MX 0.64\",\"Multimate III+\",\"Multimate III+\",\"030\",\"MICRO FIT 3.0\",\"Econoseal J 187\",\"POSITIVE LOCK Mark I 6.3\",\"MCP 2.8\",\"MCP 2.8\",\"FASTON 6.3\",\"MT2 1.6\",\"GET 0.64\",\"GET 0.64\",\"MX 1.5\",\"MX 1.5\",\"BULB SOCKET 2.8\",\"ATS 2.8\",\"040 WP\",\"050 CDR\",\"BOX 1.5\",\"040-II\",\"BOX 2.9\",\"090 RS\",\"090 AR\",\"110 SDL\",\"FASTON 7.6\",\"MICRO 0.64\",\"Spring 5.0\",\"Spring 5.0\",\"TAB 1.0\",\"TAB 7.9\",\"Apex 2.8\",\"Sicma 1.5\",\"Econoseal J 070\",\"JPT 2.8\",\"SLK 2.8\",\"MCON 1.2 CB\",\"MLK 1.2\",\"DSQ 1.5 (0.8)\",\"GT 2.8\",\"GT 1.5\",\"MCP 1.5\",\"MCP 1.5\",\"RH 0.64\",\"BOX 1.8\",\"BOX 1.85\",\"FASTON 2.8\",\"FASTON 7.4\",\"090-II\",\"0.64 (025)\",\"SPT 6.3\",\"SUPERSEAL 1.5\",\"YESC Kaizen 2.8\",\"MIC-P 1.0\",\"DSQ 1.5 (0.8)\",\"Micro HVT 0.64\",\"RK 2.5\",\"MX 1.5\",\"MQS 1.5\",\"BOX 2.8\",\"MINI F280\",\"NAC 2.8\",\"MCON 2.8\",\"MCON 2.8\",\"MCON 2.8\",\"FASTON 6.3\",\"DIA 2.5\",\"MP 2.8\",\"DIA 2.5\",\"DSQ 2.8\",\"MP 2.8\",\"GTS 0.64\",\"Econoseal J 070\",\"YAK 1.2\",\"TTS 1.5\",\"MX 1.5\",\"YESC Kaizen 1.5\",\"YESC Kaizen 1.5\",\"SUPERSEAL 1.0\",\"SUPERSEAL 1.0\",\"ATS 2.8\",\"DSQ 1.5 (0.6)\",\"DSQ 1.5 (0.6)\",\"Apex 0.64\",\"MOD\",\"BOX 1.2\",\"TTS 1.5\",\"TTS 1.5\",\"MQS 0.64 CB\",\"FASTON 2.8\",\"FASTON 2.8\",\"TAB 2.8\",\"Apex 2.8\",\"MINI FIT\",\"25\",\"MP 2.8\",\"RK\",\"CTS 1.5\",\"MT2 1.6\",\"TAB 2.8\",\"SENSOR FLAT 2.8\",\"Spring 2.8\",\"Spring 0.5\",\"CTS 1.5\",\"Apex 1.5\",\"FASTON 4.8\",\"DuoTwin 0.64 CB\",\"GTS 1.5\",\"Apex 2.8\",\"MATE-N-LOK\",\"BULB SOCKET\",\"MCP 1.5K (0.8)\",\"090 NMWP\",\"GTS 0.64\",\"GTS 0.64\",\"GTS-3 1.5\",\"58 Type 2.8\",\"BCB 0.6\",\"Micro-Fit RMF\",\"MCON 2.8\",\"MCON 2.8\",\"MATRIX 1.2\",\"MATRIX 1.2\",\"GET 0.64\",\"AFS 1.5\",\"MAK 1.5\",\"DSQ 1.5 (0.6)\",\"070\",\"GTS 1.5\",\"DCK 2.8\",\"RK\",\"MCON 1.2\",\"MCON 1.2\",\"MCP 1.5K (0.6)\",\"RK 2.5\",\"Apex 2.8\",\"BULB SOCKET\",\"RK\",\"GT 1.5\",\"MDK3\",\"MDK3\",\"MDK3\",\"MDK3\",\"DFK 40 4.8\",\"DFK 40 4.8\",\"DFK 40 4.8\",\"MCP 2.8\",\"Sicma 1.5\",\"CTS 1.5\",\"MQS 1.5 CB\",\"BCB 0.6\",\"MCON 1.2\",\"Econoseal J 070\",\"Spring 2.0\",\"MQS 0.64\",\"MCON 1.2\",\"MCP 2.8\",\"MCON 1.2\",\"TAB 1.2\",\"MCON 1.2\",\"FASTON 2.8\",\"MCP 2.8\",\"GET 0.64\",\"MQS 1.0\",\"090 HE\",\"BCB 0.6\",\"TTS 1.5\",\"GT 1.5\",\"MTS 0.64 ST\",\"GT 2.8 FlexBeam\",\"GT 2.8 FlexBeam\",\"GEN-Y 0.64\",\"Fuse Contact\",\"TAB 6.3\",\"MX 1.5\",\"DSQ 2.8\",\"TTS 1.5\",\"MTS 0.64\",\"MTS 0.64\",\"MP 2.8\",\"RK\",\"MOX 0.64\",\"MP 2.8\",\"FORK\",\"MCP 1.5K (0.6)\",\"RH 0.64\",\"Sicma 0.64\",\"RH 0.64\",\"MINI FUSE 2.8\",\"MINI FUSE 2.8\",\"RH 0.64\",\"AFK 1.5\",\"GTS 1.5\",\"GTS 1.5\",\"GTS 1.5\",\"2.3\",\"BOX 2.3\",\"BTC 1.5\",\"BTC 2.8\",\"TAB 1.0\",\"BTC 1.5\",\"GSK\",\"090 RS\",\"CP 0.64\",\"Sicma-3 2.8\",\"MQS 0.64\",\"MQS 0.64\",\"MQS 0.64 CB\",\"BTS 1.5\",\"BTS 1.5\",\"BTS 1.5\",\"CTS 1.5\",\"Sicma-3 1.5\",\"MCON 1.2\",\"DCS-2 2.8\",\"CTX 1.5\",\"CTX 1.5\",\"CTX 1.5\",\"H 3\",\"AMPSEAL\",\"DCS-2 2.8\",\"MP 2.8\",\"Sicma-3plus 1.5\",\"MTS-II 0.64\",\"MTS 0.64\",\"Sicma 2.8\",\"MCP 2.8\",\"MCP 2.8\",\"MX 1.5\",\"MX 1.5\",\"MX 1.5\",\"TAB 4.8\",\"GET 0.64\",\"Apex 2.8\",\"MOD\",\"GET 0.64\",\"Sicma-3plus 1.5\",\"RK\",\"MCP 2.8K\",\"Sensor Flat 1.5\",\"MULTILOCK 040-III\",\"YESC 0.64\",\"2.3\",\"MQS 0.64\",\"MQS 0.64\",\"MQS 0.64\",\"JPT 2.8\",\"MP 1.5\",\"BMK 0.6\",\"MQS 0.64\",\"YESC 2.8\",\"Sicma-2 1.5\",\"Sicma-2 2.8\",\"Sicma-2 2.8\",\"Sicma-3 1.5\",\"Sicma-3 1.5\",\"Sicma-3 1.5\",\"090-II\",\"MCON 1.2\",\"MCON 1.2\",\"MQS 0.64\",\"SENSOR FLAT 1.5\",\"MTS-II 0.64\",\"JPT 2.8\",\"Sicma-3 2.8\",\"MCON 2.8\",\"CP 0.64\",\"Apex 2.8\",\"CP 1.5\",\"IL-AG5 0.64\",\"CP 0.64\",\"POSITIVE LOCK Mark II 4.8\",\"090 DL/TL/SL\",\"RK\",\"BOX 2.5\",\"040\",\"MX 1.5\",\"MX 1.5\",\"Sicma-3 1.5\",\"NS-CS 2.3\",\"NS-CS 2.3\",\"NS-CS 2.3\",\"TAB 0.64\",\"BOX 0.64\",\"GEN-Y 0.64 TOP ORIENTED\",\"RK\",\"MQS 0.64\",\"ELO 0.64\",\"MX 1.5\",\"MQS 0.64 CB\",\"MQS 0.64 CB\",\"MQS 0.64 CB\",\"MQS 0.64 CB\",\"MQS 0.64\",\"MQS 0.64\",\"MQS 0.64\",\"MQS 0.64\",\"MQS 0.64\",\"DuoTwin 0.64 CB\",\"MQS 0.64\",\"MQS 0.64\",\"MQS 0.64\",\"MQS 0.64\",\"MQS 0.64\",\"MQS 0.64\",\"JPT 2.8\",\"MCON 1.2\",\"025 TH\",\"Sicma-3 1.5\",\"090 HX\",\"040-III\",\"040-III\",\"MULTILOCK 090-III\",\"MULTILOCK 090-III\",\"TAB 1.8\",\"MCP 2.8\",\"SPT 6.3\",\"Sicma-3 2.8\",\"MCS 1.5\",\"TAB 2.3\",\"Sicma 2.8\",\"025 TS\",\"GEN-Y 0.64 LEFT ORIENTED\",\"DSQ 2.8\",\"BTL 1.5\",\"NAC-III 0.64\",\"MCP 1.5K (0.6)\",\"Sicma-3 2.8\",\"MT2 1.6\",\"MT2 1.6\",\"MT2 1.6\",\"MT2 1.6\",\"TAB 1.6\",\"025 TWP\",\"MT2 1.6\",\"MCON 1.2\",\"MCON 1.2\",\"MCON 1.2\",\"MCON 1.2\",\"MCON 1.2\",\"MCON 1.2\",\"CP 0.64\",\"BULB SOCKET\",\"DIA 1.0\",\"DIA 1.0\",\"Sicma-3 1.5\",\"RH 0.64\",\"GT 1.5\",\"TTS 1.5\",\"Apex 2.8\",\"TAB 2.8\",\"RH 0.64\",\"RH 0.64\",\"Fuse Contact\",\"Fuse Contact\",\"Fuse Contact\",\"Faston 4.8\",\"TAB 4.8\",\"HPCS 2.8\",\"MX 1.5\",\"FASTON 2.8\",\"Receptacle 2.8\",\"Receptacle 2.8\",\"MCP 2.8\",\"Fuse Contact\",\"Fuse Contact\",\"CP 2.8\",\"CP 2.8\",\"NanoMQS\",\"NanoMQS\",\"HDSF 16\",\"FASTON 6.3\",\"MQS 0.64 CB\",\"Heavy Duty\",\"RK\",\"RK\",\"RK\",\"MQS 0.64 CB\",\"MATRIX 1.2\",\"HES 1.0\",\"MCON 1.2\",\"MCON 1.2\",\"MCON 1.2\",\"MCON 1.2\",\"MCON 1.2\",\"MCON 1.2\",\"POSITIVE LOCK Mark I 6.3\",\"TAB 2.8\",\"MCON 1.2\",\"MQS 1.5 CB\",\"MX 1.5\",\"MQS 0.64\",\"MQS 0.64\",\"MQS 0.64\",\"MQS 0.64 CB\",\"MQS 0.64 CB\",\"MQS 0.64\",\"MQS 0.64\",\"MCON 1.2\",\"MCON 1.2\",\"MCON 1.2\",\"BOX 1.5\",\"MCON 1.2\",\"MCON 1.2\",\"DuoTwin 0.64 CB\",\"RK\",\"MX 0.64\",\"MX 1.5\",\"025 TH\",\"MATRIX 1.2 CB\",\"MTS-II 0.64\",\"MCON 2.8\",\"HPCS 2.8\",\"POSITIVE LOCK Mark II 4.8\",\"110\",\"110\",\"TAB 1.6\",\"TAB 1.6\",\"090\",\"090\",\"MP 1.5\",\"GT 1.5\",\"MCON 1.2\",\"Sicma 1.5\",\"BOX 1.2\",\"MATRIX 1.2\",\"MCON 1.2 CB\",\"MCON 1.2 CB\",\"MX 0.64\",\"MQS 0.64 CB\",\"MCON 1.2\",\"MCON 1.2\",\"AIT2 0.64\",\"Faston 2.8\",\"Faston 4.8\",\"MQS 0.64 CB\",\"RK\",\"RK\",\"MATRIX 1.2\",\"Apex 2.8\",\"060\",\"DSQ 1.5 (0.6)\",\"MQS 0.64\",\"Receptacle 2.8\",\"Receptacle 2.8\",\"MCON 1.2\",\"BTS 1.5\",\"RK\",\"Apex 1.5\",\"GEN-Y 0.64 TOP ORIENTED\",\"GEN-Y 0.64 TOP ORIENTED\",\"FASTON 6.3\",\"025 NH\",\"CTS 2.8\",\"MCON 1.2 CB\",\"FASTON 6.3\",\"FASTON 6.3\",\"BOX 1.2\",\"RK\",\"FASTON 6.3\",\"FASTON 6.3\",\"RK\",\"BOX 2.5\",\"TAB 4.8\",\"MX 1.5\",\"BULB SOCKET\",\"Apex 2.8\",\"Apex 2.8\",\"Apex 2.8\",\"Apex 2.8\",\"Apex 2.8\",\"GTS 1.5\",\"MX 1.5\",\"HES 1.0\",\"HES 1.6\",\"HES 1.6\",\"HES 1.0\",\"HES 1.6\",\"HES 1.6\",\"Apex 1.5\",\"Apex 1.5\",\"BOX 2.8\",\"MP 4.8\",\"MP 1.5\",\"MP 2.8\",\"MP 2.8\",\"SERIES 56\",\"MP 2.8\",\"MP 2.8\",\"GT 1.5\",\"MP 4.8\",\"MCON 1.2\",\"MCON 1.2\",\"MCON 1.2\",\"RK\",\"DIA 1.5\",\"SENSOR FLAT 1.5\",\"060\",\"MT2 1.6\",\"MT2 1.6\",\"OCS 0.64 ISM\",\"JPT 2.8\",\"025 TH\",\"TAB 1.5\",\"060\",\"GEN-Y 0.64\",\"GEN-Y 0.64\",\"GEN-Y 0.64\",\"GEN-Y 0.64 BOTTOM ORIENTED\",\"RK\",\"RK\",\"TAB 2.8\",\"BOX 2.8\",\"MQS 0.64\",\"MQS 0.64\",\"MQS 0.64\",\"RK\",\"BOX 3.0\",\"090-II\",\"TAB 2.5\",\"HMK 1.2\",\"CTS 2.8\",\"CTS 2.8\",\"TAB 2.8\",\"SLK 2.8\",\"050\",\"GEN-Y 0.64 BOTTOM ORIENTED\",\"GEN-Y 0.64\",\"MX 1.5\",\"060\",\"060\",\"060\",\"BOX 2.8\",\"25\",\"Faston 4.8\",\"SLK 2.8\",\"MCP 2.8 CB\",\"TAB 2.8\",\"RK\",\"GET 0.64\",\"Sensor Flat 1.5\",\"MX 1.5\",\"RK\",\"GT 1.5\",\"MP 1.5\",\"FASTON 7.9\",\"MCON 0.5 CB\",\"MX 1.5\",\"SNAP LOCK\",\"RK\",\"RK\",\"250 M\",\"MX 0.64\",\"MCP 2.8\",\"MCP 1.2\",\"SLK 2.8\",\"SLK 2.8\",\"SLK 2.8\",\"SLK 2.8\",\"SLK 2.8\",\"Sicma 1.5\",\"Sicma 1.5\",\"Sicma 1.5\",\"Sicma 1.5\",\"MICRO FIT 3.0\",\"RK\",\"MSA 1.2\",\"MCON 1.2\",\"MICRO 100A\",\"MSA 1.2\",\"FASTON 6.3\",\"MX 1.5\",\"Apex 1.2\",\"MSA 1.2\",\"MATRIX 1.2 CB\",\"PA 1.5\",\"HMK 1.2\",\"MTS 0.64\",\"Multimate III+\",\"JPT 2.8\",\"TAB 2.8\",\"0.64\",\"025 NH\",\"MTS 0.64\",\"MCP-E 2.8\",\"BTS 1.5\",\"GTS 0.64\",\"GTS 1.5\",\"RH 0.64\",\"TAB 1.6\",\"025 NH\",\"025 NH\",\"MT2 1.6\",\"TSC 1.5\",\"DCS-2 2.8\",\"CTX 64\",\"GT 150\",\"MSA 1.2\",\"RK1.6\",\"CTX 0.64\",\"Apex 0.64\",\"GT 150\",\"CTX 0.64\",\"CTX 0.64\",\"CTX 0.64\",\"RK\",\"2.3\",\"MATRIX 1.2\",\"HMK 1.2\",\"DCS-2 2.8\",\"025\",\"TAB 1.6\",\"MCON 1.2\",\"CTS 1.5\",\"BOX 1.2\",\"0.64\",\"MCON 2.8\",\"GEN-Y 0.64\",\"025 TS\",\"GTS 1.5\",\"MSA 1.2\",\"Apex 2.8\",\"BOX 0.64\",\"BOX 0.5\",\"MCON 1.2 CB\",\"MCON 1.2\",\"MCON 1.2\",\"DSQ 1.5 (0.8)\",\"BOX 0.64\",\"MATRIX 1.2\",\"MX 1.5\",\"MQS 0.64\",\"025\",\"JPT 2.8\",\"0.64\",\"0.64\",\"MT2 1.6\",\"BOX 1.2\",\"Spring 3.0\",\"VDL 5\",\"Apex 1.5\",\"0.64\",\"CTS 1.5\",\"GTS 1.5\",\"MX 1.5\",\"CTS 6.3\",\"CTS 6.3\",\"0.64 (025)\",\"MX 1.5\",\"Apex 2.8\",\"BOX 0.5\",\"CP 0.64\",\"MCON 0.5 CB\",\"MICRO 0.64\",\"Apex 1.2\",\"DCS-2 1.5\",\"DCS-2 1.5\",\"MX34 1.5\",\"MX34 1.5\",\"090 HE\",\"0.64\",\"MX41\",\"MCP 2.8\",\"GEN-Y 0.64\",\"NanoMQS\",\"GEN-Y 0.64\",\"GEN-Y 0.64\",\"GEN-Y 0.64\",\"GEN-Y 0.64\",\"MULTILOCK 070\",\"GEN-Y 0.64\",\"MPQ 2.8\",\"RK\",\"GEN-Y 0.64\",\"PQ 5.2\",\"CP 2.8\",\"CP 2.8\",\"GEN-Y 0.64\",\"GEN-Y 0.64\",\"GEN-Y 0.64\",\"MQS 0.64\",\"MCON 2.8\",\"025\",\"025\",\"DuoTwin 0.64 CB\",\"DuoTwin 0.64 CB\",\"TTS 1.5\",\"OCS 1.2\",\"OCS 1.2\",\"OCS 1.2\",\"OCS 1.2\",\"RH 0.64\",\"NS-CS 2.3\",\"AFK 2.8\",\"MQS 0.64\",\"MDK3 2.8\",\"MQS 0.64\",\"GTS-2 1.5\",\"MQS 0.64\",\"GTS 1.5\",\"MCP 2.8 CB\",\"BOX 1.0\",\"TAB 4.8\",\"MX 1.5\",\"MX 1.5\",\"BOX 2.8\",\"TAB 2.8\",\"060 C\",\"0.64 (025)\",\"0.64 (025)\",\"060 C\",\"TAB 2.8\",\"MTS 0.64\",\"MCON 1.2\",\"MX 1.5\",\"MX 1.5\",\"RK 1.0\",\"MCP 2.8K\",\"Apex 1.2\",\"0.64\",\"MCON 1.2\",\"BOX 1.5\",\"Sicma-3 1.5\",\"GEN-Y 0.64\",\"FASTON 2.8\",\"GEN-Y 0.64\",\"SPOX 2.5\",\"DCS-2 2.8\",\"BDK 2.8\",\"1.2\",\"RK 1.0\",\"RK 1.0\",\"BOX 2.8\",\"ATS 2.8\",\"050\",\"MQS 0.64 CB\",\"FASTIN-FASTON 2.8\",\"090 HE\",\"MQS 0.64\",\"MQS 0.64\",\"TTS 1.5\",\"POSITIVE LOCK 5.0\",\"HMK 1.2\",\"MLK 1.2 Sm\",\"MLK 1.2 Sm\",\"MLK 1.2 Sm\",\"MLK 1.2 Sm\",\"MLK 1.2\",\"MLK 1.2 Sm\",\"MLK 1.2 Sm\",\"MLK 1.2\",\"MLK 1.2\",\"MLK 1.2\",\"MLK 1.2 Sm\",\"MLK 1.2\",\"MLK 1.2 Sm\",\"MLK 1.2\",\"MLK 1.2\",\"MLK 1.2\",\"MLK 1.2\",\"MLK 1.2\",\"MLK 1.2\",\"MLK 1.2\",\"MLK 1.2\",\"MLK 1.2\",\"MLK 1.2\",\"MLK 1.2\",\"MLK 1.2\",\"MLK 1.2 Sm\",\"MLK 1.2 Sm\",\"MLK 1.2 Sm\",\"0.64\",\"OCS 2.8\",\"025\",\"1.5\",\"2.5\",\"060\",\"060\",\"060\",\"060\",\"060\",\"060\",\"110\",\"110\",\"025\",\"AFK 2.8\",\"OCS 2.8\",\"OCS 2.8\",\"025 TH\",\"MCP 1.2\",\"OCS 1.5\",\"MPQ 2.8\",\"MCON 0.5 CB\",\"020\",\"FASTON 205\",\"TAK50\",\"MLK 1.2\",\"MULTILOCK 070\",\"025 TH\",\"025 TH\",\"OCS 1.2\",\"Apex 1.2\",\"OCS 1.2\",\"OCS 1.2\",\"MLK 1.2\",\"MLK 1.2\",\"Sicma-3 1.5\",\"MLK 1.2\",\"MLK 1.2\",\"MLK 1.2\",\"MLK 1.2\",\"OCS 0.64 IUR\",\"MLK 1.2\",\"MLK 1.2\",\"MLK 1.2\",\"MLK 1.2\",\"TAB 2.8\",\"Apex 2.8\",\"BULB SOCKET\",\"1.2\",\"1.2\",\"MLK 1.2\",\"MLK 1.2\",\"1.2\",\"TAB 1.6\",\"YESC 1.5\",\"YESC 1.5\",\"MATRIX 1.2\",\"H 1.5\",\"HES 1.0\",\"MCP 2.8\",\"Apex 1.2\",\"GTS-3 1.5\",\"Nano fit\",\"MX 1.5\",\"GTS 0.64\",\"GTS-3 1.5\",\"NanoMQS\",\"RK 1.0\",\"MX41\",\"GTS 0.64\",\"TAB 2.8\",\"TAB 2.8\",\"DCS-2 2.8\",\"GTS-3 1.5\",\"GTS-3 1.5\",\"MCP 2.8\",\"FASTON 2.8\",\"OCS 1.2\",\"OCS 1.2\",\"OCS 1.2\",\"OCS 1.2\",\"MCP 2.8\",\"MCP 2.8\",\"GTS-3 1.5\",\"YESC 1.5\",\"TAB 2.8\",\"025\",\"060\",\"RK 1.0\",\"Sicma-4 1.5\",\"Sicma-4 1.5\",\"Sicma-4 1.5\",\"Sicma-4 1.5\",\"FASTON 4.8\",\"Sicma-4 1.5\",\"Sicma-4 1.5\",\"FASTON 2.8\",\"RK 1.0\",\"025\",\"MCP 1.5\",\"BOX 0.64\",\"060\",\"MX 1.5\",\"Sicma-3 2.8\",\"BOX 1.2\",\"BOX 1.2\",\"PQ 5.2\",\"020\",\"0.64 (025)\",\"Apex 0.64\",\"DuoTwin 0.64\",\"DuoTwin 0.64\",\"MPQ 2.8\",\"Apex 2.8\",\"MOX 0.64\",\"MOX 0.64\",\"MTS 0.64\",\"25\",\"DCS-2 1.5\",\"DCS-2 2.8\",\"HDX 0.64\",\"25\",\"MTS 0.64\",\"FASTON 2.8\",\"FASTON 187\",\"NSCC 1.5\",\"CP 0.64\",\"MCP 1.2\",\"MDK3\",\"BOX 1.5\",\"MCP 1.5K (0.6)\",\"MCON 1.2 CB\",\"250\",\"RK\",\"BOX 3.0\",\"MATE-N-LOK\",\"FASTON 6.3\",\"RK\",\"RK 3.96\",\"MFK 1.5\",\"ELO 0.64\",\"MDK1 2.8\",\"2.8\",\"DFK4 4.8\",\"DIN 46247 4.8\",\"FASTON\",\"FASTON 2.8\",\"BOX 2.8\",\"MLK 1.2\",\"FASTON 6.3\",\"MLK 1.2\",\"MLK 1.2\",\"MLK 1.2\",\"MLK 1.2 USC Sm\",\"MLK 1.2 m\",\"FASTON 6.3\",\"BOX 2.8\",\"BOX 6.3\",\"FASTON 6.3\",\"FASTON\",\"ST 4.8\",\"DFK4 4.8\",\"TAB 6.3\",\"TAB 6.3\",\"FASTON 2.8\",\"BOX 6.3\",\"FASTON 6.3\",\"FASTON 6.3\",\"FASTON 6.3\",\"Faston 2.8\",\"FASTON 6.3\",\"Faston 4.8\",\"Faston 4.8\",\"CONI2 1.6\",\"FASTON 4.8\",\"MATE-N-LOK\",\"MATE-N-LOK\",\"RK\",\"FASTON 2.8\",\"MATE-N-LOK\",\"DIN 46340\",\"Multimate III+\",\"Multimate III+\",\"FASTIN-FASTON 4.8\",\"FASTON 6.3\",\"MATE-N-LOK\",\"MATE-N-LOK\",\"FASTIN-FASTON 2.8\",\"CONI1 1.6\",\"MOD\",\"Faston 4.8\",\"Faston 2.8\",\"CONI2 1.6\",\"FASTON 2.8\",\"025 RH\",\"GET 0.64\",\"090\",\"YESC 0.64\",\"MATE-N-LOK\",\"DIA 1.6\",\"025-I\",\"CI 2 1.6\",\"RAM 3.5\",\"RAM 3.5\",\"DIA 1.6\",\"MX 1.5\",\"TAB 1.6\",\"MIC IV\",\"FASTON 2.8\",\"GET 0.64\",\"GET 0.64\",\"Faston 6.3\",\"DIA 1.5\",\"FL 2.8\",\"DIA 1.5\",\"MATE-N-LOK\",\"RK 1.6\",\"GET 0.64\",\"Sicma-3 1.5\",\"Sicma-3 2.8\",\"CONI2 1.6\",\"CONI2 1.6\",\"RK\",\"DCS-1 2.8\",\"RK\",\"4\",\"BOX 2.8\",\"POSITIVE LOCK Mark II 4.8\",\"POSITIVE LOCK Mark II 4.8\",\"DIA 1.6\",\"DIA 1.6\",\"FORK\",\"090 HX\",\"187 TS\",\"MDK3\",\"MT1 1.6\",\"JPT 2.8\",\"JPT 2.8\",\"MULTILOCK 040\",\"FL 4.8\",\"MULTILOCK 070\",\"Sub-D\",\"MFK 1.5\",\"JT 2.8\",\"JT\",\"MT1 1.6\",\"RK\",\"JPT 2.8\",\"RK\",\"JPT 2.8\",\"MFK 1.5\",\"MULTILOCK 070\",\"MULTILOCK 070\",\"MDK4 2.8\",\"Faston 6.3\",\"E95\",\"Econoseal J 070\",\"SPT 6.3\",\"Ducon 0.8\",\"Weather Pack\",\"JPT 2.8\",\"MULTILOCK 070\",\"RK 2.5\",\"RK 2.5\",\"RK 2.5\",\"MFS 1.5\",\"MFK 1.5\",\"MT2 1.6\",\"MT2 1.6\",\"MT2 1.6\",\"E95\",\"Faston 6.3\",\"FASTIN-FASTON 2.8\",\"FASTON 2.8\",\"MP 6.3\",\"D-3\",\"GT 2.8\",\"MLK 1.2\",\"MULTILOCK 070\",\"DIA 2.5\",\"BULB SOCKET\",\"JPT 2.8\",\"TAB 2.8\",\"DCS-2 2.8\",\"DCS-2 2.8\",\"MT2 1.6\",\"MT2A 1.6\",\"070\",\"187\",\"AFK 0.64\",\"MQS 0.64 CB\",\"DFK4 2.8\",\"DFK4 4.8\",\"FASTON 6.3\",\"MIC II\",\"090 NMWP\",\"090 NMWP\",\"Spring 1.9\",\"MFS 1.5\",\"RK 1.6\",\"RK 1.6\",\"F800\",\"FASTON 2.8\",\"MIC I\",\"MDK3\",\"MDK3\",\"RK 1.6\",\"MT2 1.6\",\"JPT 2.8\",\"MDK1 2.8\",\"TAB 2.8\",\"4.8\",\"060 C\",\"WDF2 2.8\",\"070 SWP\",\"060 C\",\"090-II\",\"090-II\",\"090-II\",\"FASTON 6.3\",\"Ducon 1.5\",\"MULTILOCK 040\",\"Sicma-3 1.5\",\"DuoTwin 0.64\",\"MIC II\",\"Faston 4.8\",\"RK\",\"MULTILOCK 070\",\"MLK 1.2\",\"MLK 1.2\",\"Multimate III+\",\"Multimate III+\",\"Multimate III+\",\"ELO Power 5.2\",\"ELO Power 5.2\",\"ELO 0.64\",\"Faston 4.8\",\"POSITIVE LOCK Mark I 6.3\",\"SPT 4.8\",\"SPT 4.8\",\"JPT 2.8\",\"MFK 1.5\",\"FASTON 11.0\",\"SPT 6.3\",\"090\",\"MCP 1.5K (0.6)\",\"MQS 0.64 CB\",\"MQS 0.64 CB\",\"MCP 1.5K (0.6)\",\"HDP-20 (Crimp Snap)\",\"POSITIVE LOCK 250\",\"Ducon 2.8\",\"MDK5 2.8\",\"SUPERSEAL 1.5\",\"MT2 1.6\",\"MLK 1.2\",\"MLK 1.2\",\"Faston 2.8\",\"MQS 0.64\",\"MQS 0.64\",\"MCON 1.2\",\"DFK 40 4.8\",\"RK\",\"ST 4.8\",\"CI 2 1.6\",\"CONI2 1.6\",\"ST\",\"MINI FIT\",\"DFK 40 4.8\",\"DFK 40 4.8\",\"DFK 40 4.8\",\"MDK3\",\"ELO Power 2.8\",\"ELO Power 2.8\",\"ELO Power 2.8\",\"MQS 0.64\",\"CI 2 1.6\",\"MP 6.3\",\"MLK 1.2 m\",\"JPT 2.8\",\"RK\",\"MIC I 2.8\",\"DFK 40 4.8\",\"ELO 0.64\",\"ELO 0.64\",\"JPT 2.8\",\"SPT 4.8\",\"MQS 1.2\",\"MQS 1.2\",\"JT 2.8\",\"Ducon 0.8\",\"ELO 0.64\",\"MQS 0.64 FFC\",\"MQS 0.64\",\"MT2 1.6\",\"JPT 2.8\",\"MULTILOCK 040\",\"MIC-P 1.0\",\"MQS 0.64\",\"MT2 1.6\",\"DCS-2 2.8\",\"Ducon 2.8\",\"ELO 0.64\",\"JPT 2.8\",\"JPT 2.8\",\"JPT 2.8\",\"SPT 6.3\",\"GT 1.5\",\"Micro-Pack 1.0\",\"Ducon 1.5\",\"MQS 0.64\",\"MQS 0.64\",\"DFK 40 4.8\",\"JPT 2.8\",\"AFS 2.8\",\"DCS-2 2.8\",\"DCS-2 1.5\",\"AFS 4.8\",\"DCS-2 1.5\",\"DCS-2 1.5\",\"BSK 2.8\",\"DCS-2 2.8\",\"DCS-2 2.8\",\"BSK 2.8\",\"FASTON 4.8\",\"FASTIN-FASTON 6.3\",\"DFK 6.3\",\"MQS 0.64\",\"MQS 0.64\",\"RAM 3.5\",\"SLK 2.8\",\"Micro MATE-N-LOK\",\"MDK3\",\"MDK3\",\"MDK3\",\"MT2 1.6\",\"JPT 2.8\",\"MCP 2.8\",\"MCP 2.8\",\"HPCS 2.8\",\"Sicma 1.5\",\"JPT 2.8\",\"MLK 1.2\",\"MLK 1.2\",\"MLK 1.2\",\"MLK 1.2\",\"MLK 1.2 Sm\",\"CSP 5\",\"MQS 0.64\",\"MQS 0.64\",\"Sicma-2 1.5\",\"MP 1.5\",\"ELO 0.64\",\"FASTON 6.3\",\"MDK3\",\"MDK3\",\"MDK3\",\"RK\",\"RP13\",\"AFK 1.5\",\"DCS-2 1.5\",\"58 X-Type 6.3\",\"DCK 1.5\",\"YESC 1.5\",\"FASTON 4.8\",\"FASTON 2.8\",\"FASTON 4.8\",\"CONI1 1.6\",\"TAB 2.8\",\"TAB 2.8\",\"TAB 2.8\",\"IPT 220M\",\"MOD IV\",\"ELO 0.64\",\"GT 1.5\",\"YESC 1.5\",\"090 NMWP\",\"POSITIVE LOCK Mark I 6.3\",\"POSITIVE LOCK Mark I 6.3\",\"MATE-N-LOK\",\"CI 2 1.6\",\"MULTILOCK 090-III\",\"Spring 2.0\",\"MCP 1.5K (0.6)\",\"MCP 2.8\",\"ST\",\"JPT 2.8\",\"MP 2.8\",\"MULTILOCK 070\",\"MULTILOCK 070\",\"MP 2.8\",\"DFK 40 4.8\",\"JPT 2.8\",\"DFK 40 4.8\",\"MP 1.5\",\"2.8\",\"JPT 2.8\",\"MT2 1.6\",\"BSK 2.8\",\"RK 2.5\",\"RK\",\"RK 2.5\",\"RK 2.5\",\"RK 1.0\",\"RK\",\"RK 4\",\"RK 1.0\",\"BOX 8.0\",\"TAB 2.8\",\"BOX 0.64\",\"GEN-Y 0.64 LEFT ORIENTED\",\"VDL 5\",\"Sicma 1.5\",\"Sicma 1.5\",\"Sicma 1.5\",\"6.3\",\"MIC IV\",\"MIC IV\",\"DuoTwin 0.64\",\"DuoTwin 0.64\",\"110\",\"030\",\"RK 1.0\",\"RK 1.0\",\"MULTILOCK 040 NK\",\"090 TS\",\"025 NH\",\"TAB 2.3\",\"MULTILOCK 040-II\",\"MULTILOCK 040-II\",\"NQ 8.0\",\"NS-CS 2.3\",\"MULTILOCK 040-III\",\"MULTILOCK 040-III\",\"MULTILOCK 040-III\",\"2.8\",\"025\",\"RK 1.0\",\"090 RS\",\"040-III\",\"025 NH\",\"GTS 0.64\",\"060 Z\",\"030\",\"Econoseal J 070\",\"040-III\",\"025 NH\",\"060 C\",\"040 HX\",\"TAB 0.8\",\"TAB 1.0\",\"BOX 0.80\",\"YK 1.2\",\"25\",\"MINI FUSE 2.8\",\"090-I\",\"CP 0.64\",\"POSITIVE LOCK Mark I 6.3\",\"MTS-II 0.64\",\"DSQ 1.5 (0.6)\",\"MTS-II 0.64\",\"Sicma 1.5\",\"SENSOR FLAT 2.8\",\"MQS 0.64 FFC long\",\"DCS-1 2.8\",\"MT3 1.6\",\"MT3 1.6\",\"ELO Power 2.8\",\"ELO Power 2.8\",\"MT2 1.6\",\"MT2 1.6\",\"MT2 1.6\",\"JPT 2.8\",\"JPT 2.8\",\"MT2 1.6\",\"JPT 2.8\",\"Ducon 4.8\",\"DIA 2.5\",\"DCS-2 2.8\",\"DCS-2 1.5\",\"MT2 1.6\",\"Ducon 0.8\",\"Ducon 4.8\",\"Ducon 4.8\",\"HPCS 2.8\",\"JPT 2.8\",\"JPT 2.8\",\"JPT 2.8\",\"MT2 1.6\",\"FASTON 4.8\",\"FASTON 2.8\",\"TAB 4.8\",\"MP 4.8\",\"TAB 2.8\",\"GT 1.5\",\"FASTON 2.8\",\"GT 1.5\",\"Ducon 0.8\",\"RK\",\"MCON 1.2\",\"MULTILOCK 040-III\",\"MCON 1.2 CB\",\"JPT 2.8\",\"TAB 6.3\",\"TAB 6.3\",\"FASTON 6.3\",\"Econoseal J 250\",\"JT\",\"W2-Axial\",\"090 DL/TL/SL\",\"040 TS\",\"250 DSD\",\"2.5\",\"SENSOR FLAT 1.5\",\"MDK3\",\"FASTON 4.8\",\"FASTIN-FASTON 2.8\",\"BOX 6.3\",\"DFK4 4.8\",\"DFK4 4.8\",\"DFK4 4.8\",\"DFK4 4.8\",\"TAB 6.3\",\"TAB 6.3\",\"TAB 6.3\",\"RK\",\"RK\",\"RK\",\"BOX 4.8\",\"CONI2 1.6\",\"Spring 2.0\",\"BOX 6.3\",\"BOX 6.3\",\"BOX 6.3\",\"FASTON 6.3\",\"JT 2.8\",\"JT 2.8\",\"FASTON 2.8\",\"FASTON 7.9\",\"DFK2 6.3\",\"FASTON 2.8\",\"FL 2.8\",\"JPT 2.8\",\"JPT 2.8\",\"FASTON 2.8\",\"MATE-N-LOK\",\"FASTIN-FASTON 2.8\",\"MQS 0.64 CB\",\"MQS 0.64 CB\",\"POSITIVE LOCK Mark I 6.3\",\"187\",\"MATE-N-LOK\",\"MATE-N-LOK\",\"MATE-N-LOK\",\"MATE-N-LOK\",\"025 TS\",\"0.64\",\"FASTON 6.3\",\"FASTIN-FASTON 6.3\",\"JT 2.8\",\"MATE-N-LOK\",\"MATE-N-LOK\",\"STD 2.8\",\"MTS 0.64\",\"FASTON 6.3\",\"MOD II\",\"SPT 6.3\",\"SPT 6.3\",\"CONI2 1.6\",\"JPT 2.8\",\"BOX 6.3\",\"FASTON 6.3\",\"BOX 6.3\",\"FASTON 2.8\",\"TAB 2.8\",\"FASTON 6.3\",\"Multimate II\",\"JPT 2.8\",\"Short Point\",\"Short Point\",\"MDK3\",\"JPT 2.8\",\"SPT 6.3\",\"TAB 2.8\",\"Ducon\",\"MX 0.64\",\"TAB 6.3\",\"DCS-1 2.8\",\"MULTILOCK 090\",\"JPT 2.8\",\"FORK\",\"FASTON 2.8\",\"RK\",\"SPT 6.3\",\"FASTON 2.8\",\"JPT 2.8\",\"JPT 2.8\",\"JPT 2.8\",\"SPT 6.3\",\"FASTON 6.3\",\"FASTON 2.8\",\"090 TS\",\"SPT 6.3\",\"MOD IV\",\"ST\",\"SPT 6.3\",\"MFK 1.5\",\"MT2 1.6\",\"MT2 1.6\",\"MT2 1.6\",\"E95\",\"MQS 0.64\",\"UPC\",\"2.8\",\"TAB 2.8\",\"MT1 1.6\",\"MT1 1.6\",\"FASTON 4.8\",\"MP 1.5\",\"VF 6.3\",\"HVF 2.8\",\"MP 1.5\",\"MATE-N-LOK\",\"SLK 2.8\",\"Ducon 4.8\",\"Ducon 4.8\",\"TAB 2.8\",\"AFS 4.8\",\"MT2 1.6\",\"RV 1.0\",\"FASTON 4.8\",\"SPT 6.3\",\"S 2.8\",\"110 W\",\"D-3\",\"DFK4 4.8\",\"Spring 4.8\",\"MLK 1.2\",\"090 NMWP\",\"MDK5 2.8\",\"Faston 2.8\",\"JPT 2.8\",\"TLC 1\",\"FASTON 2.8\",\"POSITIVE LOCK Mark I 6.3\",\"RK 1.6\",\"FASTON 6.3\",\"MULTILOCK 090-III\",\"RK 1.6\",\"JPT 2.8\",\"POSITIVE LOCK EX Series 4.8\",\"060 C\",\"MT4 1.6\",\"090\",\"MPQ 5.2\",\"AFK 1.5\",\"MULTILOCK 070\",\"MULTILOCK 070\",\"Sicma 1.5\",\"DuoTwin 0.64\",\"DuoTwin 0.64\",\"Faston 4.8\",\"SENSOR FLAT 2.8\",\"JPT 2.8\",\"MLK 1.2\",\"Multimate III+\",\"0.64\",\"GT 1.5\",\"ELO 0.64\",\"SPT 6.3\",\"FASTIN-FASTON 2.8\",\"FASTIN-FASTON 6.3\",\"TAB 2.8\",\"MPQ 2.8\",\"MQS 0.64 CB\",\"MCON 1.2\",\"MCON 1.2\",\"MCON 1.2\",\"MPQ 2.8\",\"MDK3\",\"JPT 2.8\",\"MPQ 2.8\",\"GT 1.5\",\"MCP 2.8\",\"CONI1 1.6\",\"MQS 1.5\",\"MLK 1.2 Sm\",\"Faston 2.8\",\"ST\",\"MDK5 2.8\",\"MCON 1.2\",\"MCON 1.2\",\"MCON 1.2\",\"MCON 1.2\",\"MQS 0.64 FFC\",\"DFK 40 4.8\",\"CI 2 1.6\",\"POSITIVE LOCK Mark I 6.3\",\"HD 20\",\"CI 2 1.6\",\"JPT 2.8\",\"JPT 2.8\",\"FASTON 2.8\",\"AF\",\"AFS 2.8\",\"AFS 4.8\",\"DCS 1.5\",\"FASTON 6.3\",\"MP 2.8\",\"BMK 0.6\",\"Sicma-2 1.5\",\"DCK 2.8\",\"DCK 2.8\",\"DuoTwin 0.64\",\"DuoTwin 0.64\",\"DuoTwin 0.64\",\"DuoTwin 0.64\",\"DuoTwin 0.64 CB\",\"Sicma-3 1.5\",\"BOX 0.64\",\"JPT 2.8\",\"MLK 1.2\",\"MLK 1.2\",\"MLK 1.2\",\"MICRO 1.5\",\"DCK 1.5\",\"090\",\"CP 1.5\",\"R41\",\"R41\",\"MX 1.5\",\"Faston 2.8\",\"FASTON 2.8\",\"FASTON 6.3\",\"FASTON 6.3\",\"FASTON 2.8\",\"DFK4 4.8\",\"025 TS\",\"025 TS\",\"GT 1.5 FlexBeam\",\"FASTON 2.8\",\"DIA 2.5\",\"SENSOR FLAT 2.8\",\"060 Z\",\"MP 2.8\",\"MAK 8\",\"EI\",\"CP 1.5\",\"MPQ 2.8\",\"PQ 5.2\",\"CSP 5\",\"MLK 1.2 Sm\",\"MLK 1.2\",\"MLK 1.2 Sm\",\"MLK 1.2 Sm\",\"090 RS\",\"Apex 2.8\",\"DCS 1.5\",\"DCK 2.8\",\"USB\",\"POSITIVE LOCK Mark II\",\"USB\",\"USB\",\"250\",\"250\",\"090-II\",\"090-II\",\"MDK1 2.8\",\"MLK 1.2 Sm\",\"BOX 6.3\",\"BOX 6.3\",\"FASTON 6.3\",\"TAB 6.3\",\"MDK1 2.8\",\"MP 1.5\",\"JPT 2.8\",\"090\",\"090\",\"BOX 2.8\",\"POSITIVE LOCK Mark II 4.8\",\"POSITIVE LOCK Mark II 4.8\",\"MIC II\",\"Short Point\",\"FASTON 6.3\",\"MDK4 2.8\",\"MDK1 2.8\",\"POSITIVE LOCK 2.8\",\"MINI FIT\",\"ELO 0.64\",\"MULTILOCK 070\",\"MIC I\",\"Econoseal J 187\",\"BTL 1.5\",\"GT 2.8\",\"062\",\"JT 2.8\",\"MLK 1.2\",\"FASTON 2.8\",\"250 M\",\"TAB 1.0\",\"JT 2.8\",\"FASTON 5.8\",\"040-III\",\"040-III\",\"040-II\",\"POSITIVE LOCK EX Series 4.8\",\"JPT 2.8\",\"040-III\",\"040-III\",\"MULTILOCK 090\",\"MULTILOCK 090\",\"FASTIN-FASTON 6.3\",\"Faston 2.8\",\"MT2 1.6\",\"SENSOR FLAT 2.8\",\"Receptacle 2.8\",\"Receptacle 2.8\",\"JPT 2.8\",\"RK\",\"MQS 0.64 CB\",\"DIA 1.0\",\"SNAP LOCK\",\"Series 35421\",\"2.28\",\"2.28\",\"FASTON 7.8\",\"Mini-Fit Grounding\",\"TAB 1.27\",\"TAB 1.27\",\"2.28\",\"2.28\",\"RK\",\"FASTON 4.8\",\"MTS-B 0.64\",\"FASTON 3.8\",\"MIC-P 0.64\",\"MP 2.8\",\"BOX 1.0\",\"BOX 1.45\",\"BOX 1.8\",\"BOX 1.8\",\"040-III\",\"BOX 1.9\",\"BOX 2.5\",\"OBD2\",\"FASTON 6.3\",\"040-III\",\"050 CDR\",\"090-II\",\"BOX 1.5\",\"BOX 2.9\",\"BOX 2.95\",\"BOX 3.0\",\"090 RS\",\"090 AR\",\"090 CS\",\"090 CS\",\"110 JFC\",\"110 WWP\",\"BOX 4.2\",\"110\",\"BOX 5.2\",\"BOX 6.0\",\"BOX 6.0\",\"BOX 2.3\",\"BOX 2.3\",\"FASTON 11.0\",\"FASTON 11.0\",\"FASTON 4.8\",\"P-Lock\",\"FASTON 250\",\"FASTON 4.7\",\"FASTON 5.8\",\"FASTON 4.8\",\"FASTON 5.8\",\"FASTON 6.3\",\"FASTON 6.3\",\"FASTON 6.3\",\"FASTON 7.0\",\"FASTON 7.4\",\"FASTON 7.4\",\"FASTON 7.4\",\"FASTON 7.5\",\"FASTON 7.6\",\"FASTON 7.6\",\"FASTON 7.6\",\"FASTON 7.6\",\"FASTON 7.6\",\"FASTON 7.8\",\"FASTON 9.0\",\"FASTON 9.0\",\"FASTON 9.0\",\"FASTON 9.0\",\"MP 2.8\",\"MDK5 2.8\",\"MP 2.8\",\"MP 2.8\",\"RK\",\"RK\",\"RK\",\"Sicma-3 1.5\",\"Sicma 1.5\",\"Spring 2.8\",\"Spring 3.0\",\"Spring 5.0\",\"Spring 5.0\",\"Spring 5.0\",\"Spring 5.0\",\"Spring 5.0\",\"Spring 5.0\",\"Spring 5.0\",\"Spring 5.0\",\"Spring 5.0\",\"Spring 5.0\",\"Spring 5.0\",\"Spring 5.0\",\"Spring 5.0\",\"Spring 5.0\",\"Spring 5.0\",\"Spring 5.0\",\"Spring 5.0\",\"Spring 7.85\",\"TAB 2.3\",\"TAB 1.2\",\"TAB 1.2\",\"090 AR\",\"090 AR\",\"090 CS\",\"090 CS\",\"TAB 3.0\",\"TAB 3.0\",\"TAB 3.0\",\"TAB 4.1\",\"TAB 6.0\",\"250 DSD\",\"250 DSD\",\"250 DSD\",\"250 DSD\",\"TAB 7.9\",\"TAB 7.9\",\"TAB 7.9\",\"TAB 7.9\",\"TAB 7.9\",\"TAB 8.0\",\"TAB 8.0\",\"UNI F630\",\"UNI F630\",\"YESC Kaizen 0.64\",\"Apex 2.8\",\"Sicma 2.8\",\"Series 35100\",\"FASTON 2.8\",\"BULB SOCKET 2.8\",\"2.36\",\"3.5\",\"MQS 0.64 CB\",\"Sicma-3 1.5\",\"MDK5 2.8\",\"MQS 0.64 CB\",\"MQS 0.64\",\"MLK 1.2\",\"MLK 1.2\",\"MCP 1.5K (0.6)\",\"MTS-II 0.64\",\"25\",\"DSQ 1.5 (0.8)\",\"MATRIX 1.2\",\"MQS 0.64\",\"0.64\",\"MULTILOCK 040\",\"SENSOR FLAT 1.5\",\"MQS 0.64 CB\",\"AIT2 0.64\",\"US 1.5\",\"MATRIX 1.2\",\"US 1.5\",\"US 1.5\",\"MIC-P 0.64\",\"MX 1.5\",\"AIT2 0.64\",\"MCP-E 2.8\",\"MCP-E 2.8\",\"MQS 0.64\",\"PQ 5.2\",\"DIA 2.5\",\"JPT 2.8\",\"MLK 1.2 m\",\"JPT 2.8\",\"SPT 4.8\",\"MT2 1.6\",\"25\",\"BOX 0.64\",\"Sicma Micro 0.64\",\"Sicma 0.64\",\"RK\",\"FASTON 4.8\",\"MQS 0.64 CB\",\"MATRIX 1.2\",\"Multimate XII\",\"FASTON 7.7\",\"FASTON 6.3\",\"MICRO 0.64\",\"RK\",\"MQS 1.5 CB\",\"DCS 1.5\",\"JPT 2.8\",\"090 NMWP\",\"RK\",\"MX 1.5\",\"Faston 4.8\",\"FASTON 2.8\",\"MOD\",\"MP 2.8\",\"FASTON\",\"Spring 3.75\",\"Multimate XII\",\"1.5\",\"NG 1.5\",\"NG 1.5\",\"FASTON 6.3\",\"FASTON 6.3\",\"TSC 1.5\",\"090-II\",\"R41\",\"R41\",\"R41\",\"E53\",\"Sicma 2.8\",\"Sicma 2.8\",\"DSQ 2.8\",\"DSQ 1.5 (0.8)\",\"DSQ 2.8\",\"MP 2.8\",\"FASTON 6.3\",\"TAB 6.3\",\"Apex 0.64\",\"Sicma 2.8\",\"MINI FUSE 2.8\",\"MICRO FIT 3.0\",\"MX 1.5\",\"BOX 1.5\",\"BOX 1.5\",\"TAB 2.8\",\"025\",\"025\",\"BOX 1.2\",\"BOX 2.8\",\"BOX 2.8\",\"BOX 2.8\",\"MP 1.5\",\"MICRO 1.2\",\"FASTON 6.3\",\"ELO 0.64\",\"Spring 4.8\",\"040\",\"Sicma-2 1.5\",\"US 2.8x0.6\",\"MCP 2.8\",\"MP 2.8\",\"Multimate XII\",\"BOX 2.8\",\"RK\",\"DSQ 1.5 (0.8)\",\"DuoTwin 0.64\",\"Apex 1.5\",\"MLK 1.2\",\"BTS 1.5\",\"BTS 1.5\",\"BTS 1.5\",\"RK\",\"RK\",\"FASTON 2.8\",\"2.36\",\"MULTILOCK 040-III\",\"OCS 1.2\",\"MAK 1.5\",\"Micro HVT 1.2\",\"BTS 2.8\",\"035\",\"BULB SOCKET\",\"FASTON 250\",\"PA 3\",\"PA 3\",\"AFK 2.8\",\"090 NMWP\",\"250 P-Lock\",\"BULB SOCKET\",\"MT2A 1.6\",\"MT1 1.6\",\"BULB SOCKET\",\"DuoTwin 0.64 CB\",\"FASTON 2.8\",\"GT 1.5\",\"BULB SOCKET\",\"Spring 6.3\",\"RK\",\"FASTON 6.3\",\"FASTON 6.3\",\"FASTON 6.3\",\"RK\",\"GTS 0.64\",\"BOX 4.8\",\"FASTON 6.3\",\"FASTON 6.3\",\"MCON 1.2 CB\",\"TAB 1.6\",\"050 CDR\",\"MTS 0.64\",\"MQS 0.64\",\"MATE-N-LOK\",\"GTS 0.64\",\"GT 1.5\",\"GT 1.5\",\"GTS 0.64\",\"GTS 1.5\",\"090 RS\",\"090 RS\",\"58 Type 2.8\",\"BOX 1.0\",\"DSQ 1.5 (0.6)\",\"025 HE\",\"MDK3\",\"MDK3\",\"YESC Kaizen 0.64\",\"DCS 1.5\",\"DCS 1.5\",\"BOX 2.8\",\"MINI FIT\",\"MT2 1.6\",\"MQS 0.64\",\"GT 1.5\",\"MAK 1.5\",\"AFK 2.8\",\"MAK 1.5\",\"MX 1.5L\",\"AFK 2.8\",\"MQS 0.64\",\"FASTON 2.8\",\"MCON 1.2\",\"MCON 1.2\",\"MCON 1.2\",\"AFK 2.8\",\"MLK 1.2\",\"MINI F280\",\"MATE-N-LOK\",\"Multimate III+\",\"DIN 46340 2.8\",\"RK\",\"DIN 46247 2.8\",\"MDK3\",\"DCK 2.8\",\"DCK 2.8\",\"MKS 1.5\",\"DuoTwin 0.64\",\"DCK 2.8\",\"DCK 2.8\",\"DCK 2.8\",\"DCK 2.8\",\"DCK 2.8\",\"TAB 2.8\",\"TAB 1.8\",\"Sicma-3plus 1.5\",\"FASTON 4.8\",\"Spring 0.5\",\"MX 1.5\",\"MLK 1.2\",\"CI 2 1.6\",\"BULB SOCKET\",\"MSK 0.64\",\"MSK 0.64\",\"MSK 0.64\",\"GTS 0.64\",\"GTS 0.64\",\"GTS 0.64\",\"DCK 1.5\",\"MQS 0.64\",\"MQS 0.64\",\"DCS-2 2.8\",\"DCK 1.5\",\"MDK3\",\"RK 2.5\",\"MDK3\",\"DFK 40 4.8\",\"DFK 40 4.8\",\"BTS 2.8\",\"BULB SOCKET\",\"BULB SOCKET\",\"BULB SOCKET\",\"SLK 2.8\",\"BOX 2.3\",\"MP 1.5\",\"MLK 1.2\",\"0.64\",\"MCON 1.2\",\"FASTON 6.3\",\"MCON 1.2\",\"MCON 1.2\",\"MT2 1.6\",\"DCS-2 1.5\",\"DCK 1.5\",\"DCS-2 2.8\",\"MCP 2.8K\",\"Sicma-3 1.5\",\"MINI FUSE 2.8\",\"MINI FUSE 2.8\",\"MIC III\",\"AFS 4.8\",\"POSITIVE LOCK Mark III\",\"OCS 1.5\",\"OCS 1.5\",\"H 3\",\"CTS 1.5\",\"CTS 1.5\",\"CTS 1.5\",\"025 NH\",\"FASTON 6.3\",\"040 HX\",\"MCP 1.5K (0.8)\",\"GT 1.5\",\"MX 0.64\",\"FASTON 2.8\",\"RK\",\"RK\",\"RK\",\"MICRO 100A\",\"Micro HVT 0.64\",\"TAB 6.3\",\"MSA 1.2\",\"MSA 1.2\",\"Fuse Contact\",\"090\",\"MP 1.5\",\"090 TS\",\"FASTON 6.3\",\"Ducon 0.8\",\"090\",\"BOX 1.2\",\"GEN-Y 0.64 BOTTOM ORIENTED\",\"MATE-N-LOK\",\"MATE-N-LOK\",\"MDK5 2.8\",\"GT 2.8 FlexBeam\",\"GT 2.8\",\"GT 1.5\",\"MTS 0.64 ST\",\"MTS 0.64 ST\",\"BOX 8.0\",\"090-II\",\"TAB 6.3\",\"GT 2.8\",\"MICRO 100A\",\"GT 1.5\",\"HCM 0.64\",\"NAC-III 0.64\",\"Fuse Contact\",\"FASTON 2.8\",\"FASTON 4.8\",\"FASTON 4.8\",\"DCS-2 1.5 (0.8)\",\"TAB 2.8\",\"Ducon 0.8\",\"ATS 2.8\",\"ATS 2.8\",\"ATS 2.8\",\"MCON 2.8\",\"187\",\"187\",\"CTS 1.5\",\"090\",\"ATS 2.8\",\"FASTIN-FASTON 4.8\",\"DCS-2 1.5\",\"Micro HVT 0.64\",\"ATS 2.8\",\"OCS 1.5\",\"OCS 1.5\",\"GT 1.5\",\"GT 1.5\",\"RK 3.5\",\"FASTON 7.3\",\"CP 2.8\",\"CP 2.8\",\"CP 1.5\",\"CP 0.64\",\"025 TH\",\"FASTON 5.8\",\"2.8\",\"2.8\",\"BOX 1.6\",\"RK 2.5\",\"RK\",\"Sicma Micro 0.64\",\"PL 6.3\",\"MOD IV\",\"FASTON 4.8\",\"MULTILOCK 070\",\"2.8\",\"MDK3\",\"MDK3\",\"6.35\",\"RK\",\"Sicma 1.5\",\"MIC I\",\"MX 0.64\",\"MSK 0.64\",\"MSK 0.64\",\"Faston 2.8\",\"SLX 4.0\",\"SLX 4.0\",\"HC3 1.15\",\"HC3 1.15\",\"H 1.5\",\"H 1.5\",\"GEN-Y 0.64\",\"RK\",\"GT 1.5\",\"090 DL/TL/SL\",\"RK\",\"RK\",\"CP 2.8\",\"BTS 1.5\",\"CTX 0.64\",\"CPX 2.8\",\"CTX 0.64\",\"CTX 2.8\",\"GTS 1.5\",\"Spring 2.5\",\"GTS 1.5\",\"FASTON 5.0\",\"H 3\",\"0.64\",\"H 3\",\"MULTILOCK 070\",\"MULTILOCK 070\",\"JPT 2.8\",\"JPT 2.8\",\"GT 2.8\",\"GT 1.5\",\"MULTILOCK 040-III\",\"GT 2.8\",\"CP 0.64\",\"E95\",\"BOX 2.8\",\"Spring 0.64\",\"POSITIVE LOCK Mark III 4.8\",\"Spring 0.64\",\"MLK 1.2 m\",\"Sicma 1.5\",\"TAB 2.8\",\"Sicma 1.5\",\"Apex 2.8\",\"JPT 2.8\",\"Slip-On 6.35\",\"280\",\"025 NH\",\"250 M\",\"250 M\",\"Sicma-3 1.5\",\"NanoMQS\",\"MOX 0.64\",\"Sicma-3 1.5\",\"Sicma-3 1.5\",\"GEN-Y 0.64\",\"BMK 0.6\",\"MLK 1.2\",\"GEN-Y 0.64\",\"DuoTwin 0.64\",\"CP 0.64\",\"GT 2.8\",\"MQS 0.64 CB\",\"RK\",\"JPT 2.8\",\"PACK-CON III\",\"GEN-Y 0.64\",\"GEN-Y 0.64\",\"TAB 1.0\",\"MP 1.5\",\"CMC 0.64\",\"GET 0.64\",\"090 TS\",\"MQS 0.64\",\"FASTON 4.8\",\"Sicma-3plus 1.5\",\"090 DL/TL/SL\",\"MATE-N-LOK\",\"RV 1.0\",\"060 Z\",\"Receptacle 2.8\",\"MCON 1.2 CB\",\"2.8\",\"25\",\"Short Point\",\"GEN-Y 0.64\",\"GEN-Y 0.64 BOTTOM ORIENTED\",\"GEN-Y 0.64 BOTTOM ORIENTED\",\"GEN-Y 0.64\",\"GEN-Y 0.64\",\"GEN-Y 0.64\",\"GT 2.8\",\"M-6 2.8\",\"MP 2.8\",\"ELO 0.64\",\"ELO 0.64\",\"GEN-Y 0.64 TOP ORIENTED\",\"MP 1.5\",\"DuoTwin 0.64\",\"DuoTwin 0.64 CB\",\"Spring 0.64\",\"MQS 0.64\",\"MQS 0.64\",\"MQS 0.64 CB\",\"FASTON 7.9\",\"FASTON 6.3\",\"FASTON 7.9\",\"FASTON 6.3\",\"FASTON 4.8\",\"TAB 6.3\",\"TAB 2.8\",\"NanoMQS\",\"NanoMQS\",\"Fuse Contact\",\"MINI FUSE 2.8\",\"MQS 0.64\",\"Spring 4.8\",\"TAB 2.8\",\"MQS 0.64 CB\",\"MQS 0.64 CB\",\"JPT 2.8\",\"MQS 0.64\",\"JPT 2.8\",\"Fuse Contact\",\"090 XWP\",\"ST\",\"Apex 2.8\",\"MICRO FIT 3.0\",\"BOX 1.2\",\"090 HX\",\"Spring 4.8\",\"BOX 1.0\",\"Spring 4.8\",\"Apex 2.8\",\"GTS-2 1.5\",\"MQ 0.6\",\"OCS 1.2\",\"MICRO FIT 3.0\",\"RK\",\"OBD2\",\"GEN-Y 0.64 BOTTOM ORIENTED\",\"GEN-Y 0.64 BOTTOM ORIENTED\",\"GEN-Y 0.64\",\"GEN-Y 0.64 LEFT ORIENTED\",\"GEN-Y 0.64\",\"GEN-Y 0.64\",\"YESC 1.5\",\"YESC 0.64\",\"BULB SOCKET\",\"BULB SOCKET\",\"Apex 1.2\",\"OCS 1.5\",\"0.64\",\"BOX 0.64\",\"GTS 1.5\",\"090\",\"025\",\"CTX 0.64\",\"CTX 0.64\",\"CTX 1.5\",\"CTX 1.5\",\"CTX 1.5\",\"CTS 1.5\",\"Fuse Contact\",\"Fuse Contact\",\"BOX 1.5\",\"Fuse Contact\",\"BOX 1.5\",\"MTS 0.64\",\"OCS 1.2\",\"GEN-Y 0.64\",\"GEN-Y 0.64\",\"GEN-Y 0.64\",\"MATE-N-LOK\",\"MX 1.5\",\"GT 1.5\",\"187\",\"110 JFC\",\"110 JFC\",\"025 TH\",\"FASTON 2.8\",\"SSD 1.2\",\"0.64\",\"GEN-Y 0.64 LEFT ORIENTED\",\"TAB 6.3\",\"0.64\",\"FASTIN-FASTON 2.8\",\"1.5\",\"BULB SOCKET\",\"Apex 1.5\",\"CTX 2.8\",\"110 SL\",\"SENSOR FLAT 1.5\",\"Sicma 1.5\",\"TAB 2.8\",\"MQS 0.64\",\"MX 0.64\",\"GT 1.5\",\"GT 2.8\",\"MX 1.5\",\"060\",\"OCS 0.64 IUR\",\"OCS 0.64 IUR\",\"NGP 2.8\",\"NGP 2.8\",\"MX 1.5\",\"090\",\"GT 1.5\",\"GT 1.5\",\"MTS-B 0.64\",\"MTS-B 0.64\",\"MIC I\",\"Receptacle 2.8\",\"025 NH\",\"025 NH\",\"Apex 1.5\",\"Apex 1.5\",\"Sicma 2.8\",\"Sicma 2.8\",\"CTX 0.5\",\"JPT 2.8\",\"BOX 1.0\",\"BOX 1.0\",\"RK\",\"RK\",\"RK\",\"MX 0.64\",\"Short Point\",\"USB\",\"MT2 1.6\",\"MT2 1.6\",\"CTX 1.5\",\"MQS 0.64\",\"MP 1.5\",\"GTS 1.5\",\"HES 1.0\",\"Econoseal J 070\",\"RK\",\"Faston 2.8\",\"GEN-Y 0.64\",\"Mini STS\",\"Spring 2.8\",\"CTX 1.5\",\"CTX 1.5\",\"Apex 2.8\",\"BTS 1.5\",\"BTS 1.5\",\"TAB 2.95\",\"HES 1.0\",\"NAC-III 0.64\",\"RK 1.0\",\"CTX 0.64\",\"OCS 1.5\",\"BOX 2.8\",\"TAB 2.8\",\"TSC 1.5\",\"E 2.3\",\"MULTILOCK 040\",\"MQS 0.64\",\"MLK 1.2\",\"MP 4.8\",\"DCS-1 4.8\",\"Apex 2.8\",\"CTS 1.5\",\"Apex 1.5\",\"1.5\",\"1.5\",\"1.5\",\"1.5\",\"2.8\",\"1.5\",\"050\",\"YESC Kaizen 0.64\",\"1.5\",\"YESC Kaizen 0.64\",\"2.8\",\"1.5\",\"1.5\",\"1.5\",\"050\",\"050\",\"050\",\"050\",\"040\",\"Spring 4.0\",\"BOX 0.5\",\"BOX 0.5\",\"BOX 0.5\",\"FASTON 2.8\",\"BOX 0.5\",\"110\",\"RK\",\"MT2 1.6\",\"DuoTwin 0.64\",\"PACK-CON III\",\"IL-AG5 0.64\",\"MIC I\",\"CTX 0.64\",\"CTX 0.64\",\"VDL 5\",\"RK\",\"CTX 0.5\",\"Multimate III+\",\"Faston 4.8\",\"SSD 1.2\",\"HES 1.0\",\"MLK 1.2\",\"MLK 1.2 Sm\",\"MX 1.5\",\"MQS 0.64\",\"MQS 0.64\",\"MQS 0.64 CB\",\"TAB 1.5\",\"YESC Kaizen 2.8\",\"0.64\",\"1.5\",\"Faston 4.8\",\"AFK 2.8\",\"PDL 1.5\",\"Spring 0.64\",\"CTX 0.5\",\"F630E\",\"MQ 0.6\",\"BOX 1.2\",\"MX34 0.64\",\"25\",\"MQS 0.64\",\"Faston 6.3\",\"HPCS 2.8\",\"MIC IV\",\"MIC IV\",\"FASTON 6.3\",\"PACK-CON\",\"HPCS 2.8\",\"RK\",\"HDP-20 (Crimp Snap)\",\"MATE-N-LOK\",\"BULB SOCKET\",\"SERIES 56\",\"BOX 1.5\",\"MULTILOCK 090\",\"110 MTW\",\"Sensor Flat 1.5\",\"Spring 1.8\",\"MTS 0.64\",\"FASTON 6.3\",\"MLK 1.2 Sm\",\"MLK 1.2 Sm\",\"C-Grid-III\",\"TAB 4.8\",\"GT 2.8\",\"MX 1.5\",\"HDP-20 (Crimp Snap)\",\"MX 0.64\",\"DIA 0.6\",\"025\",\"Micro MATE-N-LOK\",\"Spring 1.8\",\"TAB 2.8\",\"Faston 2.8\",\"RK\",\"FASTIN-FASTON 4.8\",\"BOX 6.3\",\"020\",\"BOX 1.5\",\"DCS-2 2.8\",\"BOX 1.2\",\"Faston 2.8\",\"MTS 0.64\",\"SLK 2.8\",\"0.64\",\"MQS 0.64\",\"OCS 0.64 IDR\",\"0.64\",\"FASTON 6.3\",\"187 TS\",\"RK\",\"H 1.5\",\"FASTIN-FASTON 4.8\",\"Pico-SPOX 1.5\",\"D-3\",\"MULTILOCK 070\",\"SENSOR FLAT 1.5\",\"RK\",\"DSQ 1.5 (0.6)\",\"DCS-2 2.8\",\"MP 4.8\",\"OCS 0.50\",\"Apex 2.8\",\"TAB 4.8\",\"040-II\",\"070\",\"090-II\",\"090\",\"GEN-Y 0.64 LEFT ORIENTED\",\"MQS 0.64 CB\",\"RK\",\"GEN-Y 0.64\",\"025 TH\",\"187 TS\",\"187 TS\",\"040 HX\",\"040 HX\",\"MCON 1.2 CB\",\"RK\",\"MQS 0.64\",\"Spring 0.64\",\"RK\",\"RK\",\"RK\",\"MCON 1.2\",\"Receptacle 2.8\",\"TAB 0.64\",\"MT2 1.6\",\"MCP 2.8\",\"MCP 2.8\",\"Receptacle 2.8\",\"UNI F630\",\"RK\",\"RK\",\"REM 0.64\",\"TAB 2.8\",\"JPT 2.8\",\"Multimate III+\",\"MIC II\",\"FASTON 6.3\",\"FASTON 6.3\",\"FASTON 6.3\",\"RK\",\"DIA 2.5\",\"RK\",\"FASTON 4.8\",\"RK\",\"JPT 2.8\",\"RK\",\"Multimate III+\",\"RK\",\"FASTON 6.3\",\"RK\",\"FASTON 6.3\",\"FASTON 6.3\",\"RK\",\"MATRIX 1.2\",\"050 DEW\",\"Spring 4.8\",\"Spring 6.3\",\"TAB 4.8\",\"Spring 6.3\",\"Spring 6.3\",\"Spring 6.3\",\"MICRO 1.0\",\"BOX 2.8\",\"CMC CP 0.64\",\"Multimate III+\",\"MP 8.0\",\"040 DL/TL/SL\",\"CMC CP 1.5\",\"RK 1.6\",\"BOX 4.8\",\"CMC CP 1.5\",\"DIA 3.0\",\"HES 1.0\",\"BOX 4.8\",\"MX 1.5\",\"TAB 1.5\",\"MATE-N-LOK\",\"MATE-N-LOK\",\"MATE-N-LOK\",\"PACK-CON\",\"HES 1.0\",\"HES 1.0\",\"DIA 1.5\",\"BOX 8.0\",\"TS 4.8\",\"040 HX\",\"Apex 1.5\",\"BOX 1.5\",\"RK\",\"TAB 1.0\",\"Apex 1.5\",\"BOX 8.0\",\"MP 1.5\",\"MP 2.8\",\"OCS 1.2\",\"MP 2.8\",\"MP 2.8\",\"SERIES 56\",\"MP 2.8\",\"MP 4.8\",\"PACK-CON III\",\"MP 2.8\",\"Spring 3.75\",\"MX 1.5L\",\"MX 1.5L\",\"RK\",\"Fuse Contact\",\"BOX 2.5\",\"MCON 1.2\",\"MCON 1.2\",\"MCON 1.2\",\"CTX 0.64\",\"FASTON 8.5\",\"CP 0.64\",\"MCP 2.8\",\"BULB SOCKET\",\"MQS 0.64\",\"Spring 2.8\",\"Spring 2.8\",\"CTX 0.64\",\"TAB 2.8\",\"MINI FIT\",\"25\",\"040-III\",\"040\",\"YESC 0.64\",\"OCS 0.64 ISM\",\"GT 2.8 FlexBeam\",\"MCON 1.2\",\"FASTON 4.8\",\"060\",\"CTS 2.8\",\"MT2 1.6\",\"RK\",\"FASTON 6.3\",\"CTX 2.8\",\"CTS 2.8\",\"TAB 8.0\",\"DSQ 1.5 (0.6)\",\"FASTON 2.0\",\"FASTON 2.0\",\"RK\",\"DSQ 1.5 (0.6)\",\"Spring 4.8\",\"BOX 2.3\",\"060 AWP\",\"TTS 1.5\",\"MQS 0.64\",\"RK\",\"TAB 2.3\",\"060 AWP\",\"FASTON 6.3\",\"BOX 1.5\",\"CTS 2.8\",\"MX 0.64\",\"MX 1.5\",\"FASTON 6.3\",\"Econoseal J 070\",\"250\",\"BOX 4.8\",\"FASTON 8.5\",\"MLK 1.2 Sm\",\"050\",\"MLK 1.2 Sm\",\"CTX 0.5\",\"110 WWP\",\"110 WWP\",\"110 WWP\",\"MATE-N-LOK\",\"DCS-2 2.8\",\"DuoTwin 0.64 CB\",\"DuoTwin 0.64 CB\",\"DCS-2 2.8\",\"Micro-Pack 1.0W\",\"FASTON 4.8\",\"RK\",\"RK\",\"TAB 2.8\",\"RK\",\"TAB 2.8\",\"RK\",\"FASTON 9.5\",\"FASTON 2.8\",\"SPT 6.3\",\"FASTON 8.5\",\"FASTON 6.3\",\"HDP-20 (Crimp Snap)\",\"FASTON 8.5\",\"RK\",\"MATE-N-LOK\",\"Multimate III+\",\"Spring 2.8\",\"MATE-N-LOK\",\"BOX 2.8\",\"TAB 2.8\",\"MULTILOCK 070-II\",\"MATE-N-LOK\",\"FASTON 6.3\",\"MATE-N-LOK\",\"MATE-N-LOK\",\"FASTON 2.8\",\"SLK 2.8\",\"FASTON 2.8\",\"MATE-N-LOK\",\"MATE-N-LOK\",\"MATE-N-LOK\",\"MATE-N-LOK\",\"FASTON 6.3\",\"FASTON 6.3\",\"FASTON 6.3\",\"FASTON 6.3\",\"FASTON 6.3\",\"FASTON 6.3\",\"MX 0.64\",\"PCB\",\"PCB\",\"GEN-Y 0.64 LEFT ORIENTED\",\"GEN-Y 0.64 LEFT ORIENTED\",\"MIC-P 1.0\",\"TAB 4.8\",\"TAB 4.8\",\"MP 2.8\",\"RK\",\"BOX 4.8\",\"RK\",\"RK\",\"BOX 6.3\",\"RK\",\"BOX 8.0\",\"BOX 4.8\",\"FPC 2.5\",\"Power Pack 20.0\",\"RK\",\"Spring 5.7\",\"DMS 2.8\",\"TAB 6.0\",\"250\",\"Fuse Contact\",\"250\",\"Spring 2.0\",\"090-I\",\"250\",\"305\",\"110\",\"187\",\"RK\",\"TAB 4.8\",\"040 LC\",\"HES 1.6\",\"MP 1.5\",\"HES 1.6\",\"OCS 1.2\",\"HES 1.6\",\"HES 1.6\",\"MP 1.5\",\"GT 2.8\",\"MP 4.8\",\"SERIES 56\",\"Spring 3.0\",\"FASTON 4.8\",\"GEN-Y 0.64 LEFT ORIENTED\",\"040 DL\",\"DIA 1.0\",\"RK\",\"RK\",\"RK\",\"TAB 1.2\",\"BOX 4.8\",\"RK\",\"RK\",\"MCON 0.5 CB\",\"FASTON 6.3\",\"MATE-N-LOK\",\"Sicma 2.8\",\"MCP 2.8 CB\",\"MX 1.5\",\"MX 1.5\",\"Multimate III+\",\"RK\",\"RK\",\"Multimate III+\",\"MX 1.5\",\"SLK 2.8\",\"Spring 4.0\",\"MULTILOCK 040\",\"MCS 1.8\",\"HV 6.3\",\"R41\",\"R41\",\"060 TS\",\"060 TS\",\"060 TS\",\"060 TS\",\"FASTON 6.3\",\"Econoseal J 070\",\"MX 1.5\",\"Apex 1.2\",\"SNAP LOCK\",\"MX 1.5\",\"TAB 1.5\",\"Spring 2.0\",\"Sicma-2 2.8\",\"AIT2 0.64\",\"MIC II\",\"FASTON 4.8\",\"Mini-Fit Plus\",\"2.8\",\"MLK 1.2\",\"FASTON 4.8\",\"FASTIN-FASTON 6.3\",\"FASTON 6.3\",\"MATRIX 1.2 CB\",\"MATRIX 1.2 CB\",\"POSITIVE LOCK EX Series 6.3\",\"BOX 1.5\",\"BCB 0.6\",\"RK\",\"MTS 0.64\",\"FASTON 6.3\",\"060\",\"BOX 8.0\",\"250\",\"060\",\"090\",\"250\",\"030\",\"060\",\"060\",\"060\",\"060\",\"BOX 1.5\",\"060\",\"025\",\"025\",\"025\",\"HVC\",\"BOX 1.5\",\"060\",\"060\",\"ML 0.70\",\"187\",\"060\",\"060\",\"OCS 1.2\",\"2.8\",\"MATE-N-LOK\",\"BTL 2.8\",\"TAB 2.5\",\"BOX 2.5\",\"DIA 2.5\",\"OCS 1.2\",\"OCS 1.2\",\"OCS 1.2\",\"OCS 1.2\",\"OCS 1.2\",\"OCS 1.2\",\"CTX 64\",\"MLK 1.2\",\"MLK 1.2\",\"OCS 1.2\",\"GT 280\",\"CTX 0.64\",\"BOX 0.64\",\"090\",\"AFK 1.5\",\"Fuse Contact\",\"1.5\",\"1.5\",\"GT 1.5\",\"070\",\"090\",\"MQ 0.6\",\"MX34 1.5\",\"MT2 1.6\",\"1.5\",\"MQ 0.6\",\"GT 1.5\",\"MP 1.5\",\"OCS 1.5\",\"Sicma-3 2.8\",\"DCS-2 1.5\",\"SNAP LOCK\",\"MPQ 2.8\",\"OCS 0.64 IUR\",\"2.8\",\"OCS 1.5\",\"250\",\"0.64\",\"RK 1.0\",\"GET 0.64\",\"0.64\",\"FASTON 205\",\"BOX 2.8\",\"RK 1.6\",\"0.64\",\"DIA 0.6\",\"IL-AG5 0.64\",\"1.2\",\"1.2\",\"TAK50\",\"CTX 0.64\",\"0.64\",\"1.2\",\"GTS 0.64\",\"BOX 1.2\",\"OCS 0.64 IDR\",\"025 TH\",\"040\",\"MINI F280\",\"0.64\",\"0.64\",\"0.64\",\"RK\",\"1.2\",\"MICRO FIT 3.0\",\"FASTIN-FASTON 4.8\",\"OCS 1.2\",\"0.64\",\"MLK 1.2\",\"MLK 1.2\",\"1.5\",\"1.5\",\"1.5\",\"1.5\",\"2.8\",\"MLK 1.2\",\"Apex 2.8\",\"MCP 1.5\",\"MINI FIT\",\"MINI FIT\",\"090\",\"090\",\"TAB 2.8\",\"TAB 2.8\",\"DCK 1.5\",\"0.64\",\"0.64\",\"BOX 4.8\",\"070\",\"2.8\",\"2.8\",\"0.64\",\"YESC 1.5\",\"CTX 0.64\",\"JPTA 2.8\",\"6.3\",\"280\",\"MLK 1.2\",\"MLK 1.2\",\"MLK 1.2\",\"MINI FIT\",\"Multimate III+\",\"MINI FIT\",\"MIC I\",\"MULTILOCK 025\",\"MINI FIT\",\"BOX 4.8\",\"MIC I\",\"SENSOR FLAT 1.5\",\"SENSOR FLAT 1.5\",\"OCS 1.5\",\"GTS 0.64\",\"GTS 0.64\",\"NanoMQS\",\"110\",\"CTX 0.5\",\"MULTILOCK 040\",\"BOX 0.64\",\"MQS 1.2\",\"BOX 0.64\",\"BOX 0.64\",\"MINI FIT\",\"1.5\",\"0.64\",\"AMPMODU 100\",\"BOX 2.8\",\"NanoMQS\",\"NanoMQS\",\"MCP 2.8\",\"FASTON 4.8\",\"NanoMQS\",\"GTS 0.64\",\"OCS 1.2\",\"SL 1.4\",\"BOX 0.64\",\"BOX 0.64\",\"0.64\",\"OCS 1.5\",\"MLK 1.2\",\"MLK 1.2\",\"YESC 1.5\",\"MINI FIT\",\"MINI FIT\",\"GT 1.5\",\"OCS 1.2\",\"OCS 1.2\",\"TAB 2.8\",\"OCS 1.2\",\"YESC 1.5\",\"YESC 1.5\",\"YESC 1.5\",\"AMPMODU 100\",\"OCS 1.2\",\"MIC I\",\"RK 1.0\",\"025\",\"060\",\"060\",\"FASTON 2.8\",\"MPQ 2.8\",\"Apex 2.8\",\"MPQ 2.8\",\"MPQ 2.8\",\"RK\",\"GTS-3 1.5\",\"TAB 2.8\",\"050\",\"MPQ 2.8\",\"MPQ 2.8\",\"RK\",\"Sicma-4 1.5\",\"MCON 1.2 CB\",\"BOX 2.8\",\"040 WP\",\"NanoMQS\",\"025 TH\",\"Sicma-3plus 1.5\",\"RK 1.0\",\"RK\",\"020\",\"MICRO 0.64\",\"090\",\"GEN-Y 0.64\",\"MT3 1.6\",\"MCON 1.2\",\"Apex 0.64\",\"090\",\"090\",\"060\",\"060\",\"GEN-Y 0.64\",\"070\",\"RK\",\"MLK 1.2\",\"Apex 1.2\",\"MCON 1.2 CB\",\"1.5\",\"FASTON 2.8\",\"RK 1.0\",\"GTS 1.5\",\"RK\",\"2.8\",\"RK\",\"CP 2.8\",\"Fuse Contact\",\"Fuse Contact\",\"MATE-N-LOK\",\"JPT 2.8\",\"FASTON 2.8\",\"FASTIN-FASTON 2.8\",\"MCON 1.2 CB\",\"MT2 1.6\",\"BOX 0.5\",\"040\",\"4.8\",\"MP 1.5\",\"JPT 2.8\",\"SENSOR FLAT 1.5\",\"Micro MATE-N-LOK\",\"HPF 1.2\",\"BOX 1.2\",\"BOX 1.2\",\"MATE-N-LOK\",\"CTX 2.8\",\"MULTILOCK 090-III\",\"MULTILOCK 090-II\",\"090-II\",\"BOX 1.2\",\"MLK 1.2\",\"MQS 0.64\",\"JPT 2.8\",\"2.8\",\"JPT 2.8\",\"JPT 2.8\",\"MULTILOCK 090-II\",\"MULTILOCK 090 II\",\"MULTILOCK 040-III\",\"MULTILOCK 090-III\",\"JPT 2.8\",\"MT2 1.6\",\"JPT 2.8\",\"MCP 2.8\",\"JPT 2.8\",\"JPT 2.8\",\"TAB 1.6\",\"JPT 2.8\",\"TAB 2.8\",\"TAB 2.8\",\"JPT 2.8\",\"SUPERSEAL 1.5\",\"MQS 0.64 CB\",\"MCON 1.2\",\"MCON 1.2\",\"MCON 1.2 CB\",\"MCON 1.2 CB\",\"MCON 1.2 CB\",\"MT3 1.6\",\"JPT 2.8\",\"ELO 0.64\",\"MCON 1.2\",\"BOX 1.2\",\"MCON 1.2 CB\",\"AFK 2.8\",\"AFK 2.8\",\"Spring 2.8\",\"AIT2 0.64\",\"AIT2 0.64\",\"AIT2 0.64\",\"MCP 1.5K (0.6)\",\"MCP 1.5K (0.6)\",\"MT3 1.6\",\"MCP 1.5\",\"MCP 2.8\",\"MCP 2.8K\",\"MCP 2.8\",\"MCP 2.8K\",\"MCP 2.8K\",\"MCP 2.8\",\"MCP 2.8K\",\"MCP 2.8K\",\"MCP 2.8\",\"MCP 2.8K\",\"MCP 1.5K (0.6)\",\"MCP 1.5K (0.6)\",\"MCP 1.5K (0.6)\",\"MCP 1.5K (0.6)\",\"MCP 2.8K\",\"MCP 2.8K\",\"MCP 2.8K\",\"MCP 2.8K\",\"GEN-Y 0.64 LEFT ORIENTED\",\"MLK 1.2\",\"MLK 1.2\",\"MX 1.5\",\"MX 1.5\",\"MX 1.5\",\"Apex 2.8\",\"MLK 1.2\",\"MML 0.8\",\"MMC 1.5\",\"MQS 0.64\",\"MLK 1.2 Sm\",\"MP 2.8 US\",\"MP 2.8 US\",\"DCS-2 2.8\",\"MLK 1.2\",\"MLK 1.2\",\"MLK 1.2\",\"MLK 1.2\",\"MLK 1.2\",\"MLK 1.2\",\"MLK 1.2\",\"MLK 1.2\",\"MLK 1.2\",\"MLK 1.2 Sm\",\"MLK 1.2\",\"MLK 1.2 Sm\",\"MLK 1.2 Sm\",\"MLK 1.2 Sm\",\"MLK 1.2\",\"MLK 1.2 Sm\",\"MLK 1.2 Sm\",\"MLK 1.2\",\"SIKO1 6.3\",\"MLK 1.2 Sm\",\"MLK 1.2 Sm\",\"MLK 1.2 Sm\",\"MLK 1.2\",\"MLK 1.2 Sm\",\"MLK 1.2 Sm\",\"MSK 0.64\",\"YESC 2.8\",\"1.5\",\"MQS 0.64 CB\",\"YESC 2.8\",\"MCON 1.2\",\"MCON 1.2\",\"US 2.8x0.8\",\"YESC 2.8\",\"YESC 2.8\",\"YESC 2.8\",\"US 2.8x0.8\",\"MCP 1.5K (0.6)\",\"Apex 2.8\",\"MX 1.5\",\"MINI FIT\",\"NanoMQS\",\"HCM 0.64\",\"MCON 1.2\",\"MCP 1.5K (0.6)\",\"HPF 1.5\",\"MP 1.5\",\"US 1.5x0.8\",\"US 1.5x0.8\",\"MT2 1.6\",\"MP 1.5\",\"JPT 2.8\",\"ELO 0.64\",\"ELO 0.64\",\"ELO 0.64\",\"ELO Power 2.8\",\"FASTON 4.8\",\"BDK 2.8\",\"MQS 0.64\",\"MULTILOCK 070\",\"MCON 1.2\",\"MT2 1.6\",\"MT1 1.6\",\"MULTILOCK 070\",\"Econoseal J 070\",\"RK\",\"RK 1.0\",\"RK 1.0\",\"Econoseal J 070\",\"MX 1.5\",\"MQS 0.64\",\"GT 2.8\",\"MULTILOCK 040\",\"Receptacle 2.8\",\"Spring 2.8\",\"Econoseal J 070\",\"Sicma-2 2.8\",\"Sicma-2 2.8\",\"AFK 4.8\",\"JPT 2.8\",\"MT2 1.6\",\"MT2 1.6\",\"MT2A 1.6\",\"MT2A 1.6\",\"MT2 1.6\",\"JPTA 2.8\",\"JPT 2.8\",\"JPT 2.8\",\"JPT 2.8\",\"JPT 2.8\",\"MT2 1.6\",\"JPT 2.8\",\"JPT 2.8\",\"JPT 2.8\",\"MT2 1.6\",\"JPT 2.8\",\"MT2 1.6\",\"JPT 2.8\",\"SLK 2.8\",\"SLK 2.8\",\"MCP 1.5\",\"GT 1.5\",\"PQ 5.6\",\"MP 2.8\",\"GT 2.8\",\"ELO 0.64\",\"GT 1.5\",\"GT 1.5\",\"SLK 2.8\",\"SLK 2.8\",\"MP 1.5 v2\",\"JPT 2.8\",\"MT2 1.6\",\"AFS 2.8\",\"AFS 2.8\",\"DCS-2 1.5\",\"DCS-2 1.5\",\"AFS 2.8\",\"AFS 4.8\",\"DCS-2 1.5\",\"DCS-2 1.5\",\"AFS 4.8\",\"AFS 1.5\",\"AFK 1.5\",\"AFS 1.5\",\"AFS 1.5\",\"MAK 1.5\",\"AFS 1.5\",\"AFS 1.5\",\"MAK 1.5\",\"MT2 1.6\",\"YESC 1.5\",\"040-III\",\"TAB 2.8\",\"AFK 2.8\",\"AFK 2.8\",\"AFK 4.8\",\"AFK 4.8\",\"AFK 1.5\",\"SLK 2.8\",\"FASTIN-FASTON 4.8\",\"SLK 2.8\",\"MQ 0.6\",\"MQ 0.6\",\"SLK 2.8\",\"HPCS 2.8\",\"HPCS 2.8\",\"HPCS 2.8\",\"090-II\",\"POSITIVE LOCK EX Series 4.8\",\"YESC 1.5\",\"SSC 1.5\",\"MCP 2.8\",\"MCP 2.8\",\"MCP 2.8\",\"MCP 2.8\",\"Spring 2.8\",\"DCS-2 1.5\",\"DCS-2 1.5\",\"090\",\"HPCS 2.8\",\"DCS-2 2.8\",\"DuoTwin 0.64 CB\",\"MCP 2.8\",\"SUPERSEAL 1.5\",\"0.64\",\"Sicma-2 1.5\",\"Sicma-2 1.5\",\"HPCS 2.8\",\"Sicma-3 1.5\",\"BOX 0.64\",\"SUPERSEAL 1.5\",\"MCP 1.5\",\"JPT 2.8\",\"MLK 1.2\",\"MLK 1.2\",\"MQS 0.64\",\"MAK 2.8\",\"MAK 1.5\",\"MCP 1.5K (0.6)\",\"MMC 1.5\",\"GT 2.8\",\"ELO Power 2.8\",\"MT2 1.6\",\"TAB 2.8\",\"DCS-2 1.5\",\"GT 2.8\",\"MP 1.5\",\"GT 1.5\",\"MAK 2.8\",\"GT 1.5\",\"GT 1.5\",\"GT 1.5\",\"GT 2.8\",\"GT 2.8\",\"GT 2.8\",\"GT 2.8\",\"GT 2.8\",\"MQS 0.64\",\"MQS 0.64\",\"MLK 1.2 Sm\",\"MCON 1.2 CB\",\"MCON 1.2 CB\",\"GET 0.64\",\"MPQ 2.8\",\"MCON 1.2 CB\",\"BOX 0.64\",\"MTS 0.64\",\"MTS 0.64\",\"PQ 5.2\",\"PQ 5.6\",\"090-II\",\"GEN-Y 0.64 BOTTOM ORIENTED\",\"MX34 0.64\",\"MX34 0.64\",\"Apex 1.5\",\"MLK 1.2\",\"MLK 1.2\",\"MLK 1.2\",\"MLK 1.2\",\"MLK 1.2\",\"MLK 1.2 Sm\",\"MLK 1.2 Sm\",\"GT 2.8\",\"GT 1.5\",\"MCON 1.2\",\"Apex 2.8\",\"DSQ 2.8\",\"Apex 2.8\",\"DSQ 2.8\",\"OCS 0.64 ISM\",\"GT 1.5\",\"DFK4 4.8\",\"040 HX\",\"MDK3\",\"FASTON 2.8\",\"AIT2 0.64\",\"AIT2 0.64\",\"NAC 2.8\",\"NAC-III 0.64\",\"NAC-III 0.64\",\"MT3 1.6\",\"MT3 1.6\",\"MQS 1.5\",\"MQS 1.5\",\"MQS 0.64\",\"MP 2.8\",\"FASTON 2.8\",\"Faston 2.8\",\"JPT 2.8\",\"JPT 2.8\",\"BOX 2.5\",\"JPT 2.8\",\"JPT 2.8\",\"MP 1.5\",\"YESC 1.5\",\"MCON 1.2\",\"YESC Kaizen 0.64\",\"US 1.5\",\"US 2.8x0.8\",\"CI 2 1.6\",\"Apex 2.8\",\"Apex 2.8\",\"GET 0.64\",\"MOD IV\",\"GEN-Y 0.64\",\"TAB 1.6\",\"Spring 4.8\",\"GET 0.64\",\"FASTON 6.3\",\"PH\",\"JPT 2.8\",\"JPT 2.8\",\"GT 1.5 FlexBeam\",\"JPT 2.8\",\"JPT 2.8\",\"TAB 2.8\",\"JPT 2.8\",\"MULTILOCK 040\",\"JPT 2.8\",\"JPT 2.8\",\"FASTON 2.8\",\"MATRIX 1.2\",\"ELO 0.64 SCB\",\"ELO 0.64\",\"FASTON 4.8\",\"JPT 2.8\",\"JPT 2.8\",\"JPT 2.8\",\"DCS-1 4.8\",\"DCS-1 4.8\",\"Ducon 2.8\",\"JPT 2.8\",\"MP 1.5\",\"JPT 2.8\",\"MX 1.5\",\"FASTON 2.8\",\"Ducon 2.8\",\"TAB 2.8\",\"FASTON 2.8\",\"MT3 1.6\",\"JPT 2.8\",\"FASTON 2.8\",\"JPT 2.8\",\"JPT 2.8\",\"JPT 2.8\",\"JPT 2.8\",\"TAB 2.8\",\"DIA 2.5\",\"Ducon 0.8\",\"MIC-P 0.64\",\"MP 4.8\",\"Ducon 0.8\",\"MP 1.5\",\"MP 1.5\",\"MP 2.8\",\"GET 0.64\",\"MP 1.5\",\"Ducon 2.8\",\"BULB SOCKET\",\"Ducon 0.8\",\"ELO 0.64\",\"MP 1.5\",\"TAB 2.8\",\"DCS-2 2.8\",\"DCS-2 2.8\",\"AFK 4.8\",\"SLK 2.8\",\"SLK 2.8\",\"SLK 2.8\",\"MIC II\",\"Ducon 2.8\",\"SLK 2.8\",\"AFK 2.8\",\"MP 1.5\",\"MP 1.5\",\"SLK 2.8\",\"SLK 2.8\",\"SLK 2.8\",\"DCS-2 2.8\",\"DCS-2 2.8\",\"DCS-2 2.8\",\"MT3 1.6\",\"RK\",\"MIC II\",\"090-II\",\"MCP 2.8\",\"UNI F630\",\"YESC 1.5\",\"PQ 5.6\",\"MCP 2.8\",\"MCP 2.8\",\"MPQ 2.8\",\"GT 1.5\",\"GT 1.5\",\"GT 1.5\",\"GT 1.5\",\"IL-AG5 0.64\",\"HPCS 2.8\",\"DCS-2 1.5\",\"SENSOR FLAT 2.8\",\"DCS-2 2.8\",\"MIC II\",\"FASTON 2.8\",\"TAB 2.8\",\"MCP 2.8\",\"MULTILOCK 040-II\",\"GET 0.64\",\"DCS-2 1.5\",\"DCS-2 1.5\",\"GT 1.5\",\"DCS-2 1.5\",\"DCS 1.5\",\"GT 1.5\",\"GT 2.8\",\"MQS 1.0\",\"MQS 1.0\",\"MT1 1.6\",\"MQS 0.64\",\"CTS 1.5\",\"DSQ 1.5 (0.6)\",\"DSQ 1.5 (0.6)\",\"DSQ 1.5 (0.6)\",\"090 HE\",\"MPQ 2.8\",\"0.64\",\"040 WP\",\"MQS 0.64 FFC long\",\"PicoBlade 1.25\",\"CI 2 1.6\",\"DCS-2 1.5\",\"MLK 1.2\",\"MT2 1.6\",\"JPT 2.8\",\"AFS 2.8\",\"DCS-2 2.8\",\"AFK 1.5\",\"AFK 1.5\",\"AFK 1.5\",\"DCS-2 2.8\",\"MP 1.5\",\"Ducon 0.8\",\"ELO 0.64\",\"Ducon 2.8\",\"Ducon 1.5\",\"POSITIVE LOCK Mark III 4.8\",\"HPCS 2.8\",\"DCS-2 2.8\",\"DCS-2 2.8\",\"DCS-2 2.8\",\"Sicma-3 1.5\",\"Sicma-3 2.8\",\"MQS 0.64\",\"MQS 0.64\",\"ELO 0.64 SCB\",\"Ducon 1.5\",\"Ducon 1.5\",\"Ducon 1.5\",\"Ducon 2.8\",\"VF 2.8\",\"Ducon 4.8\",\"DuoTwin 0.64\",\"FASTON 4.8\",\"CI 2 1.6\",\"DCS 6.3\",\"MLK 1.2\",\"090 DL/TL/SL\",\"1.5\",\"FASTON 2.8\",\"MTS-II 0.64\",\"CTX 2.8\",\"CTS 2.8\",\"BTS 2.8\",\"BTS 2.8\",\"BTS 2.8\",\"JPT 2.8\",\"OCS 1.2\",\"OCS 1.2\",\"OCS 1.2\",\"OCS 1.2\",\"Sicma-3 2.8\",\"4.8\",\"TAB 1.6\",\"4.8\",\"JPT 2.8\",\"Micro MATE-N-LOK\",\"MQS 0.64\",\"MQS 0.64\",\"BOX 1.2\",\"DCS-2 1.5\",\"CTX 1.5\",\"CTX 1.5\",\"CTX 1.5\",\"CTX 2.8\",\"MCP 1.5K (0.6)\",\"DCS 2.8\",\"MCON 1.2 CB\",\"SENSOR FLAT 1.5\",\"SENSOR FLAT 1.5\",\"1.2\",\"MCP 2.8\",\"NanoMQS\",\"MQS 0.64\",\"MQS 0.64\",\"MQS 0.64\",\"Apex 2.8\",\"POSITIVE LOCK Mark III\",\"MULTILOCK 040-III\",\"MQS 0.64\",\"GT 1.5\",\"AFK 4.8\",\"SUPERSEAL 1.0\",\"FASTON 5.0\",\"025 TH\",\"MCON 1.2\",\"RH 0.64\",\"RH 0.64\",\"YESC 1.5\",\"YESC Kaizen 2.8\",\"RH 0.64\",\"RK\",\"RK\",\"RK\",\"RK\",\"RK\",\"RK\",\"RK\",\"RK\",\"RK\",\"RK\",\"MOD\",\"JPT 2.8\",\"HSD\",\"MQS 0.64\",\"MQS 0.64\",\"RK\",\"RK\",\"MCON 1.2\",\"TAB 1.6\",\"RK\",\"FASTON 2.8\"],\"xaxis\":\"x\",\"yaxis\":\"y\",\"type\":\"histogram\"}],                        {\"template\":{\"data\":{\"bar\":[{\"error_x\":{\"color\":\"#2a3f5f\"},\"error_y\":{\"color\":\"#2a3f5f\"},\"marker\":{\"line\":{\"color\":\"#E5ECF6\",\"width\":0.5},\"pattern\":{\"fillmode\":\"overlay\",\"size\":10,\"solidity\":0.2}},\"type\":\"bar\"}],\"barpolar\":[{\"marker\":{\"line\":{\"color\":\"#E5ECF6\",\"width\":0.5},\"pattern\":{\"fillmode\":\"overlay\",\"size\":10,\"solidity\":0.2}},\"type\":\"barpolar\"}],\"carpet\":[{\"aaxis\":{\"endlinecolor\":\"#2a3f5f\",\"gridcolor\":\"white\",\"linecolor\":\"white\",\"minorgridcolor\":\"white\",\"startlinecolor\":\"#2a3f5f\"},\"baxis\":{\"endlinecolor\":\"#2a3f5f\",\"gridcolor\":\"white\",\"linecolor\":\"white\",\"minorgridcolor\":\"white\",\"startlinecolor\":\"#2a3f5f\"},\"type\":\"carpet\"}],\"choropleth\":[{\"colorbar\":{\"outlinewidth\":0,\"ticks\":\"\"},\"type\":\"choropleth\"}],\"contour\":[{\"colorbar\":{\"outlinewidth\":0,\"ticks\":\"\"},\"colorscale\":[[0.0,\"#0d0887\"],[0.1111111111111111,\"#46039f\"],[0.2222222222222222,\"#7201a8\"],[0.3333333333333333,\"#9c179e\"],[0.4444444444444444,\"#bd3786\"],[0.5555555555555556,\"#d8576b\"],[0.6666666666666666,\"#ed7953\"],[0.7777777777777778,\"#fb9f3a\"],[0.8888888888888888,\"#fdca26\"],[1.0,\"#f0f921\"]],\"type\":\"contour\"}],\"contourcarpet\":[{\"colorbar\":{\"outlinewidth\":0,\"ticks\":\"\"},\"type\":\"contourcarpet\"}],\"heatmap\":[{\"colorbar\":{\"outlinewidth\":0,\"ticks\":\"\"},\"colorscale\":[[0.0,\"#0d0887\"],[0.1111111111111111,\"#46039f\"],[0.2222222222222222,\"#7201a8\"],[0.3333333333333333,\"#9c179e\"],[0.4444444444444444,\"#bd3786\"],[0.5555555555555556,\"#d8576b\"],[0.6666666666666666,\"#ed7953\"],[0.7777777777777778,\"#fb9f3a\"],[0.8888888888888888,\"#fdca26\"],[1.0,\"#f0f921\"]],\"type\":\"heatmap\"}],\"heatmapgl\":[{\"colorbar\":{\"outlinewidth\":0,\"ticks\":\"\"},\"colorscale\":[[0.0,\"#0d0887\"],[0.1111111111111111,\"#46039f\"],[0.2222222222222222,\"#7201a8\"],[0.3333333333333333,\"#9c179e\"],[0.4444444444444444,\"#bd3786\"],[0.5555555555555556,\"#d8576b\"],[0.6666666666666666,\"#ed7953\"],[0.7777777777777778,\"#fb9f3a\"],[0.8888888888888888,\"#fdca26\"],[1.0,\"#f0f921\"]],\"type\":\"heatmapgl\"}],\"histogram\":[{\"marker\":{\"pattern\":{\"fillmode\":\"overlay\",\"size\":10,\"solidity\":0.2}},\"type\":\"histogram\"}],\"histogram2d\":[{\"colorbar\":{\"outlinewidth\":0,\"ticks\":\"\"},\"colorscale\":[[0.0,\"#0d0887\"],[0.1111111111111111,\"#46039f\"],[0.2222222222222222,\"#7201a8\"],[0.3333333333333333,\"#9c179e\"],[0.4444444444444444,\"#bd3786\"],[0.5555555555555556,\"#d8576b\"],[0.6666666666666666,\"#ed7953\"],[0.7777777777777778,\"#fb9f3a\"],[0.8888888888888888,\"#fdca26\"],[1.0,\"#f0f921\"]],\"type\":\"histogram2d\"}],\"histogram2dcontour\":[{\"colorbar\":{\"outlinewidth\":0,\"ticks\":\"\"},\"colorscale\":[[0.0,\"#0d0887\"],[0.1111111111111111,\"#46039f\"],[0.2222222222222222,\"#7201a8\"],[0.3333333333333333,\"#9c179e\"],[0.4444444444444444,\"#bd3786\"],[0.5555555555555556,\"#d8576b\"],[0.6666666666666666,\"#ed7953\"],[0.7777777777777778,\"#fb9f3a\"],[0.8888888888888888,\"#fdca26\"],[1.0,\"#f0f921\"]],\"type\":\"histogram2dcontour\"}],\"mesh3d\":[{\"colorbar\":{\"outlinewidth\":0,\"ticks\":\"\"},\"type\":\"mesh3d\"}],\"parcoords\":[{\"line\":{\"colorbar\":{\"outlinewidth\":0,\"ticks\":\"\"}},\"type\":\"parcoords\"}],\"pie\":[{\"automargin\":true,\"type\":\"pie\"}],\"scatter\":[{\"marker\":{\"colorbar\":{\"outlinewidth\":0,\"ticks\":\"\"}},\"type\":\"scatter\"}],\"scatter3d\":[{\"line\":{\"colorbar\":{\"outlinewidth\":0,\"ticks\":\"\"}},\"marker\":{\"colorbar\":{\"outlinewidth\":0,\"ticks\":\"\"}},\"type\":\"scatter3d\"}],\"scattercarpet\":[{\"marker\":{\"colorbar\":{\"outlinewidth\":0,\"ticks\":\"\"}},\"type\":\"scattercarpet\"}],\"scattergeo\":[{\"marker\":{\"colorbar\":{\"outlinewidth\":0,\"ticks\":\"\"}},\"type\":\"scattergeo\"}],\"scattergl\":[{\"marker\":{\"colorbar\":{\"outlinewidth\":0,\"ticks\":\"\"}},\"type\":\"scattergl\"}],\"scattermapbox\":[{\"marker\":{\"colorbar\":{\"outlinewidth\":0,\"ticks\":\"\"}},\"type\":\"scattermapbox\"}],\"scatterpolar\":[{\"marker\":{\"colorbar\":{\"outlinewidth\":0,\"ticks\":\"\"}},\"type\":\"scatterpolar\"}],\"scatterpolargl\":[{\"marker\":{\"colorbar\":{\"outlinewidth\":0,\"ticks\":\"\"}},\"type\":\"scatterpolargl\"}],\"scatterternary\":[{\"marker\":{\"colorbar\":{\"outlinewidth\":0,\"ticks\":\"\"}},\"type\":\"scatterternary\"}],\"surface\":[{\"colorbar\":{\"outlinewidth\":0,\"ticks\":\"\"},\"colorscale\":[[0.0,\"#0d0887\"],[0.1111111111111111,\"#46039f\"],[0.2222222222222222,\"#7201a8\"],[0.3333333333333333,\"#9c179e\"],[0.4444444444444444,\"#bd3786\"],[0.5555555555555556,\"#d8576b\"],[0.6666666666666666,\"#ed7953\"],[0.7777777777777778,\"#fb9f3a\"],[0.8888888888888888,\"#fdca26\"],[1.0,\"#f0f921\"]],\"type\":\"surface\"}],\"table\":[{\"cells\":{\"fill\":{\"color\":\"#EBF0F8\"},\"line\":{\"color\":\"white\"}},\"header\":{\"fill\":{\"color\":\"#C8D4E3\"},\"line\":{\"color\":\"white\"}},\"type\":\"table\"}]},\"layout\":{\"annotationdefaults\":{\"arrowcolor\":\"#2a3f5f\",\"arrowhead\":0,\"arrowwidth\":1},\"autotypenumbers\":\"strict\",\"coloraxis\":{\"colorbar\":{\"outlinewidth\":0,\"ticks\":\"\"}},\"colorscale\":{\"diverging\":[[0,\"#8e0152\"],[0.1,\"#c51b7d\"],[0.2,\"#de77ae\"],[0.3,\"#f1b6da\"],[0.4,\"#fde0ef\"],[0.5,\"#f7f7f7\"],[0.6,\"#e6f5d0\"],[0.7,\"#b8e186\"],[0.8,\"#7fbc41\"],[0.9,\"#4d9221\"],[1,\"#276419\"]],\"sequential\":[[0.0,\"#0d0887\"],[0.1111111111111111,\"#46039f\"],[0.2222222222222222,\"#7201a8\"],[0.3333333333333333,\"#9c179e\"],[0.4444444444444444,\"#bd3786\"],[0.5555555555555556,\"#d8576b\"],[0.6666666666666666,\"#ed7953\"],[0.7777777777777778,\"#fb9f3a\"],[0.8888888888888888,\"#fdca26\"],[1.0,\"#f0f921\"]],\"sequentialminus\":[[0.0,\"#0d0887\"],[0.1111111111111111,\"#46039f\"],[0.2222222222222222,\"#7201a8\"],[0.3333333333333333,\"#9c179e\"],[0.4444444444444444,\"#bd3786\"],[0.5555555555555556,\"#d8576b\"],[0.6666666666666666,\"#ed7953\"],[0.7777777777777778,\"#fb9f3a\"],[0.8888888888888888,\"#fdca26\"],[1.0,\"#f0f921\"]]},\"colorway\":[\"#636efa\",\"#EF553B\",\"#00cc96\",\"#ab63fa\",\"#FFA15A\",\"#19d3f3\",\"#FF6692\",\"#B6E880\",\"#FF97FF\",\"#FECB52\"],\"font\":{\"color\":\"#2a3f5f\"},\"geo\":{\"bgcolor\":\"white\",\"lakecolor\":\"white\",\"landcolor\":\"#E5ECF6\",\"showlakes\":true,\"showland\":true,\"subunitcolor\":\"white\"},\"hoverlabel\":{\"align\":\"left\"},\"hovermode\":\"closest\",\"mapbox\":{\"style\":\"light\"},\"paper_bgcolor\":\"white\",\"plot_bgcolor\":\"#E5ECF6\",\"polar\":{\"angularaxis\":{\"gridcolor\":\"white\",\"linecolor\":\"white\",\"ticks\":\"\"},\"bgcolor\":\"#E5ECF6\",\"radialaxis\":{\"gridcolor\":\"white\",\"linecolor\":\"white\",\"ticks\":\"\"}},\"scene\":{\"xaxis\":{\"backgroundcolor\":\"#E5ECF6\",\"gridcolor\":\"white\",\"gridwidth\":2,\"linecolor\":\"white\",\"showbackground\":true,\"ticks\":\"\",\"zerolinecolor\":\"white\"},\"yaxis\":{\"backgroundcolor\":\"#E5ECF6\",\"gridcolor\":\"white\",\"gridwidth\":2,\"linecolor\":\"white\",\"showbackground\":true,\"ticks\":\"\",\"zerolinecolor\":\"white\"},\"zaxis\":{\"backgroundcolor\":\"#E5ECF6\",\"gridcolor\":\"white\",\"gridwidth\":2,\"linecolor\":\"white\",\"showbackground\":true,\"ticks\":\"\",\"zerolinecolor\":\"white\"}},\"shapedefaults\":{\"line\":{\"color\":\"#2a3f5f\"}},\"ternary\":{\"aaxis\":{\"gridcolor\":\"white\",\"linecolor\":\"white\",\"ticks\":\"\"},\"baxis\":{\"gridcolor\":\"white\",\"linecolor\":\"white\",\"ticks\":\"\"},\"bgcolor\":\"#E5ECF6\",\"caxis\":{\"gridcolor\":\"white\",\"linecolor\":\"white\",\"ticks\":\"\"}},\"title\":{\"x\":0.05},\"xaxis\":{\"automargin\":true,\"gridcolor\":\"white\",\"linecolor\":\"white\",\"ticks\":\"\",\"title\":{\"standoff\":15},\"zerolinecolor\":\"white\",\"zerolinewidth\":2},\"yaxis\":{\"automargin\":true,\"gridcolor\":\"white\",\"linecolor\":\"white\",\"ticks\":\"\",\"title\":{\"standoff\":15},\"zerolinecolor\":\"white\",\"zerolinewidth\":2}}},\"xaxis\":{\"anchor\":\"y\",\"domain\":[0.0,1.0],\"title\":{\"text\":\"Contact System\"}},\"yaxis\":{\"anchor\":\"x\",\"domain\":[0.0,1.0],\"title\":{\"text\":\"count\"}},\"legend\":{\"tracegroupgap\":0},\"margin\":{\"t\":60},\"barmode\":\"relative\"},                        {\"responsive\": true}                    ).then(function(){\n",
              "                            \n",
              "var gd = document.getElementById('1a218aa9-3c17-4df7-a751-5814cc97d2a2');\n",
              "var x = new MutationObserver(function (mutations, observer) {{\n",
              "        var display = window.getComputedStyle(gd).display;\n",
              "        if (!display || display === 'none') {{\n",
              "            console.log([gd, 'removed!']);\n",
              "            Plotly.purge(gd);\n",
              "            observer.disconnect();\n",
              "        }}\n",
              "}});\n",
              "\n",
              "// Listen for the removal of the full notebook cells\n",
              "var notebookContainer = gd.closest('#notebook-container');\n",
              "if (notebookContainer) {{\n",
              "    x.observe(notebookContainer, {childList: true});\n",
              "}}\n",
              "\n",
              "// Listen for the clearing of the current output cell\n",
              "var outputEl = gd.closest('.output');\n",
              "if (outputEl) {{\n",
              "    x.observe(outputEl, {childList: true});\n",
              "}}\n",
              "\n",
              "                        })                };                            </script>        </div>\n",
              "</body>\n",
              "</html>"
            ]
          },
          "metadata": {}
        }
      ]
    },
    {
      "cell_type": "code",
      "execution_count": null,
      "metadata": {
        "colab": {
          "base_uri": "https://localhost:8080/"
        },
        "id": "NePpfkH6KQuC",
        "outputId": "d6c7f535-689d-45b9-c584-aed1c97c2b26"
      },
      "outputs": [
        {
          "output_type": "execute_result",
          "data": {
            "text/plain": [
              "Index(['Leoni Part Number', 'Contact System', 'Finish', 'Gender',\n",
              "       'Material Name', 'Strip Length [mm]', 'Sealability',\n",
              "       'Tab Thickness [mm]', 'Tab Width [mm]', 'Wire Material',\n",
              "       'Wire Max. External Diameter [mm]', 'Wire Min. External Diameter [mm]',\n",
              "       'Wire Size Range From [mm²]', 'Wire Size Range To [mm²]', 'id'],\n",
              "      dtype='object')"
            ]
          },
          "metadata": {},
          "execution_count": 9
        }
      ],
      "source": [
        "dataset.columns"
      ]
    },
    {
      "cell_type": "markdown",
      "source": [
        "# Feature selection"
      ],
      "metadata": {
        "id": "Gl-Wsh8JQlP3"
      }
    },
    {
      "cell_type": "code",
      "source": [
        "#dataset['Material Name']=dataset['Material Name'].replace('Cu-Alloy', 'CuAlloy')"
      ],
      "metadata": {
        "id": "idZ0GYSLCKkp"
      },
      "execution_count": null,
      "outputs": []
    },
    {
      "cell_type": "code",
      "source": [
        "dataset.head(50)"
      ],
      "metadata": {
        "colab": {
          "base_uri": "https://localhost:8080/",
          "height": 1000
        },
        "id": "ax5uq9xwC1-0",
        "outputId": "9f18cfe4-e414-48d5-b3de-45cbd53bba2e"
      },
      "execution_count": null,
      "outputs": [
        {
          "output_type": "execute_result",
          "data": {
            "text/plain": [
              "   Leoni Part Number   Contact System Finish  Gender Material Name  \\\n",
              "0          P00117177         MQS 0.64     Au    male        CuNiSi   \n",
              "1          P00072506          JPT 2.8     Au  female        CuNiSi   \n",
              "2          P00087589         MCON 1.2     Sn  female          CuSn   \n",
              "3          P00087605          MAK 2.8     Sn  female      CuCrSiTi   \n",
              "4          P00088453       DFK 40 4.8     Sn  female      CuCrSiTi   \n",
              "5          P00100668           JT 2.8     Ag  female          CuZn   \n",
              "6          P00100670           JT 2.8     Ag  female          CuSn   \n",
              "7          P00072483          DIA 2.5     Au  female        CuNiSi   \n",
              "8          P00072484          DIA 2.5     Au  female        CuNiSi   \n",
              "9          P00072485          DIA 2.5     Au  female        CuNiSi   \n",
              "10         P00094894          MCP 2.8     Au  female        CuNiSi   \n",
              "11         P00094895          MLK 1.2     Sn    male          CuSn   \n",
              "12         P00094896          MLK 1.2     Ag    male          CuSn   \n",
              "13         P00094897          MLK 1.2     Au    male          CuSn   \n",
              "14         P00094939        DCS-2 2.8     Au  female          CuSn   \n",
              "15         P00094946          MAK 2.8     Au  female      CuCrSiTi   \n",
              "16         P00328557              HSD  Ni+Sn  female        CuZnPb   \n",
              "17         P00094859          MLK 1.2     Au  female          CuSn   \n",
              "18         P00094862          MLK 1.2     Au  female          CuSn   \n",
              "19         P00094918          DCK 1.5     Au  female        CuNiSi   \n",
              "20         P00094924          DCK 1.5     Sn  female        CuNiSi   \n",
              "21         P00094935        DCS-2 2.8     Sn  female          CuSn   \n",
              "22         P00094936        DCS-2 2.8     Au  female          CuSn   \n",
              "23         P00094938        DCS-2 2.8     Sn  female          CuSn   \n",
              "24         P00072169         MQS 0.64     Au  female        CuNiSi   \n",
              "25         P00072478          MLK 1.2     Sn  female          CuBe   \n",
              "26         P00072165         MQS 0.64     Au  female        CuNiSi   \n",
              "27         P00117178         MQS 0.64     Au    male        CuNiSi   \n",
              "28         P00117179         MQS 0.64     Au    male        CuNiSi   \n",
              "29         P00126930      Spring 0.64     Sn  female          CuSn   \n",
              "30         P00118169              E95     Au  female        CuNiSi   \n",
              "31         P00112564          BOX 2.8     Sn  female          CuSn   \n",
              "32         P00117112         MQS 0.64     Sn  female        CuNiSi   \n",
              "33         P00145673         MQS 0.64     Au  female        CuNiSi   \n",
              "34         P00072404          ML 0.40     Au  female        CuNiSi   \n",
              "35         P00147304              1.5     Au  female      Cu-Alloy   \n",
              "36         P00094893          MLK 1.2     Au    male          CuSn   \n",
              "37         P00094908          MLK 1.2     Au    male          CuSn   \n",
              "38         P00100730       MLK 1.2 Sm     Ag  female          CuSn   \n",
              "39         P00100731       MLK 1.2 Sm     Au  female          CuSn   \n",
              "40         P00108743           025 TS     Au  female      Cu-Alloy   \n",
              "41         P00120959       FASTON 6.3     Sn  female      Cu-Alloy   \n",
              "42         P00119945           RK 1.2     Au  female        CuZnPb   \n",
              "43         P00085671  DIA 4 GLOW PLUG     Sn  female          CuFe   \n",
              "44         P00086086         MCON 1.2     Ag  female          CuSn   \n",
              "45         P00147237          025 HSC     Sn    male      Cu-Alloy   \n",
              "46         P00147242          025 MMC     Sn    male      Cu-Alloy   \n",
              "47         P00147266         090 NMWP     Au    male      Cu-Alloy   \n",
              "48         P00147269         090 NMWP     Au    male      Cu-Alloy   \n",
              "49         P00147270         090 NMWP     Au    male      Cu-Alloy   \n",
              "\n",
              "    Strip Length [mm] Sealability  Tab Thickness [mm]  Tab Width [mm]  \\\n",
              "0            3.817235    sealable            0.640000        0.640000   \n",
              "1            3.500000    sealable            0.800000        2.800000   \n",
              "2            3.921776    sealable            0.665182        1.200000   \n",
              "3            4.009365    sealable            0.800000        2.800000   \n",
              "4            4.846647    sealable            0.800000        4.800000   \n",
              "5            4.500000  unsealable            0.800000        2.800000   \n",
              "6            4.500000  unsealable            0.800000        2.800000   \n",
              "7            3.807334  unsealable            0.686039        1.467008   \n",
              "8            4.037126  unsealable            0.715458        1.861352   \n",
              "9            4.596812  unsealable            0.809092        3.095786   \n",
              "10           4.063490    sealable            0.800000        2.800000   \n",
              "11           4.437479  unsealable            0.676463        1.200000   \n",
              "12           4.202475  unsealable            0.675990        1.200000   \n",
              "13           4.266570  unsealable            0.676118        1.200000   \n",
              "14           4.047818    sealable            0.800000        2.800000   \n",
              "15           3.838524    sealable            0.800000        2.800000   \n",
              "16           3.965840  unsealable            0.654820        1.788951   \n",
              "17           3.000000  unsealable            0.664646        1.200000   \n",
              "18           3.796799    sealable            0.676605        1.200000   \n",
              "19           3.791063  unsealable            0.600000        1.500000   \n",
              "20           4.208148  unsealable            0.600000        1.500000   \n",
              "21           3.980668    sealable            0.800000        2.800000   \n",
              "22           3.800512    sealable            0.800000        2.800000   \n",
              "23           4.218827    sealable            0.800000        2.800000   \n",
              "24           3.500000  unsealable            0.640000        0.640000   \n",
              "25           4.472306  unsealable            0.687585        1.458520   \n",
              "26           3.500000  unsealable            0.640000        0.640000   \n",
              "27           3.957289  unsealable            0.640000        0.640000   \n",
              "28           3.791847  unsealable            0.640000        0.640000   \n",
              "29           3.905927  unsealable            0.640000        0.640000   \n",
              "30           3.772382  unsealable            0.677679        1.377389   \n",
              "31           4.000000  unsealable            0.736301        2.800000   \n",
              "32           3.959699    sealable            0.640000        0.640000   \n",
              "33           3.350000    sealable            0.640000        0.640000   \n",
              "34           3.989568  unsealable            0.715143        0.400000   \n",
              "35           3.904868    sealable            0.692148        1.322349   \n",
              "36           3.745048  unsealable            0.673625        1.200000   \n",
              "37           3.771407    sealable            0.669162        1.200000   \n",
              "38           4.222082    sealable            0.666990        1.200000   \n",
              "39           4.286178    sealable            0.667118        1.200000   \n",
              "40           3.899956    sealable            0.698837        1.405214   \n",
              "41           4.140576  unsealable            0.715479        1.742181   \n",
              "42           3.977587  unsealable            1.000000        1.000000   \n",
              "43           4.271678    sealable            0.708289        1.871815   \n",
              "44           3.896375    sealable            0.682507        1.642182   \n",
              "45           3.947870  unsealable            0.690029        1.207910   \n",
              "46           3.947873  unsealable            0.690028        1.207911   \n",
              "47           3.912401    sealable            0.696441        1.183033   \n",
              "48           4.054767    sealable            0.702304        1.273243   \n",
              "49           4.499204    sealable            0.753251        1.961745   \n",
              "\n",
              "   Wire Material  Wire Max. External Diameter [mm]  \\\n",
              "0             Cu                          1.600000   \n",
              "1             Cu                          2.300000   \n",
              "2             Cu                          1.656134   \n",
              "3             Cu                          1.651835   \n",
              "4             Cu                          3.105324   \n",
              "5             Cu                          2.554247   \n",
              "6             Cu                          3.179026   \n",
              "7             Cu                          1.695666   \n",
              "8             Cu                          2.106976   \n",
              "9             Cu                          3.156983   \n",
              "10            Cu                          2.108179   \n",
              "11            Cu                          2.442015   \n",
              "12            Cu                          2.377786   \n",
              "13            Cu                          2.395302   \n",
              "14            Cu                          2.146827   \n",
              "15            Cu                          1.605108   \n",
              "16            Cu                          1.892870   \n",
              "17            Cu                          2.465729   \n",
              "18            Cu                          1.704394   \n",
              "19            Cu                          1.657294   \n",
              "20            Cu                          2.153666   \n",
              "21            Cu                          1.732088   \n",
              "22            Cu                          1.698958   \n",
              "23            Cu                          2.193519   \n",
              "24            Cu                          1.768718   \n",
              "25            Cu                          2.363126   \n",
              "26            Cu                          1.768644   \n",
              "27            Cu                          1.900000   \n",
              "28            Cu                          1.600000   \n",
              "29            Cu                          1.677645   \n",
              "30            Cu                          1.600000   \n",
              "31            Cu                          2.877749   \n",
              "32            Cu                          1.600000   \n",
              "33            Cu                          1.900000   \n",
              "34            Cu                          2.100000   \n",
              "35            Cu                          1.688978   \n",
              "36            Cu                          1.602108   \n",
              "37            Cu                          1.603312   \n",
              "38            Cu                          2.404026   \n",
              "39            Cu                          2.421542   \n",
              "40            Cu                          1.696218   \n",
              "41            Cu                          1.912651   \n",
              "42            Cu                          2.239904   \n",
              "43            Cu                          2.108326   \n",
              "44            Cu                          1.946470   \n",
              "45            Cu                          1.520062   \n",
              "46            Cu                          1.520062   \n",
              "47            Cu                          1.663782   \n",
              "48            Cu                          1.891489   \n",
              "49            Cu                          2.673949   \n",
              "\n",
              "    Wire Min. External Diameter [mm]  Wire Size Range From [mm²]  \\\n",
              "0                           1.142954                    0.250000   \n",
              "1                           1.183465                    0.200000   \n",
              "2                           1.152643                    0.140000   \n",
              "3                           1.169176                    0.200000   \n",
              "4                           2.305979                    1.500000   \n",
              "5                           1.598245                    0.500000   \n",
              "6                           2.046341                    1.000000   \n",
              "7                           1.172706                    0.200000   \n",
              "8                           1.458176                    0.500000   \n",
              "9                           2.050394                    1.010000   \n",
              "10                          1.446670                    0.500000   \n",
              "11                          2.105134                    1.500000   \n",
              "12                          2.044235                    1.500000   \n",
              "13                          2.060844                    1.500000   \n",
              "14                          1.464292                    0.500000   \n",
              "15                          1.124895                    0.200000   \n",
              "16                          1.435908                    0.500000   \n",
              "17                          1.840220                    1.000000   \n",
              "18                          1.137330                    0.140000   \n",
              "19                          1.171704                    0.220000   \n",
              "20                          1.502481                    0.500000   \n",
              "21                          1.287898                    0.350000   \n",
              "22                          1.167697                    0.200000   \n",
              "23                          1.508595                    0.500000   \n",
              "24                          1.194998                    0.200000   \n",
              "25                          2.084688                    1.490000   \n",
              "26                          1.195047                    0.200000   \n",
              "27                          1.370154                    0.500000   \n",
              "28                          1.154537                    0.250000   \n",
              "29                          1.165846                    0.130000   \n",
              "30                          1.161637                    0.200000   \n",
              "31                          1.995941                    1.000000   \n",
              "32                          1.219735                    0.250000   \n",
              "33                          1.391066                    0.500000   \n",
              "34                          1.326665                    0.350000   \n",
              "35                          1.201449                    0.300000   \n",
              "36                          1.109418                    0.170000   \n",
              "37                          1.097911                    0.170000   \n",
              "38                          2.065219                    1.500000   \n",
              "39                          2.081828                    1.500000   \n",
              "40                          1.160965                    0.220000   \n",
              "41                          1.338240                    0.350000   \n",
              "42                          1.382091                    0.250000   \n",
              "43                          1.544540                    0.640798   \n",
              "44                          1.392090                    0.500000   \n",
              "45                          1.076458                    0.130000   \n",
              "46                          1.076458                    0.130000   \n",
              "47                          1.169063                    0.300000   \n",
              "48                          1.403908                    0.610000   \n",
              "49                          1.983954                    1.250000   \n",
              "\n",
              "    Wire Size Range To [mm²]   id  \n",
              "0                   0.350000    2  \n",
              "1                   0.500000    4  \n",
              "2                   0.220000    7  \n",
              "3                   0.350000   11  \n",
              "4                   2.500000   13  \n",
              "5                   1.500000   22  \n",
              "6                   2.500000   23  \n",
              "7                   0.400000   27  \n",
              "8                   1.000000   28  \n",
              "9                   2.500000   29  \n",
              "10                  1.000000   31  \n",
              "11                  1.500000   32  \n",
              "12                  1.500000   33  \n",
              "13                  1.500000   34  \n",
              "14                  1.000000   37  \n",
              "15                  0.350000   39  \n",
              "16                  0.500000   55  \n",
              "17                  1.500000   65  \n",
              "18                  0.350000   66  \n",
              "19                  0.350000   67  \n",
              "20                  1.000000   69  \n",
              "21                  0.350000   71  \n",
              "22                  0.350000   72  \n",
              "23                  1.000000   73  \n",
              "24                  0.500000   77  \n",
              "25                  1.500000  134  \n",
              "26                  0.500000  215  \n",
              "27                  0.750000  217  \n",
              "28                  0.350000  218  \n",
              "29                  0.250000  219  \n",
              "30                  0.350000  220  \n",
              "31                  2.000000  229  \n",
              "32                  0.350000  252  \n",
              "33                  0.750000  262  \n",
              "34                  0.750000  274  \n",
              "35                  0.500000  279  \n",
              "36                  0.250000  281  \n",
              "37                  0.250000  282  \n",
              "38                  1.500000  283  \n",
              "39                  1.500000  284  \n",
              "40                  0.500000  286  \n",
              "41                  0.750000  289  \n",
              "42                  1.000000  290  \n",
              "43                  1.021925  299  \n",
              "44                  0.750000  300  \n",
              "45                  0.220000  325  \n",
              "46                  0.220000  326  \n",
              "47                  0.500000  327  \n",
              "48                  0.850000  328  \n",
              "49                  2.000000  329  "
            ],
            "text/html": [
              "\n",
              "  <div id=\"df-6e90b908-fb08-432e-bc80-0297fa07bdbb\">\n",
              "    <div class=\"colab-df-container\">\n",
              "      <div>\n",
              "<style scoped>\n",
              "    .dataframe tbody tr th:only-of-type {\n",
              "        vertical-align: middle;\n",
              "    }\n",
              "\n",
              "    .dataframe tbody tr th {\n",
              "        vertical-align: top;\n",
              "    }\n",
              "\n",
              "    .dataframe thead th {\n",
              "        text-align: right;\n",
              "    }\n",
              "</style>\n",
              "<table border=\"1\" class=\"dataframe\">\n",
              "  <thead>\n",
              "    <tr style=\"text-align: right;\">\n",
              "      <th></th>\n",
              "      <th>Leoni Part Number</th>\n",
              "      <th>Contact System</th>\n",
              "      <th>Finish</th>\n",
              "      <th>Gender</th>\n",
              "      <th>Material Name</th>\n",
              "      <th>Strip Length [mm]</th>\n",
              "      <th>Sealability</th>\n",
              "      <th>Tab Thickness [mm]</th>\n",
              "      <th>Tab Width [mm]</th>\n",
              "      <th>Wire Material</th>\n",
              "      <th>Wire Max. External Diameter [mm]</th>\n",
              "      <th>Wire Min. External Diameter [mm]</th>\n",
              "      <th>Wire Size Range From [mm²]</th>\n",
              "      <th>Wire Size Range To [mm²]</th>\n",
              "      <th>id</th>\n",
              "    </tr>\n",
              "  </thead>\n",
              "  <tbody>\n",
              "    <tr>\n",
              "      <th>0</th>\n",
              "      <td>P00117177</td>\n",
              "      <td>MQS 0.64</td>\n",
              "      <td>Au</td>\n",
              "      <td>male</td>\n",
              "      <td>CuNiSi</td>\n",
              "      <td>3.817235</td>\n",
              "      <td>sealable</td>\n",
              "      <td>0.640000</td>\n",
              "      <td>0.640000</td>\n",
              "      <td>Cu</td>\n",
              "      <td>1.600000</td>\n",
              "      <td>1.142954</td>\n",
              "      <td>0.250000</td>\n",
              "      <td>0.350000</td>\n",
              "      <td>2</td>\n",
              "    </tr>\n",
              "    <tr>\n",
              "      <th>1</th>\n",
              "      <td>P00072506</td>\n",
              "      <td>JPT 2.8</td>\n",
              "      <td>Au</td>\n",
              "      <td>female</td>\n",
              "      <td>CuNiSi</td>\n",
              "      <td>3.500000</td>\n",
              "      <td>sealable</td>\n",
              "      <td>0.800000</td>\n",
              "      <td>2.800000</td>\n",
              "      <td>Cu</td>\n",
              "      <td>2.300000</td>\n",
              "      <td>1.183465</td>\n",
              "      <td>0.200000</td>\n",
              "      <td>0.500000</td>\n",
              "      <td>4</td>\n",
              "    </tr>\n",
              "    <tr>\n",
              "      <th>2</th>\n",
              "      <td>P00087589</td>\n",
              "      <td>MCON 1.2</td>\n",
              "      <td>Sn</td>\n",
              "      <td>female</td>\n",
              "      <td>CuSn</td>\n",
              "      <td>3.921776</td>\n",
              "      <td>sealable</td>\n",
              "      <td>0.665182</td>\n",
              "      <td>1.200000</td>\n",
              "      <td>Cu</td>\n",
              "      <td>1.656134</td>\n",
              "      <td>1.152643</td>\n",
              "      <td>0.140000</td>\n",
              "      <td>0.220000</td>\n",
              "      <td>7</td>\n",
              "    </tr>\n",
              "    <tr>\n",
              "      <th>3</th>\n",
              "      <td>P00087605</td>\n",
              "      <td>MAK 2.8</td>\n",
              "      <td>Sn</td>\n",
              "      <td>female</td>\n",
              "      <td>CuCrSiTi</td>\n",
              "      <td>4.009365</td>\n",
              "      <td>sealable</td>\n",
              "      <td>0.800000</td>\n",
              "      <td>2.800000</td>\n",
              "      <td>Cu</td>\n",
              "      <td>1.651835</td>\n",
              "      <td>1.169176</td>\n",
              "      <td>0.200000</td>\n",
              "      <td>0.350000</td>\n",
              "      <td>11</td>\n",
              "    </tr>\n",
              "    <tr>\n",
              "      <th>4</th>\n",
              "      <td>P00088453</td>\n",
              "      <td>DFK 40 4.8</td>\n",
              "      <td>Sn</td>\n",
              "      <td>female</td>\n",
              "      <td>CuCrSiTi</td>\n",
              "      <td>4.846647</td>\n",
              "      <td>sealable</td>\n",
              "      <td>0.800000</td>\n",
              "      <td>4.800000</td>\n",
              "      <td>Cu</td>\n",
              "      <td>3.105324</td>\n",
              "      <td>2.305979</td>\n",
              "      <td>1.500000</td>\n",
              "      <td>2.500000</td>\n",
              "      <td>13</td>\n",
              "    </tr>\n",
              "    <tr>\n",
              "      <th>5</th>\n",
              "      <td>P00100668</td>\n",
              "      <td>JT 2.8</td>\n",
              "      <td>Ag</td>\n",
              "      <td>female</td>\n",
              "      <td>CuZn</td>\n",
              "      <td>4.500000</td>\n",
              "      <td>unsealable</td>\n",
              "      <td>0.800000</td>\n",
              "      <td>2.800000</td>\n",
              "      <td>Cu</td>\n",
              "      <td>2.554247</td>\n",
              "      <td>1.598245</td>\n",
              "      <td>0.500000</td>\n",
              "      <td>1.500000</td>\n",
              "      <td>22</td>\n",
              "    </tr>\n",
              "    <tr>\n",
              "      <th>6</th>\n",
              "      <td>P00100670</td>\n",
              "      <td>JT 2.8</td>\n",
              "      <td>Ag</td>\n",
              "      <td>female</td>\n",
              "      <td>CuSn</td>\n",
              "      <td>4.500000</td>\n",
              "      <td>unsealable</td>\n",
              "      <td>0.800000</td>\n",
              "      <td>2.800000</td>\n",
              "      <td>Cu</td>\n",
              "      <td>3.179026</td>\n",
              "      <td>2.046341</td>\n",
              "      <td>1.000000</td>\n",
              "      <td>2.500000</td>\n",
              "      <td>23</td>\n",
              "    </tr>\n",
              "    <tr>\n",
              "      <th>7</th>\n",
              "      <td>P00072483</td>\n",
              "      <td>DIA 2.5</td>\n",
              "      <td>Au</td>\n",
              "      <td>female</td>\n",
              "      <td>CuNiSi</td>\n",
              "      <td>3.807334</td>\n",
              "      <td>unsealable</td>\n",
              "      <td>0.686039</td>\n",
              "      <td>1.467008</td>\n",
              "      <td>Cu</td>\n",
              "      <td>1.695666</td>\n",
              "      <td>1.172706</td>\n",
              "      <td>0.200000</td>\n",
              "      <td>0.400000</td>\n",
              "      <td>27</td>\n",
              "    </tr>\n",
              "    <tr>\n",
              "      <th>8</th>\n",
              "      <td>P00072484</td>\n",
              "      <td>DIA 2.5</td>\n",
              "      <td>Au</td>\n",
              "      <td>female</td>\n",
              "      <td>CuNiSi</td>\n",
              "      <td>4.037126</td>\n",
              "      <td>unsealable</td>\n",
              "      <td>0.715458</td>\n",
              "      <td>1.861352</td>\n",
              "      <td>Cu</td>\n",
              "      <td>2.106976</td>\n",
              "      <td>1.458176</td>\n",
              "      <td>0.500000</td>\n",
              "      <td>1.000000</td>\n",
              "      <td>28</td>\n",
              "    </tr>\n",
              "    <tr>\n",
              "      <th>9</th>\n",
              "      <td>P00072485</td>\n",
              "      <td>DIA 2.5</td>\n",
              "      <td>Au</td>\n",
              "      <td>female</td>\n",
              "      <td>CuNiSi</td>\n",
              "      <td>4.596812</td>\n",
              "      <td>unsealable</td>\n",
              "      <td>0.809092</td>\n",
              "      <td>3.095786</td>\n",
              "      <td>Cu</td>\n",
              "      <td>3.156983</td>\n",
              "      <td>2.050394</td>\n",
              "      <td>1.010000</td>\n",
              "      <td>2.500000</td>\n",
              "      <td>29</td>\n",
              "    </tr>\n",
              "    <tr>\n",
              "      <th>10</th>\n",
              "      <td>P00094894</td>\n",
              "      <td>MCP 2.8</td>\n",
              "      <td>Au</td>\n",
              "      <td>female</td>\n",
              "      <td>CuNiSi</td>\n",
              "      <td>4.063490</td>\n",
              "      <td>sealable</td>\n",
              "      <td>0.800000</td>\n",
              "      <td>2.800000</td>\n",
              "      <td>Cu</td>\n",
              "      <td>2.108179</td>\n",
              "      <td>1.446670</td>\n",
              "      <td>0.500000</td>\n",
              "      <td>1.000000</td>\n",
              "      <td>31</td>\n",
              "    </tr>\n",
              "    <tr>\n",
              "      <th>11</th>\n",
              "      <td>P00094895</td>\n",
              "      <td>MLK 1.2</td>\n",
              "      <td>Sn</td>\n",
              "      <td>male</td>\n",
              "      <td>CuSn</td>\n",
              "      <td>4.437479</td>\n",
              "      <td>unsealable</td>\n",
              "      <td>0.676463</td>\n",
              "      <td>1.200000</td>\n",
              "      <td>Cu</td>\n",
              "      <td>2.442015</td>\n",
              "      <td>2.105134</td>\n",
              "      <td>1.500000</td>\n",
              "      <td>1.500000</td>\n",
              "      <td>32</td>\n",
              "    </tr>\n",
              "    <tr>\n",
              "      <th>12</th>\n",
              "      <td>P00094896</td>\n",
              "      <td>MLK 1.2</td>\n",
              "      <td>Ag</td>\n",
              "      <td>male</td>\n",
              "      <td>CuSn</td>\n",
              "      <td>4.202475</td>\n",
              "      <td>unsealable</td>\n",
              "      <td>0.675990</td>\n",
              "      <td>1.200000</td>\n",
              "      <td>Cu</td>\n",
              "      <td>2.377786</td>\n",
              "      <td>2.044235</td>\n",
              "      <td>1.500000</td>\n",
              "      <td>1.500000</td>\n",
              "      <td>33</td>\n",
              "    </tr>\n",
              "    <tr>\n",
              "      <th>13</th>\n",
              "      <td>P00094897</td>\n",
              "      <td>MLK 1.2</td>\n",
              "      <td>Au</td>\n",
              "      <td>male</td>\n",
              "      <td>CuSn</td>\n",
              "      <td>4.266570</td>\n",
              "      <td>unsealable</td>\n",
              "      <td>0.676118</td>\n",
              "      <td>1.200000</td>\n",
              "      <td>Cu</td>\n",
              "      <td>2.395302</td>\n",
              "      <td>2.060844</td>\n",
              "      <td>1.500000</td>\n",
              "      <td>1.500000</td>\n",
              "      <td>34</td>\n",
              "    </tr>\n",
              "    <tr>\n",
              "      <th>14</th>\n",
              "      <td>P00094939</td>\n",
              "      <td>DCS-2 2.8</td>\n",
              "      <td>Au</td>\n",
              "      <td>female</td>\n",
              "      <td>CuSn</td>\n",
              "      <td>4.047818</td>\n",
              "      <td>sealable</td>\n",
              "      <td>0.800000</td>\n",
              "      <td>2.800000</td>\n",
              "      <td>Cu</td>\n",
              "      <td>2.146827</td>\n",
              "      <td>1.464292</td>\n",
              "      <td>0.500000</td>\n",
              "      <td>1.000000</td>\n",
              "      <td>37</td>\n",
              "    </tr>\n",
              "    <tr>\n",
              "      <th>15</th>\n",
              "      <td>P00094946</td>\n",
              "      <td>MAK 2.8</td>\n",
              "      <td>Au</td>\n",
              "      <td>female</td>\n",
              "      <td>CuCrSiTi</td>\n",
              "      <td>3.838524</td>\n",
              "      <td>sealable</td>\n",
              "      <td>0.800000</td>\n",
              "      <td>2.800000</td>\n",
              "      <td>Cu</td>\n",
              "      <td>1.605108</td>\n",
              "      <td>1.124895</td>\n",
              "      <td>0.200000</td>\n",
              "      <td>0.350000</td>\n",
              "      <td>39</td>\n",
              "    </tr>\n",
              "    <tr>\n",
              "      <th>16</th>\n",
              "      <td>P00328557</td>\n",
              "      <td>HSD</td>\n",
              "      <td>Ni+Sn</td>\n",
              "      <td>female</td>\n",
              "      <td>CuZnPb</td>\n",
              "      <td>3.965840</td>\n",
              "      <td>unsealable</td>\n",
              "      <td>0.654820</td>\n",
              "      <td>1.788951</td>\n",
              "      <td>Cu</td>\n",
              "      <td>1.892870</td>\n",
              "      <td>1.435908</td>\n",
              "      <td>0.500000</td>\n",
              "      <td>0.500000</td>\n",
              "      <td>55</td>\n",
              "    </tr>\n",
              "    <tr>\n",
              "      <th>17</th>\n",
              "      <td>P00094859</td>\n",
              "      <td>MLK 1.2</td>\n",
              "      <td>Au</td>\n",
              "      <td>female</td>\n",
              "      <td>CuSn</td>\n",
              "      <td>3.000000</td>\n",
              "      <td>unsealable</td>\n",
              "      <td>0.664646</td>\n",
              "      <td>1.200000</td>\n",
              "      <td>Cu</td>\n",
              "      <td>2.465729</td>\n",
              "      <td>1.840220</td>\n",
              "      <td>1.000000</td>\n",
              "      <td>1.500000</td>\n",
              "      <td>65</td>\n",
              "    </tr>\n",
              "    <tr>\n",
              "      <th>18</th>\n",
              "      <td>P00094862</td>\n",
              "      <td>MLK 1.2</td>\n",
              "      <td>Au</td>\n",
              "      <td>female</td>\n",
              "      <td>CuSn</td>\n",
              "      <td>3.796799</td>\n",
              "      <td>sealable</td>\n",
              "      <td>0.676605</td>\n",
              "      <td>1.200000</td>\n",
              "      <td>Cu</td>\n",
              "      <td>1.704394</td>\n",
              "      <td>1.137330</td>\n",
              "      <td>0.140000</td>\n",
              "      <td>0.350000</td>\n",
              "      <td>66</td>\n",
              "    </tr>\n",
              "    <tr>\n",
              "      <th>19</th>\n",
              "      <td>P00094918</td>\n",
              "      <td>DCK 1.5</td>\n",
              "      <td>Au</td>\n",
              "      <td>female</td>\n",
              "      <td>CuNiSi</td>\n",
              "      <td>3.791063</td>\n",
              "      <td>unsealable</td>\n",
              "      <td>0.600000</td>\n",
              "      <td>1.500000</td>\n",
              "      <td>Cu</td>\n",
              "      <td>1.657294</td>\n",
              "      <td>1.171704</td>\n",
              "      <td>0.220000</td>\n",
              "      <td>0.350000</td>\n",
              "      <td>67</td>\n",
              "    </tr>\n",
              "    <tr>\n",
              "      <th>20</th>\n",
              "      <td>P00094924</td>\n",
              "      <td>DCK 1.5</td>\n",
              "      <td>Sn</td>\n",
              "      <td>female</td>\n",
              "      <td>CuNiSi</td>\n",
              "      <td>4.208148</td>\n",
              "      <td>unsealable</td>\n",
              "      <td>0.600000</td>\n",
              "      <td>1.500000</td>\n",
              "      <td>Cu</td>\n",
              "      <td>2.153666</td>\n",
              "      <td>1.502481</td>\n",
              "      <td>0.500000</td>\n",
              "      <td>1.000000</td>\n",
              "      <td>69</td>\n",
              "    </tr>\n",
              "    <tr>\n",
              "      <th>21</th>\n",
              "      <td>P00094935</td>\n",
              "      <td>DCS-2 2.8</td>\n",
              "      <td>Sn</td>\n",
              "      <td>female</td>\n",
              "      <td>CuSn</td>\n",
              "      <td>3.980668</td>\n",
              "      <td>sealable</td>\n",
              "      <td>0.800000</td>\n",
              "      <td>2.800000</td>\n",
              "      <td>Cu</td>\n",
              "      <td>1.732088</td>\n",
              "      <td>1.287898</td>\n",
              "      <td>0.350000</td>\n",
              "      <td>0.350000</td>\n",
              "      <td>71</td>\n",
              "    </tr>\n",
              "    <tr>\n",
              "      <th>22</th>\n",
              "      <td>P00094936</td>\n",
              "      <td>DCS-2 2.8</td>\n",
              "      <td>Au</td>\n",
              "      <td>female</td>\n",
              "      <td>CuSn</td>\n",
              "      <td>3.800512</td>\n",
              "      <td>sealable</td>\n",
              "      <td>0.800000</td>\n",
              "      <td>2.800000</td>\n",
              "      <td>Cu</td>\n",
              "      <td>1.698958</td>\n",
              "      <td>1.167697</td>\n",
              "      <td>0.200000</td>\n",
              "      <td>0.350000</td>\n",
              "      <td>72</td>\n",
              "    </tr>\n",
              "    <tr>\n",
              "      <th>23</th>\n",
              "      <td>P00094938</td>\n",
              "      <td>DCS-2 2.8</td>\n",
              "      <td>Sn</td>\n",
              "      <td>female</td>\n",
              "      <td>CuSn</td>\n",
              "      <td>4.218827</td>\n",
              "      <td>sealable</td>\n",
              "      <td>0.800000</td>\n",
              "      <td>2.800000</td>\n",
              "      <td>Cu</td>\n",
              "      <td>2.193519</td>\n",
              "      <td>1.508595</td>\n",
              "      <td>0.500000</td>\n",
              "      <td>1.000000</td>\n",
              "      <td>73</td>\n",
              "    </tr>\n",
              "    <tr>\n",
              "      <th>24</th>\n",
              "      <td>P00072169</td>\n",
              "      <td>MQS 0.64</td>\n",
              "      <td>Au</td>\n",
              "      <td>female</td>\n",
              "      <td>CuNiSi</td>\n",
              "      <td>3.500000</td>\n",
              "      <td>unsealable</td>\n",
              "      <td>0.640000</td>\n",
              "      <td>0.640000</td>\n",
              "      <td>Cu</td>\n",
              "      <td>1.768718</td>\n",
              "      <td>1.194998</td>\n",
              "      <td>0.200000</td>\n",
              "      <td>0.500000</td>\n",
              "      <td>77</td>\n",
              "    </tr>\n",
              "    <tr>\n",
              "      <th>25</th>\n",
              "      <td>P00072478</td>\n",
              "      <td>MLK 1.2</td>\n",
              "      <td>Sn</td>\n",
              "      <td>female</td>\n",
              "      <td>CuBe</td>\n",
              "      <td>4.472306</td>\n",
              "      <td>unsealable</td>\n",
              "      <td>0.687585</td>\n",
              "      <td>1.458520</td>\n",
              "      <td>Cu</td>\n",
              "      <td>2.363126</td>\n",
              "      <td>2.084688</td>\n",
              "      <td>1.490000</td>\n",
              "      <td>1.500000</td>\n",
              "      <td>134</td>\n",
              "    </tr>\n",
              "    <tr>\n",
              "      <th>26</th>\n",
              "      <td>P00072165</td>\n",
              "      <td>MQS 0.64</td>\n",
              "      <td>Au</td>\n",
              "      <td>female</td>\n",
              "      <td>CuNiSi</td>\n",
              "      <td>3.500000</td>\n",
              "      <td>unsealable</td>\n",
              "      <td>0.640000</td>\n",
              "      <td>0.640000</td>\n",
              "      <td>Cu</td>\n",
              "      <td>1.768644</td>\n",
              "      <td>1.195047</td>\n",
              "      <td>0.200000</td>\n",
              "      <td>0.500000</td>\n",
              "      <td>215</td>\n",
              "    </tr>\n",
              "    <tr>\n",
              "      <th>27</th>\n",
              "      <td>P00117178</td>\n",
              "      <td>MQS 0.64</td>\n",
              "      <td>Au</td>\n",
              "      <td>male</td>\n",
              "      <td>CuNiSi</td>\n",
              "      <td>3.957289</td>\n",
              "      <td>unsealable</td>\n",
              "      <td>0.640000</td>\n",
              "      <td>0.640000</td>\n",
              "      <td>Cu</td>\n",
              "      <td>1.900000</td>\n",
              "      <td>1.370154</td>\n",
              "      <td>0.500000</td>\n",
              "      <td>0.750000</td>\n",
              "      <td>217</td>\n",
              "    </tr>\n",
              "    <tr>\n",
              "      <th>28</th>\n",
              "      <td>P00117179</td>\n",
              "      <td>MQS 0.64</td>\n",
              "      <td>Au</td>\n",
              "      <td>male</td>\n",
              "      <td>CuNiSi</td>\n",
              "      <td>3.791847</td>\n",
              "      <td>unsealable</td>\n",
              "      <td>0.640000</td>\n",
              "      <td>0.640000</td>\n",
              "      <td>Cu</td>\n",
              "      <td>1.600000</td>\n",
              "      <td>1.154537</td>\n",
              "      <td>0.250000</td>\n",
              "      <td>0.350000</td>\n",
              "      <td>218</td>\n",
              "    </tr>\n",
              "    <tr>\n",
              "      <th>29</th>\n",
              "      <td>P00126930</td>\n",
              "      <td>Spring 0.64</td>\n",
              "      <td>Sn</td>\n",
              "      <td>female</td>\n",
              "      <td>CuSn</td>\n",
              "      <td>3.905927</td>\n",
              "      <td>unsealable</td>\n",
              "      <td>0.640000</td>\n",
              "      <td>0.640000</td>\n",
              "      <td>Cu</td>\n",
              "      <td>1.677645</td>\n",
              "      <td>1.165846</td>\n",
              "      <td>0.130000</td>\n",
              "      <td>0.250000</td>\n",
              "      <td>219</td>\n",
              "    </tr>\n",
              "    <tr>\n",
              "      <th>30</th>\n",
              "      <td>P00118169</td>\n",
              "      <td>E95</td>\n",
              "      <td>Au</td>\n",
              "      <td>female</td>\n",
              "      <td>CuNiSi</td>\n",
              "      <td>3.772382</td>\n",
              "      <td>unsealable</td>\n",
              "      <td>0.677679</td>\n",
              "      <td>1.377389</td>\n",
              "      <td>Cu</td>\n",
              "      <td>1.600000</td>\n",
              "      <td>1.161637</td>\n",
              "      <td>0.200000</td>\n",
              "      <td>0.350000</td>\n",
              "      <td>220</td>\n",
              "    </tr>\n",
              "    <tr>\n",
              "      <th>31</th>\n",
              "      <td>P00112564</td>\n",
              "      <td>BOX 2.8</td>\n",
              "      <td>Sn</td>\n",
              "      <td>female</td>\n",
              "      <td>CuSn</td>\n",
              "      <td>4.000000</td>\n",
              "      <td>unsealable</td>\n",
              "      <td>0.736301</td>\n",
              "      <td>2.800000</td>\n",
              "      <td>Cu</td>\n",
              "      <td>2.877749</td>\n",
              "      <td>1.995941</td>\n",
              "      <td>1.000000</td>\n",
              "      <td>2.000000</td>\n",
              "      <td>229</td>\n",
              "    </tr>\n",
              "    <tr>\n",
              "      <th>32</th>\n",
              "      <td>P00117112</td>\n",
              "      <td>MQS 0.64</td>\n",
              "      <td>Sn</td>\n",
              "      <td>female</td>\n",
              "      <td>CuNiSi</td>\n",
              "      <td>3.959699</td>\n",
              "      <td>sealable</td>\n",
              "      <td>0.640000</td>\n",
              "      <td>0.640000</td>\n",
              "      <td>Cu</td>\n",
              "      <td>1.600000</td>\n",
              "      <td>1.219735</td>\n",
              "      <td>0.250000</td>\n",
              "      <td>0.350000</td>\n",
              "      <td>252</td>\n",
              "    </tr>\n",
              "    <tr>\n",
              "      <th>33</th>\n",
              "      <td>P00145673</td>\n",
              "      <td>MQS 0.64</td>\n",
              "      <td>Au</td>\n",
              "      <td>female</td>\n",
              "      <td>CuNiSi</td>\n",
              "      <td>3.350000</td>\n",
              "      <td>sealable</td>\n",
              "      <td>0.640000</td>\n",
              "      <td>0.640000</td>\n",
              "      <td>Cu</td>\n",
              "      <td>1.900000</td>\n",
              "      <td>1.391066</td>\n",
              "      <td>0.500000</td>\n",
              "      <td>0.750000</td>\n",
              "      <td>262</td>\n",
              "    </tr>\n",
              "    <tr>\n",
              "      <th>34</th>\n",
              "      <td>P00072404</td>\n",
              "      <td>ML 0.40</td>\n",
              "      <td>Au</td>\n",
              "      <td>female</td>\n",
              "      <td>CuNiSi</td>\n",
              "      <td>3.989568</td>\n",
              "      <td>unsealable</td>\n",
              "      <td>0.715143</td>\n",
              "      <td>0.400000</td>\n",
              "      <td>Cu</td>\n",
              "      <td>2.100000</td>\n",
              "      <td>1.326665</td>\n",
              "      <td>0.350000</td>\n",
              "      <td>0.750000</td>\n",
              "      <td>274</td>\n",
              "    </tr>\n",
              "    <tr>\n",
              "      <th>35</th>\n",
              "      <td>P00147304</td>\n",
              "      <td>1.5</td>\n",
              "      <td>Au</td>\n",
              "      <td>female</td>\n",
              "      <td>Cu-Alloy</td>\n",
              "      <td>3.904868</td>\n",
              "      <td>sealable</td>\n",
              "      <td>0.692148</td>\n",
              "      <td>1.322349</td>\n",
              "      <td>Cu</td>\n",
              "      <td>1.688978</td>\n",
              "      <td>1.201449</td>\n",
              "      <td>0.300000</td>\n",
              "      <td>0.500000</td>\n",
              "      <td>279</td>\n",
              "    </tr>\n",
              "    <tr>\n",
              "      <th>36</th>\n",
              "      <td>P00094893</td>\n",
              "      <td>MLK 1.2</td>\n",
              "      <td>Au</td>\n",
              "      <td>male</td>\n",
              "      <td>CuSn</td>\n",
              "      <td>3.745048</td>\n",
              "      <td>unsealable</td>\n",
              "      <td>0.673625</td>\n",
              "      <td>1.200000</td>\n",
              "      <td>Cu</td>\n",
              "      <td>1.602108</td>\n",
              "      <td>1.109418</td>\n",
              "      <td>0.170000</td>\n",
              "      <td>0.250000</td>\n",
              "      <td>281</td>\n",
              "    </tr>\n",
              "    <tr>\n",
              "      <th>37</th>\n",
              "      <td>P00094908</td>\n",
              "      <td>MLK 1.2</td>\n",
              "      <td>Au</td>\n",
              "      <td>male</td>\n",
              "      <td>CuSn</td>\n",
              "      <td>3.771407</td>\n",
              "      <td>sealable</td>\n",
              "      <td>0.669162</td>\n",
              "      <td>1.200000</td>\n",
              "      <td>Cu</td>\n",
              "      <td>1.603312</td>\n",
              "      <td>1.097911</td>\n",
              "      <td>0.170000</td>\n",
              "      <td>0.250000</td>\n",
              "      <td>282</td>\n",
              "    </tr>\n",
              "    <tr>\n",
              "      <th>38</th>\n",
              "      <td>P00100730</td>\n",
              "      <td>MLK 1.2 Sm</td>\n",
              "      <td>Ag</td>\n",
              "      <td>female</td>\n",
              "      <td>CuSn</td>\n",
              "      <td>4.222082</td>\n",
              "      <td>sealable</td>\n",
              "      <td>0.666990</td>\n",
              "      <td>1.200000</td>\n",
              "      <td>Cu</td>\n",
              "      <td>2.404026</td>\n",
              "      <td>2.065219</td>\n",
              "      <td>1.500000</td>\n",
              "      <td>1.500000</td>\n",
              "      <td>283</td>\n",
              "    </tr>\n",
              "    <tr>\n",
              "      <th>39</th>\n",
              "      <td>P00100731</td>\n",
              "      <td>MLK 1.2 Sm</td>\n",
              "      <td>Au</td>\n",
              "      <td>female</td>\n",
              "      <td>CuSn</td>\n",
              "      <td>4.286178</td>\n",
              "      <td>sealable</td>\n",
              "      <td>0.667118</td>\n",
              "      <td>1.200000</td>\n",
              "      <td>Cu</td>\n",
              "      <td>2.421542</td>\n",
              "      <td>2.081828</td>\n",
              "      <td>1.500000</td>\n",
              "      <td>1.500000</td>\n",
              "      <td>284</td>\n",
              "    </tr>\n",
              "    <tr>\n",
              "      <th>40</th>\n",
              "      <td>P00108743</td>\n",
              "      <td>025 TS</td>\n",
              "      <td>Au</td>\n",
              "      <td>female</td>\n",
              "      <td>Cu-Alloy</td>\n",
              "      <td>3.899956</td>\n",
              "      <td>sealable</td>\n",
              "      <td>0.698837</td>\n",
              "      <td>1.405214</td>\n",
              "      <td>Cu</td>\n",
              "      <td>1.696218</td>\n",
              "      <td>1.160965</td>\n",
              "      <td>0.220000</td>\n",
              "      <td>0.500000</td>\n",
              "      <td>286</td>\n",
              "    </tr>\n",
              "    <tr>\n",
              "      <th>41</th>\n",
              "      <td>P00120959</td>\n",
              "      <td>FASTON 6.3</td>\n",
              "      <td>Sn</td>\n",
              "      <td>female</td>\n",
              "      <td>Cu-Alloy</td>\n",
              "      <td>4.140576</td>\n",
              "      <td>unsealable</td>\n",
              "      <td>0.715479</td>\n",
              "      <td>1.742181</td>\n",
              "      <td>Cu</td>\n",
              "      <td>1.912651</td>\n",
              "      <td>1.338240</td>\n",
              "      <td>0.350000</td>\n",
              "      <td>0.750000</td>\n",
              "      <td>289</td>\n",
              "    </tr>\n",
              "    <tr>\n",
              "      <th>42</th>\n",
              "      <td>P00119945</td>\n",
              "      <td>RK 1.2</td>\n",
              "      <td>Au</td>\n",
              "      <td>female</td>\n",
              "      <td>CuZnPb</td>\n",
              "      <td>3.977587</td>\n",
              "      <td>unsealable</td>\n",
              "      <td>1.000000</td>\n",
              "      <td>1.000000</td>\n",
              "      <td>Cu</td>\n",
              "      <td>2.239904</td>\n",
              "      <td>1.382091</td>\n",
              "      <td>0.250000</td>\n",
              "      <td>1.000000</td>\n",
              "      <td>290</td>\n",
              "    </tr>\n",
              "    <tr>\n",
              "      <th>43</th>\n",
              "      <td>P00085671</td>\n",
              "      <td>DIA 4 GLOW PLUG</td>\n",
              "      <td>Sn</td>\n",
              "      <td>female</td>\n",
              "      <td>CuFe</td>\n",
              "      <td>4.271678</td>\n",
              "      <td>sealable</td>\n",
              "      <td>0.708289</td>\n",
              "      <td>1.871815</td>\n",
              "      <td>Cu</td>\n",
              "      <td>2.108326</td>\n",
              "      <td>1.544540</td>\n",
              "      <td>0.640798</td>\n",
              "      <td>1.021925</td>\n",
              "      <td>299</td>\n",
              "    </tr>\n",
              "    <tr>\n",
              "      <th>44</th>\n",
              "      <td>P00086086</td>\n",
              "      <td>MCON 1.2</td>\n",
              "      <td>Ag</td>\n",
              "      <td>female</td>\n",
              "      <td>CuSn</td>\n",
              "      <td>3.896375</td>\n",
              "      <td>sealable</td>\n",
              "      <td>0.682507</td>\n",
              "      <td>1.642182</td>\n",
              "      <td>Cu</td>\n",
              "      <td>1.946470</td>\n",
              "      <td>1.392090</td>\n",
              "      <td>0.500000</td>\n",
              "      <td>0.750000</td>\n",
              "      <td>300</td>\n",
              "    </tr>\n",
              "    <tr>\n",
              "      <th>45</th>\n",
              "      <td>P00147237</td>\n",
              "      <td>025 HSC</td>\n",
              "      <td>Sn</td>\n",
              "      <td>male</td>\n",
              "      <td>Cu-Alloy</td>\n",
              "      <td>3.947870</td>\n",
              "      <td>unsealable</td>\n",
              "      <td>0.690029</td>\n",
              "      <td>1.207910</td>\n",
              "      <td>Cu</td>\n",
              "      <td>1.520062</td>\n",
              "      <td>1.076458</td>\n",
              "      <td>0.130000</td>\n",
              "      <td>0.220000</td>\n",
              "      <td>325</td>\n",
              "    </tr>\n",
              "    <tr>\n",
              "      <th>46</th>\n",
              "      <td>P00147242</td>\n",
              "      <td>025 MMC</td>\n",
              "      <td>Sn</td>\n",
              "      <td>male</td>\n",
              "      <td>Cu-Alloy</td>\n",
              "      <td>3.947873</td>\n",
              "      <td>unsealable</td>\n",
              "      <td>0.690028</td>\n",
              "      <td>1.207911</td>\n",
              "      <td>Cu</td>\n",
              "      <td>1.520062</td>\n",
              "      <td>1.076458</td>\n",
              "      <td>0.130000</td>\n",
              "      <td>0.220000</td>\n",
              "      <td>326</td>\n",
              "    </tr>\n",
              "    <tr>\n",
              "      <th>47</th>\n",
              "      <td>P00147266</td>\n",
              "      <td>090 NMWP</td>\n",
              "      <td>Au</td>\n",
              "      <td>male</td>\n",
              "      <td>Cu-Alloy</td>\n",
              "      <td>3.912401</td>\n",
              "      <td>sealable</td>\n",
              "      <td>0.696441</td>\n",
              "      <td>1.183033</td>\n",
              "      <td>Cu</td>\n",
              "      <td>1.663782</td>\n",
              "      <td>1.169063</td>\n",
              "      <td>0.300000</td>\n",
              "      <td>0.500000</td>\n",
              "      <td>327</td>\n",
              "    </tr>\n",
              "    <tr>\n",
              "      <th>48</th>\n",
              "      <td>P00147269</td>\n",
              "      <td>090 NMWP</td>\n",
              "      <td>Au</td>\n",
              "      <td>male</td>\n",
              "      <td>Cu-Alloy</td>\n",
              "      <td>4.054767</td>\n",
              "      <td>sealable</td>\n",
              "      <td>0.702304</td>\n",
              "      <td>1.273243</td>\n",
              "      <td>Cu</td>\n",
              "      <td>1.891489</td>\n",
              "      <td>1.403908</td>\n",
              "      <td>0.610000</td>\n",
              "      <td>0.850000</td>\n",
              "      <td>328</td>\n",
              "    </tr>\n",
              "    <tr>\n",
              "      <th>49</th>\n",
              "      <td>P00147270</td>\n",
              "      <td>090 NMWP</td>\n",
              "      <td>Au</td>\n",
              "      <td>male</td>\n",
              "      <td>Cu-Alloy</td>\n",
              "      <td>4.499204</td>\n",
              "      <td>sealable</td>\n",
              "      <td>0.753251</td>\n",
              "      <td>1.961745</td>\n",
              "      <td>Cu</td>\n",
              "      <td>2.673949</td>\n",
              "      <td>1.983954</td>\n",
              "      <td>1.250000</td>\n",
              "      <td>2.000000</td>\n",
              "      <td>329</td>\n",
              "    </tr>\n",
              "  </tbody>\n",
              "</table>\n",
              "</div>\n",
              "      <button class=\"colab-df-convert\" onclick=\"convertToInteractive('df-6e90b908-fb08-432e-bc80-0297fa07bdbb')\"\n",
              "              title=\"Convert this dataframe to an interactive table.\"\n",
              "              style=\"display:none;\">\n",
              "        \n",
              "  <svg xmlns=\"http://www.w3.org/2000/svg\" height=\"24px\"viewBox=\"0 0 24 24\"\n",
              "       width=\"24px\">\n",
              "    <path d=\"M0 0h24v24H0V0z\" fill=\"none\"/>\n",
              "    <path d=\"M18.56 5.44l.94 2.06.94-2.06 2.06-.94-2.06-.94-.94-2.06-.94 2.06-2.06.94zm-11 1L8.5 8.5l.94-2.06 2.06-.94-2.06-.94L8.5 2.5l-.94 2.06-2.06.94zm10 10l.94 2.06.94-2.06 2.06-.94-2.06-.94-.94-2.06-.94 2.06-2.06.94z\"/><path d=\"M17.41 7.96l-1.37-1.37c-.4-.4-.92-.59-1.43-.59-.52 0-1.04.2-1.43.59L10.3 9.45l-7.72 7.72c-.78.78-.78 2.05 0 2.83L4 21.41c.39.39.9.59 1.41.59.51 0 1.02-.2 1.41-.59l7.78-7.78 2.81-2.81c.8-.78.8-2.07 0-2.86zM5.41 20L4 18.59l7.72-7.72 1.47 1.35L5.41 20z\"/>\n",
              "  </svg>\n",
              "      </button>\n",
              "      \n",
              "  <style>\n",
              "    .colab-df-container {\n",
              "      display:flex;\n",
              "      flex-wrap:wrap;\n",
              "      gap: 12px;\n",
              "    }\n",
              "\n",
              "    .colab-df-convert {\n",
              "      background-color: #E8F0FE;\n",
              "      border: none;\n",
              "      border-radius: 50%;\n",
              "      cursor: pointer;\n",
              "      display: none;\n",
              "      fill: #1967D2;\n",
              "      height: 32px;\n",
              "      padding: 0 0 0 0;\n",
              "      width: 32px;\n",
              "    }\n",
              "\n",
              "    .colab-df-convert:hover {\n",
              "      background-color: #E2EBFA;\n",
              "      box-shadow: 0px 1px 2px rgba(60, 64, 67, 0.3), 0px 1px 3px 1px rgba(60, 64, 67, 0.15);\n",
              "      fill: #174EA6;\n",
              "    }\n",
              "\n",
              "    [theme=dark] .colab-df-convert {\n",
              "      background-color: #3B4455;\n",
              "      fill: #D2E3FC;\n",
              "    }\n",
              "\n",
              "    [theme=dark] .colab-df-convert:hover {\n",
              "      background-color: #434B5C;\n",
              "      box-shadow: 0px 1px 3px 1px rgba(0, 0, 0, 0.15);\n",
              "      filter: drop-shadow(0px 1px 2px rgba(0, 0, 0, 0.3));\n",
              "      fill: #FFFFFF;\n",
              "    }\n",
              "  </style>\n",
              "\n",
              "      <script>\n",
              "        const buttonEl =\n",
              "          document.querySelector('#df-6e90b908-fb08-432e-bc80-0297fa07bdbb button.colab-df-convert');\n",
              "        buttonEl.style.display =\n",
              "          google.colab.kernel.accessAllowed ? 'block' : 'none';\n",
              "\n",
              "        async function convertToInteractive(key) {\n",
              "          const element = document.querySelector('#df-6e90b908-fb08-432e-bc80-0297fa07bdbb');\n",
              "          const dataTable =\n",
              "            await google.colab.kernel.invokeFunction('convertToInteractive',\n",
              "                                                     [key], {});\n",
              "          if (!dataTable) return;\n",
              "\n",
              "          const docLinkHtml = 'Like what you see? Visit the ' +\n",
              "            '<a target=\"_blank\" href=https://colab.research.google.com/notebooks/data_table.ipynb>data table notebook</a>'\n",
              "            + ' to learn more about interactive tables.';\n",
              "          element.innerHTML = '';\n",
              "          dataTable['output_type'] = 'display_data';\n",
              "          await google.colab.output.renderOutput(dataTable, element);\n",
              "          const docLink = document.createElement('div');\n",
              "          docLink.innerHTML = docLinkHtml;\n",
              "          element.appendChild(docLink);\n",
              "        }\n",
              "      </script>\n",
              "    </div>\n",
              "  </div>\n",
              "  "
            ]
          },
          "metadata": {},
          "execution_count": 11
        }
      ]
    },
    {
      "cell_type": "code",
      "source": [
        "dataset['Material Name'].unique()"
      ],
      "metadata": {
        "colab": {
          "base_uri": "https://localhost:8080/"
        },
        "id": "lQyw8Nt4C-16",
        "outputId": "4c369db3-64aa-4716-e145-bf9a8e613848"
      },
      "execution_count": null,
      "outputs": [
        {
          "output_type": "execute_result",
          "data": {
            "text/plain": [
              "array(['CuNiSi', 'CuSn', 'CuCrSiTi', 'CuZn', 'CuZnPb', 'CuBe', 'Cu-Alloy',\n",
              "       'CuFe', 'CuSnP', 'Cu', 'CuSnZn', 'Various (Assembly)', 'CuSnSi',\n",
              "       'CuNiSiMg', 'CuFe/CrNi', 'CuFeP', 'CuSnO', 'CuNiSn', 'CuSn/CrNi',\n",
              "       'CuMg', 'CuTeSn/CuBe', 'CuZnSn', 'CuTeSn', 'CuNiPbP', 'CuFeP/CuBe',\n",
              "       'Fe', 'CuNiSiP', 'CuSn/CuBe', 'CuPb', 'CuFeTiCo', 'FeNi', 'PA12'],\n",
              "      dtype=object)"
            ]
          },
          "metadata": {},
          "execution_count": 12
        }
      ]
    },
    {
      "cell_type": "code",
      "source": [
        "dataset['Finish'].unique()"
      ],
      "metadata": {
        "colab": {
          "base_uri": "https://localhost:8080/"
        },
        "id": "Ocdq0ssct7N9",
        "outputId": "4b97218a-32ab-404b-9bf9-cde89304a79b"
      },
      "execution_count": null,
      "outputs": [
        {
          "output_type": "execute_result",
          "data": {
            "text/plain": [
              "array(['Au', 'Sn', 'Ag', 'Ni+Sn', 'Ni', 'Au+Ni', 'Ag+Sn', 'Zn',\n",
              "       'Au+Ni+Sn', 'CuSn', 'Ag+Ni', 'Sn+Pb', 'CuSnP', 'Au+Pd'],\n",
              "      dtype=object)"
            ]
          },
          "metadata": {},
          "execution_count": 13
        }
      ]
    },
    {
      "cell_type": "code",
      "source": [
        "#dataset['Finish']=dataset.Finish.replace('Ni+Sn', 'NiavecSn')"
      ],
      "metadata": {
        "id": "QI3cQGHbMYgz"
      },
      "execution_count": null,
      "outputs": []
    },
    {
      "cell_type": "code",
      "source": [
        "#dataset['Finish']=dataset.Finish.replace('Au+Ni', 'AuavecNi')\n",
        "#dataset['Finish']=dataset.Finish.replace('Ag+Sn', 'AgavecSn')\n",
        "#dataset['Finish']=dataset.Finish.replace('Ag+Ni', 'AgavecNi')\n",
        "#dataset['Finish']=dataset.Finish.replace('Sn+Pb', 'SnavecPb')\n",
        "#dataset['Finish']=dataset.Finish.replace('Au+Pd', 'AuavecPd')"
      ],
      "metadata": {
        "id": "RWemzutbD8af"
      },
      "execution_count": null,
      "outputs": []
    },
    {
      "cell_type": "code",
      "source": [
        "#df['Contact System']=df['Contact System'].map(lambda x : x.lower())"
      ],
      "metadata": {
        "id": "LLMmO-XrLzkm"
      },
      "execution_count": null,
      "outputs": []
    },
    {
      "cell_type": "code",
      "source": [
        "dataset['Finish']=dataset.Finish.replace('CUSNP', 'CuSnP')"
      ],
      "metadata": {
        "id": "Ktacm-Xpujh2"
      },
      "execution_count": null,
      "outputs": []
    },
    {
      "cell_type": "code",
      "source": [
        "dataset.drop(dataset[dataset['Finish']==\"blank\"].index,inplace=True)"
      ],
      "metadata": {
        "id": "k34q9eZvQYlW"
      },
      "execution_count": null,
      "outputs": []
    },
    {
      "cell_type": "code",
      "source": [
        "#dataset['Finish']=dataset.Finish.replace('sn', 'Sn')"
      ],
      "metadata": {
        "id": "zy4_LX6FQZk1"
      },
      "execution_count": null,
      "outputs": []
    },
    {
      "cell_type": "markdown",
      "source": [
        "# **filter contact system**"
      ],
      "metadata": {
        "id": "UoZOPu9RoZcd"
      }
    },
    {
      "cell_type": "code",
      "source": [
        "n = input(\"please enter your contact system\")"
      ],
      "metadata": {
        "colab": {
          "base_uri": "https://localhost:8080/"
        },
        "id": "egFtIrqpokle",
        "outputId": "78062d67-f797-40c9-a168-b49f1ca53b9e"
      },
      "execution_count": null,
      "outputs": [
        {
          "name": "stdout",
          "output_type": "stream",
          "text": [
            "please enter your contact systemmqs 0.64\n"
          ]
        }
      ]
    },
    {
      "cell_type": "code",
      "source": [
        "n=n.lower()\n",
        "n"
      ],
      "metadata": {
        "colab": {
          "base_uri": "https://localhost:8080/",
          "height": 35
        },
        "id": "tZtMOX_vo6gd",
        "outputId": "ee4f932c-88e8-4b15-f90a-f0b4bdec248e"
      },
      "execution_count": null,
      "outputs": [
        {
          "output_type": "execute_result",
          "data": {
            "text/plain": [
              "'mqs 0.64'"
            ],
            "application/vnd.google.colaboratory.intrinsic+json": {
              "type": "string"
            }
          },
          "metadata": {},
          "execution_count": 21
        }
      ]
    },
    {
      "cell_type": "code",
      "source": [
        "dataset['Contact System']=dataset['Contact System'].map(lambda x : x.lower())"
      ],
      "metadata": {
        "id": "Ir-o5uHro5P1"
      },
      "execution_count": null,
      "outputs": []
    },
    {
      "cell_type": "code",
      "source": [
        "df = dataset[dataset['Contact System']== n ]"
      ],
      "metadata": {
        "id": "1Yruu9dTpDq5"
      },
      "execution_count": null,
      "outputs": []
    },
    {
      "cell_type": "code",
      "source": [
        "df.head()"
      ],
      "metadata": {
        "colab": {
          "base_uri": "https://localhost:8080/",
          "height": 320
        },
        "id": "VCc7fwogpKY_",
        "outputId": "8a7e8868-9240-4c9d-91d3-88ab5e1e0a5c"
      },
      "execution_count": null,
      "outputs": [
        {
          "output_type": "execute_result",
          "data": {
            "text/plain": [
              "   Leoni Part Number Contact System Finish  Gender Material Name  \\\n",
              "0          P00117177       mqs 0.64     Au    male        CuNiSi   \n",
              "24         P00072169       mqs 0.64     Au  female        CuNiSi   \n",
              "26         P00072165       mqs 0.64     Au  female        CuNiSi   \n",
              "27         P00117178       mqs 0.64     Au    male        CuNiSi   \n",
              "28         P00117179       mqs 0.64     Au    male        CuNiSi   \n",
              "\n",
              "    Strip Length [mm] Sealability  Tab Thickness [mm]  Tab Width [mm]  \\\n",
              "0            3.817235    sealable                0.64            0.64   \n",
              "24           3.500000  unsealable                0.64            0.64   \n",
              "26           3.500000  unsealable                0.64            0.64   \n",
              "27           3.957289  unsealable                0.64            0.64   \n",
              "28           3.791847  unsealable                0.64            0.64   \n",
              "\n",
              "   Wire Material  Wire Max. External Diameter [mm]  \\\n",
              "0             Cu                          1.600000   \n",
              "24            Cu                          1.768718   \n",
              "26            Cu                          1.768644   \n",
              "27            Cu                          1.900000   \n",
              "28            Cu                          1.600000   \n",
              "\n",
              "    Wire Min. External Diameter [mm]  Wire Size Range From [mm²]  \\\n",
              "0                           1.142954                        0.25   \n",
              "24                          1.194998                        0.20   \n",
              "26                          1.195047                        0.20   \n",
              "27                          1.370154                        0.50   \n",
              "28                          1.154537                        0.25   \n",
              "\n",
              "    Wire Size Range To [mm²]   id  \n",
              "0                       0.35    2  \n",
              "24                      0.50   77  \n",
              "26                      0.50  215  \n",
              "27                      0.75  217  \n",
              "28                      0.35  218  "
            ],
            "text/html": [
              "\n",
              "  <div id=\"df-991bfc21-7480-4d9d-afa7-ed2ebf459b9f\">\n",
              "    <div class=\"colab-df-container\">\n",
              "      <div>\n",
              "<style scoped>\n",
              "    .dataframe tbody tr th:only-of-type {\n",
              "        vertical-align: middle;\n",
              "    }\n",
              "\n",
              "    .dataframe tbody tr th {\n",
              "        vertical-align: top;\n",
              "    }\n",
              "\n",
              "    .dataframe thead th {\n",
              "        text-align: right;\n",
              "    }\n",
              "</style>\n",
              "<table border=\"1\" class=\"dataframe\">\n",
              "  <thead>\n",
              "    <tr style=\"text-align: right;\">\n",
              "      <th></th>\n",
              "      <th>Leoni Part Number</th>\n",
              "      <th>Contact System</th>\n",
              "      <th>Finish</th>\n",
              "      <th>Gender</th>\n",
              "      <th>Material Name</th>\n",
              "      <th>Strip Length [mm]</th>\n",
              "      <th>Sealability</th>\n",
              "      <th>Tab Thickness [mm]</th>\n",
              "      <th>Tab Width [mm]</th>\n",
              "      <th>Wire Material</th>\n",
              "      <th>Wire Max. External Diameter [mm]</th>\n",
              "      <th>Wire Min. External Diameter [mm]</th>\n",
              "      <th>Wire Size Range From [mm²]</th>\n",
              "      <th>Wire Size Range To [mm²]</th>\n",
              "      <th>id</th>\n",
              "    </tr>\n",
              "  </thead>\n",
              "  <tbody>\n",
              "    <tr>\n",
              "      <th>0</th>\n",
              "      <td>P00117177</td>\n",
              "      <td>mqs 0.64</td>\n",
              "      <td>Au</td>\n",
              "      <td>male</td>\n",
              "      <td>CuNiSi</td>\n",
              "      <td>3.817235</td>\n",
              "      <td>sealable</td>\n",
              "      <td>0.64</td>\n",
              "      <td>0.64</td>\n",
              "      <td>Cu</td>\n",
              "      <td>1.600000</td>\n",
              "      <td>1.142954</td>\n",
              "      <td>0.25</td>\n",
              "      <td>0.35</td>\n",
              "      <td>2</td>\n",
              "    </tr>\n",
              "    <tr>\n",
              "      <th>24</th>\n",
              "      <td>P00072169</td>\n",
              "      <td>mqs 0.64</td>\n",
              "      <td>Au</td>\n",
              "      <td>female</td>\n",
              "      <td>CuNiSi</td>\n",
              "      <td>3.500000</td>\n",
              "      <td>unsealable</td>\n",
              "      <td>0.64</td>\n",
              "      <td>0.64</td>\n",
              "      <td>Cu</td>\n",
              "      <td>1.768718</td>\n",
              "      <td>1.194998</td>\n",
              "      <td>0.20</td>\n",
              "      <td>0.50</td>\n",
              "      <td>77</td>\n",
              "    </tr>\n",
              "    <tr>\n",
              "      <th>26</th>\n",
              "      <td>P00072165</td>\n",
              "      <td>mqs 0.64</td>\n",
              "      <td>Au</td>\n",
              "      <td>female</td>\n",
              "      <td>CuNiSi</td>\n",
              "      <td>3.500000</td>\n",
              "      <td>unsealable</td>\n",
              "      <td>0.64</td>\n",
              "      <td>0.64</td>\n",
              "      <td>Cu</td>\n",
              "      <td>1.768644</td>\n",
              "      <td>1.195047</td>\n",
              "      <td>0.20</td>\n",
              "      <td>0.50</td>\n",
              "      <td>215</td>\n",
              "    </tr>\n",
              "    <tr>\n",
              "      <th>27</th>\n",
              "      <td>P00117178</td>\n",
              "      <td>mqs 0.64</td>\n",
              "      <td>Au</td>\n",
              "      <td>male</td>\n",
              "      <td>CuNiSi</td>\n",
              "      <td>3.957289</td>\n",
              "      <td>unsealable</td>\n",
              "      <td>0.64</td>\n",
              "      <td>0.64</td>\n",
              "      <td>Cu</td>\n",
              "      <td>1.900000</td>\n",
              "      <td>1.370154</td>\n",
              "      <td>0.50</td>\n",
              "      <td>0.75</td>\n",
              "      <td>217</td>\n",
              "    </tr>\n",
              "    <tr>\n",
              "      <th>28</th>\n",
              "      <td>P00117179</td>\n",
              "      <td>mqs 0.64</td>\n",
              "      <td>Au</td>\n",
              "      <td>male</td>\n",
              "      <td>CuNiSi</td>\n",
              "      <td>3.791847</td>\n",
              "      <td>unsealable</td>\n",
              "      <td>0.64</td>\n",
              "      <td>0.64</td>\n",
              "      <td>Cu</td>\n",
              "      <td>1.600000</td>\n",
              "      <td>1.154537</td>\n",
              "      <td>0.25</td>\n",
              "      <td>0.35</td>\n",
              "      <td>218</td>\n",
              "    </tr>\n",
              "  </tbody>\n",
              "</table>\n",
              "</div>\n",
              "      <button class=\"colab-df-convert\" onclick=\"convertToInteractive('df-991bfc21-7480-4d9d-afa7-ed2ebf459b9f')\"\n",
              "              title=\"Convert this dataframe to an interactive table.\"\n",
              "              style=\"display:none;\">\n",
              "        \n",
              "  <svg xmlns=\"http://www.w3.org/2000/svg\" height=\"24px\"viewBox=\"0 0 24 24\"\n",
              "       width=\"24px\">\n",
              "    <path d=\"M0 0h24v24H0V0z\" fill=\"none\"/>\n",
              "    <path d=\"M18.56 5.44l.94 2.06.94-2.06 2.06-.94-2.06-.94-.94-2.06-.94 2.06-2.06.94zm-11 1L8.5 8.5l.94-2.06 2.06-.94-2.06-.94L8.5 2.5l-.94 2.06-2.06.94zm10 10l.94 2.06.94-2.06 2.06-.94-2.06-.94-.94-2.06-.94 2.06-2.06.94z\"/><path d=\"M17.41 7.96l-1.37-1.37c-.4-.4-.92-.59-1.43-.59-.52 0-1.04.2-1.43.59L10.3 9.45l-7.72 7.72c-.78.78-.78 2.05 0 2.83L4 21.41c.39.39.9.59 1.41.59.51 0 1.02-.2 1.41-.59l7.78-7.78 2.81-2.81c.8-.78.8-2.07 0-2.86zM5.41 20L4 18.59l7.72-7.72 1.47 1.35L5.41 20z\"/>\n",
              "  </svg>\n",
              "      </button>\n",
              "      \n",
              "  <style>\n",
              "    .colab-df-container {\n",
              "      display:flex;\n",
              "      flex-wrap:wrap;\n",
              "      gap: 12px;\n",
              "    }\n",
              "\n",
              "    .colab-df-convert {\n",
              "      background-color: #E8F0FE;\n",
              "      border: none;\n",
              "      border-radius: 50%;\n",
              "      cursor: pointer;\n",
              "      display: none;\n",
              "      fill: #1967D2;\n",
              "      height: 32px;\n",
              "      padding: 0 0 0 0;\n",
              "      width: 32px;\n",
              "    }\n",
              "\n",
              "    .colab-df-convert:hover {\n",
              "      background-color: #E2EBFA;\n",
              "      box-shadow: 0px 1px 2px rgba(60, 64, 67, 0.3), 0px 1px 3px 1px rgba(60, 64, 67, 0.15);\n",
              "      fill: #174EA6;\n",
              "    }\n",
              "\n",
              "    [theme=dark] .colab-df-convert {\n",
              "      background-color: #3B4455;\n",
              "      fill: #D2E3FC;\n",
              "    }\n",
              "\n",
              "    [theme=dark] .colab-df-convert:hover {\n",
              "      background-color: #434B5C;\n",
              "      box-shadow: 0px 1px 3px 1px rgba(0, 0, 0, 0.15);\n",
              "      filter: drop-shadow(0px 1px 2px rgba(0, 0, 0, 0.3));\n",
              "      fill: #FFFFFF;\n",
              "    }\n",
              "  </style>\n",
              "\n",
              "      <script>\n",
              "        const buttonEl =\n",
              "          document.querySelector('#df-991bfc21-7480-4d9d-afa7-ed2ebf459b9f button.colab-df-convert');\n",
              "        buttonEl.style.display =\n",
              "          google.colab.kernel.accessAllowed ? 'block' : 'none';\n",
              "\n",
              "        async function convertToInteractive(key) {\n",
              "          const element = document.querySelector('#df-991bfc21-7480-4d9d-afa7-ed2ebf459b9f');\n",
              "          const dataTable =\n",
              "            await google.colab.kernel.invokeFunction('convertToInteractive',\n",
              "                                                     [key], {});\n",
              "          if (!dataTable) return;\n",
              "\n",
              "          const docLinkHtml = 'Like what you see? Visit the ' +\n",
              "            '<a target=\"_blank\" href=https://colab.research.google.com/notebooks/data_table.ipynb>data table notebook</a>'\n",
              "            + ' to learn more about interactive tables.';\n",
              "          element.innerHTML = '';\n",
              "          dataTable['output_type'] = 'display_data';\n",
              "          await google.colab.output.renderOutput(dataTable, element);\n",
              "          const docLink = document.createElement('div');\n",
              "          docLink.innerHTML = docLinkHtml;\n",
              "          element.appendChild(docLink);\n",
              "        }\n",
              "      </script>\n",
              "    </div>\n",
              "  </div>\n",
              "  "
            ]
          },
          "metadata": {},
          "execution_count": 24
        }
      ]
    },
    {
      "cell_type": "code",
      "source": [
        "df.shape"
      ],
      "metadata": {
        "colab": {
          "base_uri": "https://localhost:8080/"
        },
        "id": "dku3AUJp51gz",
        "outputId": "b46394b5-0f83-4167-f36c-21e5082664ca"
      },
      "execution_count": null,
      "outputs": [
        {
          "output_type": "execute_result",
          "data": {
            "text/plain": [
              "(110, 15)"
            ]
          },
          "metadata": {},
          "execution_count": 25
        }
      ]
    },
    {
      "cell_type": "markdown",
      "source": [
        "# **Finish**"
      ],
      "metadata": {
        "id": "xC1ALk-mFbrE"
      }
    },
    {
      "cell_type": "code",
      "source": [
        "n = input(\"please enter Finish\")"
      ],
      "metadata": {
        "colab": {
          "base_uri": "https://localhost:8080/"
        },
        "outputId": "25460f92-53d4-4ab2-9936-0fe54ed57618",
        "id": "A60MxocvFPNV"
      },
      "execution_count": null,
      "outputs": [
        {
          "name": "stdout",
          "output_type": "stream",
          "text": [
            "please enter FinishAu\n"
          ]
        }
      ]
    },
    {
      "cell_type": "code",
      "source": [
        "df.reset_index(inplace=True)"
      ],
      "metadata": {
        "id": "ngUGUq1zTuqH"
      },
      "execution_count": null,
      "outputs": []
    },
    {
      "cell_type": "code",
      "source": [
        "df.shape"
      ],
      "metadata": {
        "id": "Bpl23GlchVBP",
        "colab": {
          "base_uri": "https://localhost:8080/"
        },
        "outputId": "57708f5e-bebd-4a2e-b49b-51929d238f07"
      },
      "execution_count": null,
      "outputs": [
        {
          "output_type": "execute_result",
          "data": {
            "text/plain": [
              "(110, 16)"
            ]
          },
          "metadata": {},
          "execution_count": 28
        }
      ]
    },
    {
      "cell_type": "code",
      "source": [
        "df.head(10)"
      ],
      "metadata": {
        "id": "U_GjwhEns8CI",
        "colab": {
          "base_uri": "https://localhost:8080/",
          "height": 476
        },
        "outputId": "0fac4017-d49e-4f7d-ce68-fda3e1d31dba"
      },
      "execution_count": null,
      "outputs": [
        {
          "output_type": "execute_result",
          "data": {
            "text/plain": [
              "   index Leoni Part Number Contact System Finish  Gender Material Name  \\\n",
              "0      0         P00117177       mqs 0.64     Au    male        CuNiSi   \n",
              "1     24         P00072169       mqs 0.64     Au  female        CuNiSi   \n",
              "2     26         P00072165       mqs 0.64     Au  female        CuNiSi   \n",
              "3     27         P00117178       mqs 0.64     Au    male        CuNiSi   \n",
              "4     28         P00117179       mqs 0.64     Au    male        CuNiSi   \n",
              "5     32         P00117112       mqs 0.64     Sn  female        CuNiSi   \n",
              "6     33         P00145673       mqs 0.64     Au  female        CuNiSi   \n",
              "7    257         P00130436       mqs 0.64     Sn    male        CuNiSi   \n",
              "8    261         P00072678       mqs 0.64     Au  female        CuNiSi   \n",
              "9    280         P00146977       mqs 0.64     Au  female        CuNiSi   \n",
              "\n",
              "   Strip Length [mm] Sealability  Tab Thickness [mm]  Tab Width [mm]  \\\n",
              "0           3.817235    sealable            0.640000            0.64   \n",
              "1           3.500000  unsealable            0.640000            0.64   \n",
              "2           3.500000  unsealable            0.640000            0.64   \n",
              "3           3.957289  unsealable            0.640000            0.64   \n",
              "4           3.791847  unsealable            0.640000            0.64   \n",
              "5           3.959699    sealable            0.640000            0.64   \n",
              "6           3.350000    sealable            0.640000            0.64   \n",
              "7           3.050000    sealable            0.630000            0.63   \n",
              "8           3.977631    sealable            0.640000            0.64   \n",
              "9           3.500000    sealable            0.668484            0.64   \n",
              "\n",
              "  Wire Material  Wire Max. External Diameter [mm]  \\\n",
              "0            Cu                          1.600000   \n",
              "1            Cu                          1.768718   \n",
              "2            Cu                          1.768644   \n",
              "3            Cu                          1.900000   \n",
              "4            Cu                          1.600000   \n",
              "5            Cu                          1.600000   \n",
              "6            Cu                          1.900000   \n",
              "7            Cu                          1.250000   \n",
              "8            Cu                          1.925035   \n",
              "9            Cu                          1.900000   \n",
              "\n",
              "   Wire Min. External Diameter [mm]  Wire Size Range From [mm²]  \\\n",
              "0                          1.142954                        0.25   \n",
              "1                          1.194998                        0.20   \n",
              "2                          1.195047                        0.20   \n",
              "3                          1.370154                        0.50   \n",
              "4                          1.154537                        0.25   \n",
              "5                          1.219735                        0.25   \n",
              "6                          1.391066                        0.50   \n",
              "7                          0.850000                        0.13   \n",
              "8                          1.391277                        0.50   \n",
              "9                          1.300000                        0.50   \n",
              "\n",
              "   Wire Size Range To [mm²]   id  \n",
              "0                      0.35    2  \n",
              "1                      0.50   77  \n",
              "2                      0.50  215  \n",
              "3                      0.75  217  \n",
              "4                      0.35  218  \n",
              "5                      0.35  252  \n",
              "6                      0.75  262  \n",
              "7                      0.17  848  \n",
              "8                      0.75  860  \n",
              "9                      0.75  922  "
            ],
            "text/html": [
              "\n",
              "  <div id=\"df-4b5b541f-af6c-458a-b8f5-8b79f77e4ab4\">\n",
              "    <div class=\"colab-df-container\">\n",
              "      <div>\n",
              "<style scoped>\n",
              "    .dataframe tbody tr th:only-of-type {\n",
              "        vertical-align: middle;\n",
              "    }\n",
              "\n",
              "    .dataframe tbody tr th {\n",
              "        vertical-align: top;\n",
              "    }\n",
              "\n",
              "    .dataframe thead th {\n",
              "        text-align: right;\n",
              "    }\n",
              "</style>\n",
              "<table border=\"1\" class=\"dataframe\">\n",
              "  <thead>\n",
              "    <tr style=\"text-align: right;\">\n",
              "      <th></th>\n",
              "      <th>index</th>\n",
              "      <th>Leoni Part Number</th>\n",
              "      <th>Contact System</th>\n",
              "      <th>Finish</th>\n",
              "      <th>Gender</th>\n",
              "      <th>Material Name</th>\n",
              "      <th>Strip Length [mm]</th>\n",
              "      <th>Sealability</th>\n",
              "      <th>Tab Thickness [mm]</th>\n",
              "      <th>Tab Width [mm]</th>\n",
              "      <th>Wire Material</th>\n",
              "      <th>Wire Max. External Diameter [mm]</th>\n",
              "      <th>Wire Min. External Diameter [mm]</th>\n",
              "      <th>Wire Size Range From [mm²]</th>\n",
              "      <th>Wire Size Range To [mm²]</th>\n",
              "      <th>id</th>\n",
              "    </tr>\n",
              "  </thead>\n",
              "  <tbody>\n",
              "    <tr>\n",
              "      <th>0</th>\n",
              "      <td>0</td>\n",
              "      <td>P00117177</td>\n",
              "      <td>mqs 0.64</td>\n",
              "      <td>Au</td>\n",
              "      <td>male</td>\n",
              "      <td>CuNiSi</td>\n",
              "      <td>3.817235</td>\n",
              "      <td>sealable</td>\n",
              "      <td>0.640000</td>\n",
              "      <td>0.64</td>\n",
              "      <td>Cu</td>\n",
              "      <td>1.600000</td>\n",
              "      <td>1.142954</td>\n",
              "      <td>0.25</td>\n",
              "      <td>0.35</td>\n",
              "      <td>2</td>\n",
              "    </tr>\n",
              "    <tr>\n",
              "      <th>1</th>\n",
              "      <td>24</td>\n",
              "      <td>P00072169</td>\n",
              "      <td>mqs 0.64</td>\n",
              "      <td>Au</td>\n",
              "      <td>female</td>\n",
              "      <td>CuNiSi</td>\n",
              "      <td>3.500000</td>\n",
              "      <td>unsealable</td>\n",
              "      <td>0.640000</td>\n",
              "      <td>0.64</td>\n",
              "      <td>Cu</td>\n",
              "      <td>1.768718</td>\n",
              "      <td>1.194998</td>\n",
              "      <td>0.20</td>\n",
              "      <td>0.50</td>\n",
              "      <td>77</td>\n",
              "    </tr>\n",
              "    <tr>\n",
              "      <th>2</th>\n",
              "      <td>26</td>\n",
              "      <td>P00072165</td>\n",
              "      <td>mqs 0.64</td>\n",
              "      <td>Au</td>\n",
              "      <td>female</td>\n",
              "      <td>CuNiSi</td>\n",
              "      <td>3.500000</td>\n",
              "      <td>unsealable</td>\n",
              "      <td>0.640000</td>\n",
              "      <td>0.64</td>\n",
              "      <td>Cu</td>\n",
              "      <td>1.768644</td>\n",
              "      <td>1.195047</td>\n",
              "      <td>0.20</td>\n",
              "      <td>0.50</td>\n",
              "      <td>215</td>\n",
              "    </tr>\n",
              "    <tr>\n",
              "      <th>3</th>\n",
              "      <td>27</td>\n",
              "      <td>P00117178</td>\n",
              "      <td>mqs 0.64</td>\n",
              "      <td>Au</td>\n",
              "      <td>male</td>\n",
              "      <td>CuNiSi</td>\n",
              "      <td>3.957289</td>\n",
              "      <td>unsealable</td>\n",
              "      <td>0.640000</td>\n",
              "      <td>0.64</td>\n",
              "      <td>Cu</td>\n",
              "      <td>1.900000</td>\n",
              "      <td>1.370154</td>\n",
              "      <td>0.50</td>\n",
              "      <td>0.75</td>\n",
              "      <td>217</td>\n",
              "    </tr>\n",
              "    <tr>\n",
              "      <th>4</th>\n",
              "      <td>28</td>\n",
              "      <td>P00117179</td>\n",
              "      <td>mqs 0.64</td>\n",
              "      <td>Au</td>\n",
              "      <td>male</td>\n",
              "      <td>CuNiSi</td>\n",
              "      <td>3.791847</td>\n",
              "      <td>unsealable</td>\n",
              "      <td>0.640000</td>\n",
              "      <td>0.64</td>\n",
              "      <td>Cu</td>\n",
              "      <td>1.600000</td>\n",
              "      <td>1.154537</td>\n",
              "      <td>0.25</td>\n",
              "      <td>0.35</td>\n",
              "      <td>218</td>\n",
              "    </tr>\n",
              "    <tr>\n",
              "      <th>5</th>\n",
              "      <td>32</td>\n",
              "      <td>P00117112</td>\n",
              "      <td>mqs 0.64</td>\n",
              "      <td>Sn</td>\n",
              "      <td>female</td>\n",
              "      <td>CuNiSi</td>\n",
              "      <td>3.959699</td>\n",
              "      <td>sealable</td>\n",
              "      <td>0.640000</td>\n",
              "      <td>0.64</td>\n",
              "      <td>Cu</td>\n",
              "      <td>1.600000</td>\n",
              "      <td>1.219735</td>\n",
              "      <td>0.25</td>\n",
              "      <td>0.35</td>\n",
              "      <td>252</td>\n",
              "    </tr>\n",
              "    <tr>\n",
              "      <th>6</th>\n",
              "      <td>33</td>\n",
              "      <td>P00145673</td>\n",
              "      <td>mqs 0.64</td>\n",
              "      <td>Au</td>\n",
              "      <td>female</td>\n",
              "      <td>CuNiSi</td>\n",
              "      <td>3.350000</td>\n",
              "      <td>sealable</td>\n",
              "      <td>0.640000</td>\n",
              "      <td>0.64</td>\n",
              "      <td>Cu</td>\n",
              "      <td>1.900000</td>\n",
              "      <td>1.391066</td>\n",
              "      <td>0.50</td>\n",
              "      <td>0.75</td>\n",
              "      <td>262</td>\n",
              "    </tr>\n",
              "    <tr>\n",
              "      <th>7</th>\n",
              "      <td>257</td>\n",
              "      <td>P00130436</td>\n",
              "      <td>mqs 0.64</td>\n",
              "      <td>Sn</td>\n",
              "      <td>male</td>\n",
              "      <td>CuNiSi</td>\n",
              "      <td>3.050000</td>\n",
              "      <td>sealable</td>\n",
              "      <td>0.630000</td>\n",
              "      <td>0.63</td>\n",
              "      <td>Cu</td>\n",
              "      <td>1.250000</td>\n",
              "      <td>0.850000</td>\n",
              "      <td>0.13</td>\n",
              "      <td>0.17</td>\n",
              "      <td>848</td>\n",
              "    </tr>\n",
              "    <tr>\n",
              "      <th>8</th>\n",
              "      <td>261</td>\n",
              "      <td>P00072678</td>\n",
              "      <td>mqs 0.64</td>\n",
              "      <td>Au</td>\n",
              "      <td>female</td>\n",
              "      <td>CuNiSi</td>\n",
              "      <td>3.977631</td>\n",
              "      <td>sealable</td>\n",
              "      <td>0.640000</td>\n",
              "      <td>0.64</td>\n",
              "      <td>Cu</td>\n",
              "      <td>1.925035</td>\n",
              "      <td>1.391277</td>\n",
              "      <td>0.50</td>\n",
              "      <td>0.75</td>\n",
              "      <td>860</td>\n",
              "    </tr>\n",
              "    <tr>\n",
              "      <th>9</th>\n",
              "      <td>280</td>\n",
              "      <td>P00146977</td>\n",
              "      <td>mqs 0.64</td>\n",
              "      <td>Au</td>\n",
              "      <td>female</td>\n",
              "      <td>CuNiSi</td>\n",
              "      <td>3.500000</td>\n",
              "      <td>sealable</td>\n",
              "      <td>0.668484</td>\n",
              "      <td>0.64</td>\n",
              "      <td>Cu</td>\n",
              "      <td>1.900000</td>\n",
              "      <td>1.300000</td>\n",
              "      <td>0.50</td>\n",
              "      <td>0.75</td>\n",
              "      <td>922</td>\n",
              "    </tr>\n",
              "  </tbody>\n",
              "</table>\n",
              "</div>\n",
              "      <button class=\"colab-df-convert\" onclick=\"convertToInteractive('df-4b5b541f-af6c-458a-b8f5-8b79f77e4ab4')\"\n",
              "              title=\"Convert this dataframe to an interactive table.\"\n",
              "              style=\"display:none;\">\n",
              "        \n",
              "  <svg xmlns=\"http://www.w3.org/2000/svg\" height=\"24px\"viewBox=\"0 0 24 24\"\n",
              "       width=\"24px\">\n",
              "    <path d=\"M0 0h24v24H0V0z\" fill=\"none\"/>\n",
              "    <path d=\"M18.56 5.44l.94 2.06.94-2.06 2.06-.94-2.06-.94-.94-2.06-.94 2.06-2.06.94zm-11 1L8.5 8.5l.94-2.06 2.06-.94-2.06-.94L8.5 2.5l-.94 2.06-2.06.94zm10 10l.94 2.06.94-2.06 2.06-.94-2.06-.94-.94-2.06-.94 2.06-2.06.94z\"/><path d=\"M17.41 7.96l-1.37-1.37c-.4-.4-.92-.59-1.43-.59-.52 0-1.04.2-1.43.59L10.3 9.45l-7.72 7.72c-.78.78-.78 2.05 0 2.83L4 21.41c.39.39.9.59 1.41.59.51 0 1.02-.2 1.41-.59l7.78-7.78 2.81-2.81c.8-.78.8-2.07 0-2.86zM5.41 20L4 18.59l7.72-7.72 1.47 1.35L5.41 20z\"/>\n",
              "  </svg>\n",
              "      </button>\n",
              "      \n",
              "  <style>\n",
              "    .colab-df-container {\n",
              "      display:flex;\n",
              "      flex-wrap:wrap;\n",
              "      gap: 12px;\n",
              "    }\n",
              "\n",
              "    .colab-df-convert {\n",
              "      background-color: #E8F0FE;\n",
              "      border: none;\n",
              "      border-radius: 50%;\n",
              "      cursor: pointer;\n",
              "      display: none;\n",
              "      fill: #1967D2;\n",
              "      height: 32px;\n",
              "      padding: 0 0 0 0;\n",
              "      width: 32px;\n",
              "    }\n",
              "\n",
              "    .colab-df-convert:hover {\n",
              "      background-color: #E2EBFA;\n",
              "      box-shadow: 0px 1px 2px rgba(60, 64, 67, 0.3), 0px 1px 3px 1px rgba(60, 64, 67, 0.15);\n",
              "      fill: #174EA6;\n",
              "    }\n",
              "\n",
              "    [theme=dark] .colab-df-convert {\n",
              "      background-color: #3B4455;\n",
              "      fill: #D2E3FC;\n",
              "    }\n",
              "\n",
              "    [theme=dark] .colab-df-convert:hover {\n",
              "      background-color: #434B5C;\n",
              "      box-shadow: 0px 1px 3px 1px rgba(0, 0, 0, 0.15);\n",
              "      filter: drop-shadow(0px 1px 2px rgba(0, 0, 0, 0.3));\n",
              "      fill: #FFFFFF;\n",
              "    }\n",
              "  </style>\n",
              "\n",
              "      <script>\n",
              "        const buttonEl =\n",
              "          document.querySelector('#df-4b5b541f-af6c-458a-b8f5-8b79f77e4ab4 button.colab-df-convert');\n",
              "        buttonEl.style.display =\n",
              "          google.colab.kernel.accessAllowed ? 'block' : 'none';\n",
              "\n",
              "        async function convertToInteractive(key) {\n",
              "          const element = document.querySelector('#df-4b5b541f-af6c-458a-b8f5-8b79f77e4ab4');\n",
              "          const dataTable =\n",
              "            await google.colab.kernel.invokeFunction('convertToInteractive',\n",
              "                                                     [key], {});\n",
              "          if (!dataTable) return;\n",
              "\n",
              "          const docLinkHtml = 'Like what you see? Visit the ' +\n",
              "            '<a target=\"_blank\" href=https://colab.research.google.com/notebooks/data_table.ipynb>data table notebook</a>'\n",
              "            + ' to learn more about interactive tables.';\n",
              "          element.innerHTML = '';\n",
              "          dataTable['output_type'] = 'display_data';\n",
              "          await google.colab.output.renderOutput(dataTable, element);\n",
              "          const docLink = document.createElement('div');\n",
              "          docLink.innerHTML = docLinkHtml;\n",
              "          element.appendChild(docLink);\n",
              "        }\n",
              "      </script>\n",
              "    </div>\n",
              "  </div>\n",
              "  "
            ]
          },
          "metadata": {},
          "execution_count": 29
        }
      ]
    },
    {
      "cell_type": "code",
      "source": [
        "import pandas as pd\n",
        "from sklearn.feature_extraction.text import TfidfVectorizer\n",
        "from sklearn.metrics.pairwise import linear_kernel\n",
        "\n",
        "scores = set()\n",
        "tf = TfidfVectorizer()\n",
        "tfidf_matrix = tf.fit_transform(df[\"Finish\"])\n",
        "\n",
        "cosine_similarities = linear_kernel(tfidf_matrix, tfidf_matrix)\n",
        "\n",
        "def index_from_product(df,product):\n",
        "\n",
        "    return df[df['Finish']==product].index.values[0]\n",
        "def recommenda( product, df,cosine_similarity_matrix):\n",
        "\n",
        "    index = index_from_product(df,product)\n",
        "\n",
        "    similarity_scores = list(enumerate(cosine_similarity_matrix[index]))\n",
        "    \n",
        "    similarity_scores_sorted = sorted(similarity_scores, key=lambda x: x[1], reverse=True)\n",
        "    recommendations_indices = []\n",
        "    for t in similarity_scores_sorted:\n",
        "        recommendations_indices.append([t[0],t[1]])\n",
        "        scores.add(t[1])\n",
        "\n",
        "    l= sorted(scores)\n",
        "    n= len(l)\n",
        "    print(l[int(n/2)])\n",
        "    lis=[]\n",
        "    for i in recommendations_indices:\n",
        "        if (i[1] != 0):\n",
        "            id=df['id'].iloc[i[0]]\n",
        "            lis.append(df[df[\"id\"]==id].index[0])\n",
        "            print(\"Recommended: \" + df['Finish'].iloc[i[0]] + \" (score:\" + str(i[1]) + \")\")\n",
        "    print(lis)\n",
        "    return(lis)"
      ],
      "metadata": {
        "id": "7gj4M3_TMN6W"
      },
      "execution_count": null,
      "outputs": []
    },
    {
      "cell_type": "code",
      "source": [
        "l=recommenda(n, df, cosine_similarities)"
      ],
      "metadata": {
        "id": "BLgEDiBeMUDO",
        "colab": {
          "base_uri": "https://localhost:8080/"
        },
        "outputId": "a7d553ab-da8f-4946-fceb-e3a8f5ff25ab"
      },
      "execution_count": null,
      "outputs": [
        {
          "output_type": "stream",
          "name": "stdout",
          "text": [
            "1.0\n",
            "Recommended: Au (score:1.0)\n",
            "Recommended: Au (score:1.0)\n",
            "Recommended: Au (score:1.0)\n",
            "Recommended: Au (score:1.0)\n",
            "Recommended: Au (score:1.0)\n",
            "Recommended: Au (score:1.0)\n",
            "Recommended: Au (score:1.0)\n",
            "Recommended: Au (score:1.0)\n",
            "Recommended: Au (score:1.0)\n",
            "Recommended: Au (score:1.0)\n",
            "Recommended: Au (score:1.0)\n",
            "Recommended: Au (score:1.0)\n",
            "Recommended: Au (score:1.0)\n",
            "Recommended: Au (score:1.0)\n",
            "Recommended: Au (score:1.0)\n",
            "Recommended: Au (score:1.0)\n",
            "Recommended: Au (score:1.0)\n",
            "Recommended: Au (score:1.0)\n",
            "Recommended: Au (score:1.0)\n",
            "Recommended: Au (score:1.0)\n",
            "Recommended: Au (score:1.0)\n",
            "Recommended: Au (score:1.0)\n",
            "Recommended: Au (score:1.0)\n",
            "Recommended: Au (score:1.0)\n",
            "Recommended: Au (score:1.0)\n",
            "Recommended: Au (score:1.0)\n",
            "Recommended: Au (score:1.0)\n",
            "Recommended: Au (score:1.0)\n",
            "Recommended: Au (score:1.0)\n",
            "Recommended: Au (score:1.0)\n",
            "Recommended: Au (score:1.0)\n",
            "Recommended: Au (score:1.0)\n",
            "Recommended: Au (score:1.0)\n",
            "Recommended: Au (score:1.0)\n",
            "Recommended: Au (score:1.0)\n",
            "Recommended: Au (score:1.0)\n",
            "Recommended: Au (score:1.0)\n",
            "Recommended: Au (score:1.0)\n",
            "Recommended: Au (score:1.0)\n",
            "Recommended: Au (score:1.0)\n",
            "Recommended: Au (score:1.0)\n",
            "Recommended: Au (score:1.0)\n",
            "Recommended: Au (score:1.0)\n",
            "Recommended: Au (score:1.0)\n",
            "Recommended: Au (score:1.0)\n",
            "Recommended: Au (score:1.0)\n",
            "Recommended: Au (score:1.0)\n",
            "Recommended: Au (score:1.0)\n",
            "Recommended: Au (score:1.0)\n",
            "Recommended: Au (score:1.0)\n",
            "Recommended: Au (score:1.0)\n",
            "Recommended: Au (score:1.0)\n",
            "Recommended: Au (score:1.0)\n",
            "[0, 1, 2, 3, 4, 6, 8, 9, 10, 11, 12, 16, 20, 22, 26, 28, 29, 31, 32, 36, 37, 38, 47, 56, 57, 58, 59, 60, 62, 63, 64, 65, 66, 67, 68, 71, 72, 77, 79, 80, 84, 85, 88, 89, 90, 92, 93, 96, 99, 101, 103, 104, 106]\n"
          ]
        }
      ]
    },
    {
      "cell_type": "code",
      "source": [
        "df_result= df.loc[l]"
      ],
      "metadata": {
        "id": "FzSoXax15otc"
      },
      "execution_count": null,
      "outputs": []
    },
    {
      "cell_type": "code",
      "source": [
        "df_result.shape\n"
      ],
      "metadata": {
        "id": "wiZQZT7LhDJ4",
        "colab": {
          "base_uri": "https://localhost:8080/"
        },
        "outputId": "1d3d0b3d-e030-4677-9c26-788c901d27e3"
      },
      "execution_count": null,
      "outputs": [
        {
          "output_type": "execute_result",
          "data": {
            "text/plain": [
              "(53, 16)"
            ]
          },
          "metadata": {},
          "execution_count": 33
        }
      ]
    },
    {
      "cell_type": "code",
      "source": [
        "df_result.head()"
      ],
      "metadata": {
        "id": "s4iz0FVH6H7r",
        "colab": {
          "base_uri": "https://localhost:8080/",
          "height": 320
        },
        "outputId": "12ab9b19-0dd8-46b6-b7fc-e81311db0ba1"
      },
      "execution_count": null,
      "outputs": [
        {
          "output_type": "execute_result",
          "data": {
            "text/plain": [
              "   index Leoni Part Number Contact System Finish  Gender Material Name  \\\n",
              "0      0         P00117177       mqs 0.64     Au    male        CuNiSi   \n",
              "1     24         P00072169       mqs 0.64     Au  female        CuNiSi   \n",
              "2     26         P00072165       mqs 0.64     Au  female        CuNiSi   \n",
              "3     27         P00117178       mqs 0.64     Au    male        CuNiSi   \n",
              "4     28         P00117179       mqs 0.64     Au    male        CuNiSi   \n",
              "\n",
              "   Strip Length [mm] Sealability  Tab Thickness [mm]  Tab Width [mm]  \\\n",
              "0           3.817235    sealable                0.64            0.64   \n",
              "1           3.500000  unsealable                0.64            0.64   \n",
              "2           3.500000  unsealable                0.64            0.64   \n",
              "3           3.957289  unsealable                0.64            0.64   \n",
              "4           3.791847  unsealable                0.64            0.64   \n",
              "\n",
              "  Wire Material  Wire Max. External Diameter [mm]  \\\n",
              "0            Cu                          1.600000   \n",
              "1            Cu                          1.768718   \n",
              "2            Cu                          1.768644   \n",
              "3            Cu                          1.900000   \n",
              "4            Cu                          1.600000   \n",
              "\n",
              "   Wire Min. External Diameter [mm]  Wire Size Range From [mm²]  \\\n",
              "0                          1.142954                        0.25   \n",
              "1                          1.194998                        0.20   \n",
              "2                          1.195047                        0.20   \n",
              "3                          1.370154                        0.50   \n",
              "4                          1.154537                        0.25   \n",
              "\n",
              "   Wire Size Range To [mm²]   id  \n",
              "0                      0.35    2  \n",
              "1                      0.50   77  \n",
              "2                      0.50  215  \n",
              "3                      0.75  217  \n",
              "4                      0.35  218  "
            ],
            "text/html": [
              "\n",
              "  <div id=\"df-7550eec4-e6b7-4d84-b77e-5b514336730b\">\n",
              "    <div class=\"colab-df-container\">\n",
              "      <div>\n",
              "<style scoped>\n",
              "    .dataframe tbody tr th:only-of-type {\n",
              "        vertical-align: middle;\n",
              "    }\n",
              "\n",
              "    .dataframe tbody tr th {\n",
              "        vertical-align: top;\n",
              "    }\n",
              "\n",
              "    .dataframe thead th {\n",
              "        text-align: right;\n",
              "    }\n",
              "</style>\n",
              "<table border=\"1\" class=\"dataframe\">\n",
              "  <thead>\n",
              "    <tr style=\"text-align: right;\">\n",
              "      <th></th>\n",
              "      <th>index</th>\n",
              "      <th>Leoni Part Number</th>\n",
              "      <th>Contact System</th>\n",
              "      <th>Finish</th>\n",
              "      <th>Gender</th>\n",
              "      <th>Material Name</th>\n",
              "      <th>Strip Length [mm]</th>\n",
              "      <th>Sealability</th>\n",
              "      <th>Tab Thickness [mm]</th>\n",
              "      <th>Tab Width [mm]</th>\n",
              "      <th>Wire Material</th>\n",
              "      <th>Wire Max. External Diameter [mm]</th>\n",
              "      <th>Wire Min. External Diameter [mm]</th>\n",
              "      <th>Wire Size Range From [mm²]</th>\n",
              "      <th>Wire Size Range To [mm²]</th>\n",
              "      <th>id</th>\n",
              "    </tr>\n",
              "  </thead>\n",
              "  <tbody>\n",
              "    <tr>\n",
              "      <th>0</th>\n",
              "      <td>0</td>\n",
              "      <td>P00117177</td>\n",
              "      <td>mqs 0.64</td>\n",
              "      <td>Au</td>\n",
              "      <td>male</td>\n",
              "      <td>CuNiSi</td>\n",
              "      <td>3.817235</td>\n",
              "      <td>sealable</td>\n",
              "      <td>0.64</td>\n",
              "      <td>0.64</td>\n",
              "      <td>Cu</td>\n",
              "      <td>1.600000</td>\n",
              "      <td>1.142954</td>\n",
              "      <td>0.25</td>\n",
              "      <td>0.35</td>\n",
              "      <td>2</td>\n",
              "    </tr>\n",
              "    <tr>\n",
              "      <th>1</th>\n",
              "      <td>24</td>\n",
              "      <td>P00072169</td>\n",
              "      <td>mqs 0.64</td>\n",
              "      <td>Au</td>\n",
              "      <td>female</td>\n",
              "      <td>CuNiSi</td>\n",
              "      <td>3.500000</td>\n",
              "      <td>unsealable</td>\n",
              "      <td>0.64</td>\n",
              "      <td>0.64</td>\n",
              "      <td>Cu</td>\n",
              "      <td>1.768718</td>\n",
              "      <td>1.194998</td>\n",
              "      <td>0.20</td>\n",
              "      <td>0.50</td>\n",
              "      <td>77</td>\n",
              "    </tr>\n",
              "    <tr>\n",
              "      <th>2</th>\n",
              "      <td>26</td>\n",
              "      <td>P00072165</td>\n",
              "      <td>mqs 0.64</td>\n",
              "      <td>Au</td>\n",
              "      <td>female</td>\n",
              "      <td>CuNiSi</td>\n",
              "      <td>3.500000</td>\n",
              "      <td>unsealable</td>\n",
              "      <td>0.64</td>\n",
              "      <td>0.64</td>\n",
              "      <td>Cu</td>\n",
              "      <td>1.768644</td>\n",
              "      <td>1.195047</td>\n",
              "      <td>0.20</td>\n",
              "      <td>0.50</td>\n",
              "      <td>215</td>\n",
              "    </tr>\n",
              "    <tr>\n",
              "      <th>3</th>\n",
              "      <td>27</td>\n",
              "      <td>P00117178</td>\n",
              "      <td>mqs 0.64</td>\n",
              "      <td>Au</td>\n",
              "      <td>male</td>\n",
              "      <td>CuNiSi</td>\n",
              "      <td>3.957289</td>\n",
              "      <td>unsealable</td>\n",
              "      <td>0.64</td>\n",
              "      <td>0.64</td>\n",
              "      <td>Cu</td>\n",
              "      <td>1.900000</td>\n",
              "      <td>1.370154</td>\n",
              "      <td>0.50</td>\n",
              "      <td>0.75</td>\n",
              "      <td>217</td>\n",
              "    </tr>\n",
              "    <tr>\n",
              "      <th>4</th>\n",
              "      <td>28</td>\n",
              "      <td>P00117179</td>\n",
              "      <td>mqs 0.64</td>\n",
              "      <td>Au</td>\n",
              "      <td>male</td>\n",
              "      <td>CuNiSi</td>\n",
              "      <td>3.791847</td>\n",
              "      <td>unsealable</td>\n",
              "      <td>0.64</td>\n",
              "      <td>0.64</td>\n",
              "      <td>Cu</td>\n",
              "      <td>1.600000</td>\n",
              "      <td>1.154537</td>\n",
              "      <td>0.25</td>\n",
              "      <td>0.35</td>\n",
              "      <td>218</td>\n",
              "    </tr>\n",
              "  </tbody>\n",
              "</table>\n",
              "</div>\n",
              "      <button class=\"colab-df-convert\" onclick=\"convertToInteractive('df-7550eec4-e6b7-4d84-b77e-5b514336730b')\"\n",
              "              title=\"Convert this dataframe to an interactive table.\"\n",
              "              style=\"display:none;\">\n",
              "        \n",
              "  <svg xmlns=\"http://www.w3.org/2000/svg\" height=\"24px\"viewBox=\"0 0 24 24\"\n",
              "       width=\"24px\">\n",
              "    <path d=\"M0 0h24v24H0V0z\" fill=\"none\"/>\n",
              "    <path d=\"M18.56 5.44l.94 2.06.94-2.06 2.06-.94-2.06-.94-.94-2.06-.94 2.06-2.06.94zm-11 1L8.5 8.5l.94-2.06 2.06-.94-2.06-.94L8.5 2.5l-.94 2.06-2.06.94zm10 10l.94 2.06.94-2.06 2.06-.94-2.06-.94-.94-2.06-.94 2.06-2.06.94z\"/><path d=\"M17.41 7.96l-1.37-1.37c-.4-.4-.92-.59-1.43-.59-.52 0-1.04.2-1.43.59L10.3 9.45l-7.72 7.72c-.78.78-.78 2.05 0 2.83L4 21.41c.39.39.9.59 1.41.59.51 0 1.02-.2 1.41-.59l7.78-7.78 2.81-2.81c.8-.78.8-2.07 0-2.86zM5.41 20L4 18.59l7.72-7.72 1.47 1.35L5.41 20z\"/>\n",
              "  </svg>\n",
              "      </button>\n",
              "      \n",
              "  <style>\n",
              "    .colab-df-container {\n",
              "      display:flex;\n",
              "      flex-wrap:wrap;\n",
              "      gap: 12px;\n",
              "    }\n",
              "\n",
              "    .colab-df-convert {\n",
              "      background-color: #E8F0FE;\n",
              "      border: none;\n",
              "      border-radius: 50%;\n",
              "      cursor: pointer;\n",
              "      display: none;\n",
              "      fill: #1967D2;\n",
              "      height: 32px;\n",
              "      padding: 0 0 0 0;\n",
              "      width: 32px;\n",
              "    }\n",
              "\n",
              "    .colab-df-convert:hover {\n",
              "      background-color: #E2EBFA;\n",
              "      box-shadow: 0px 1px 2px rgba(60, 64, 67, 0.3), 0px 1px 3px 1px rgba(60, 64, 67, 0.15);\n",
              "      fill: #174EA6;\n",
              "    }\n",
              "\n",
              "    [theme=dark] .colab-df-convert {\n",
              "      background-color: #3B4455;\n",
              "      fill: #D2E3FC;\n",
              "    }\n",
              "\n",
              "    [theme=dark] .colab-df-convert:hover {\n",
              "      background-color: #434B5C;\n",
              "      box-shadow: 0px 1px 3px 1px rgba(0, 0, 0, 0.15);\n",
              "      filter: drop-shadow(0px 1px 2px rgba(0, 0, 0, 0.3));\n",
              "      fill: #FFFFFF;\n",
              "    }\n",
              "  </style>\n",
              "\n",
              "      <script>\n",
              "        const buttonEl =\n",
              "          document.querySelector('#df-7550eec4-e6b7-4d84-b77e-5b514336730b button.colab-df-convert');\n",
              "        buttonEl.style.display =\n",
              "          google.colab.kernel.accessAllowed ? 'block' : 'none';\n",
              "\n",
              "        async function convertToInteractive(key) {\n",
              "          const element = document.querySelector('#df-7550eec4-e6b7-4d84-b77e-5b514336730b');\n",
              "          const dataTable =\n",
              "            await google.colab.kernel.invokeFunction('convertToInteractive',\n",
              "                                                     [key], {});\n",
              "          if (!dataTable) return;\n",
              "\n",
              "          const docLinkHtml = 'Like what you see? Visit the ' +\n",
              "            '<a target=\"_blank\" href=https://colab.research.google.com/notebooks/data_table.ipynb>data table notebook</a>'\n",
              "            + ' to learn more about interactive tables.';\n",
              "          element.innerHTML = '';\n",
              "          dataTable['output_type'] = 'display_data';\n",
              "          await google.colab.output.renderOutput(dataTable, element);\n",
              "          const docLink = document.createElement('div');\n",
              "          docLink.innerHTML = docLinkHtml;\n",
              "          element.appendChild(docLink);\n",
              "        }\n",
              "      </script>\n",
              "    </div>\n",
              "  </div>\n",
              "  "
            ]
          },
          "metadata": {},
          "execution_count": 34
        }
      ]
    },
    {
      "cell_type": "markdown",
      "source": [
        "# **Gender**"
      ],
      "metadata": {
        "id": "SmSUKSevse60"
      }
    },
    {
      "cell_type": "code",
      "source": [
        "gender = input(\"please enter the Gender\") "
      ],
      "metadata": {
        "id": "9fwRYtFbsqjF",
        "colab": {
          "base_uri": "https://localhost:8080/"
        },
        "outputId": "1b7a2223-0a0b-4b19-c9e8-9e409d28f6c2"
      },
      "execution_count": null,
      "outputs": [
        {
          "name": "stdout",
          "output_type": "stream",
          "text": [
            "please enter the Gendermale\n"
          ]
        }
      ]
    },
    {
      "cell_type": "code",
      "source": [
        "if gender == 'male':\n",
        "    df_male = df_result[df_result['Gender']== 'male' ]\n",
        "    df_result=df_male"
      ],
      "metadata": {
        "id": "MLnXflaOsdqm"
      },
      "execution_count": null,
      "outputs": []
    },
    {
      "cell_type": "code",
      "source": [
        "if gender == 'female':\n",
        "    df_female = df_result[df_result['Gender']== 'female' ]\n",
        "    df_result= df_female"
      ],
      "metadata": {
        "id": "MfbyMIMltHnP"
      },
      "execution_count": null,
      "outputs": []
    },
    {
      "cell_type": "code",
      "source": [
        "if gender == 'hybrid':\n",
        "    df_hybrid = df_result[df_result['Gender']== 'hybrid' ]\n",
        "    df_result = df_hybrid"
      ],
      "metadata": {
        "id": "0W1KW_K_tJBH"
      },
      "execution_count": null,
      "outputs": []
    },
    {
      "cell_type": "code",
      "source": [
        "df_result.head()"
      ],
      "metadata": {
        "id": "dy1WatMTuQU2",
        "colab": {
          "base_uri": "https://localhost:8080/",
          "height": 320
        },
        "outputId": "3a8585bf-89ac-401b-f342-0a0c170a66f7"
      },
      "execution_count": null,
      "outputs": [
        {
          "output_type": "execute_result",
          "data": {
            "text/plain": [
              "    index Leoni Part Number Contact System Finish Gender Material Name  \\\n",
              "0       0         P00117177       mqs 0.64     Au   male        CuNiSi   \n",
              "3      27         P00117178       mqs 0.64     Au   male        CuNiSi   \n",
              "4      28         P00117179       mqs 0.64     Au   male        CuNiSi   \n",
              "10    338         P00072367       mqs 0.64     Au   male        CuNiSi   \n",
              "11    360         P00087503       mqs 0.64     Au   male        CuNiSi   \n",
              "\n",
              "    Strip Length [mm] Sealability  Tab Thickness [mm]  Tab Width [mm]  \\\n",
              "0            3.817235    sealable                0.64            0.64   \n",
              "3            3.957289  unsealable                0.64            0.64   \n",
              "4            3.791847  unsealable                0.64            0.64   \n",
              "10           3.500000  unsealable                0.64            0.64   \n",
              "11           3.800000    sealable                0.64            0.64   \n",
              "\n",
              "   Wire Material  Wire Max. External Diameter [mm]  \\\n",
              "0             Cu                          1.600000   \n",
              "3             Cu                          1.900000   \n",
              "4             Cu                          1.600000   \n",
              "10            Cu                          1.543865   \n",
              "11            Cu                          1.899770   \n",
              "\n",
              "    Wire Min. External Diameter [mm]  Wire Size Range From [mm²]  \\\n",
              "0                           1.142954                        0.25   \n",
              "3                           1.370154                        0.50   \n",
              "4                           1.154537                        0.25   \n",
              "10                          1.070187                        0.14   \n",
              "11                          1.358937                        0.50   \n",
              "\n",
              "    Wire Size Range To [mm²]    id  \n",
              "0                       0.35     2  \n",
              "3                       0.75   217  \n",
              "4                       0.35   218  \n",
              "10                      0.22   996  \n",
              "11                      0.75  1037  "
            ],
            "text/html": [
              "\n",
              "  <div id=\"df-bf69e8a4-d4cb-4666-a85a-cdf3adf892f6\">\n",
              "    <div class=\"colab-df-container\">\n",
              "      <div>\n",
              "<style scoped>\n",
              "    .dataframe tbody tr th:only-of-type {\n",
              "        vertical-align: middle;\n",
              "    }\n",
              "\n",
              "    .dataframe tbody tr th {\n",
              "        vertical-align: top;\n",
              "    }\n",
              "\n",
              "    .dataframe thead th {\n",
              "        text-align: right;\n",
              "    }\n",
              "</style>\n",
              "<table border=\"1\" class=\"dataframe\">\n",
              "  <thead>\n",
              "    <tr style=\"text-align: right;\">\n",
              "      <th></th>\n",
              "      <th>index</th>\n",
              "      <th>Leoni Part Number</th>\n",
              "      <th>Contact System</th>\n",
              "      <th>Finish</th>\n",
              "      <th>Gender</th>\n",
              "      <th>Material Name</th>\n",
              "      <th>Strip Length [mm]</th>\n",
              "      <th>Sealability</th>\n",
              "      <th>Tab Thickness [mm]</th>\n",
              "      <th>Tab Width [mm]</th>\n",
              "      <th>Wire Material</th>\n",
              "      <th>Wire Max. External Diameter [mm]</th>\n",
              "      <th>Wire Min. External Diameter [mm]</th>\n",
              "      <th>Wire Size Range From [mm²]</th>\n",
              "      <th>Wire Size Range To [mm²]</th>\n",
              "      <th>id</th>\n",
              "    </tr>\n",
              "  </thead>\n",
              "  <tbody>\n",
              "    <tr>\n",
              "      <th>0</th>\n",
              "      <td>0</td>\n",
              "      <td>P00117177</td>\n",
              "      <td>mqs 0.64</td>\n",
              "      <td>Au</td>\n",
              "      <td>male</td>\n",
              "      <td>CuNiSi</td>\n",
              "      <td>3.817235</td>\n",
              "      <td>sealable</td>\n",
              "      <td>0.64</td>\n",
              "      <td>0.64</td>\n",
              "      <td>Cu</td>\n",
              "      <td>1.600000</td>\n",
              "      <td>1.142954</td>\n",
              "      <td>0.25</td>\n",
              "      <td>0.35</td>\n",
              "      <td>2</td>\n",
              "    </tr>\n",
              "    <tr>\n",
              "      <th>3</th>\n",
              "      <td>27</td>\n",
              "      <td>P00117178</td>\n",
              "      <td>mqs 0.64</td>\n",
              "      <td>Au</td>\n",
              "      <td>male</td>\n",
              "      <td>CuNiSi</td>\n",
              "      <td>3.957289</td>\n",
              "      <td>unsealable</td>\n",
              "      <td>0.64</td>\n",
              "      <td>0.64</td>\n",
              "      <td>Cu</td>\n",
              "      <td>1.900000</td>\n",
              "      <td>1.370154</td>\n",
              "      <td>0.50</td>\n",
              "      <td>0.75</td>\n",
              "      <td>217</td>\n",
              "    </tr>\n",
              "    <tr>\n",
              "      <th>4</th>\n",
              "      <td>28</td>\n",
              "      <td>P00117179</td>\n",
              "      <td>mqs 0.64</td>\n",
              "      <td>Au</td>\n",
              "      <td>male</td>\n",
              "      <td>CuNiSi</td>\n",
              "      <td>3.791847</td>\n",
              "      <td>unsealable</td>\n",
              "      <td>0.64</td>\n",
              "      <td>0.64</td>\n",
              "      <td>Cu</td>\n",
              "      <td>1.600000</td>\n",
              "      <td>1.154537</td>\n",
              "      <td>0.25</td>\n",
              "      <td>0.35</td>\n",
              "      <td>218</td>\n",
              "    </tr>\n",
              "    <tr>\n",
              "      <th>10</th>\n",
              "      <td>338</td>\n",
              "      <td>P00072367</td>\n",
              "      <td>mqs 0.64</td>\n",
              "      <td>Au</td>\n",
              "      <td>male</td>\n",
              "      <td>CuNiSi</td>\n",
              "      <td>3.500000</td>\n",
              "      <td>unsealable</td>\n",
              "      <td>0.64</td>\n",
              "      <td>0.64</td>\n",
              "      <td>Cu</td>\n",
              "      <td>1.543865</td>\n",
              "      <td>1.070187</td>\n",
              "      <td>0.14</td>\n",
              "      <td>0.22</td>\n",
              "      <td>996</td>\n",
              "    </tr>\n",
              "    <tr>\n",
              "      <th>11</th>\n",
              "      <td>360</td>\n",
              "      <td>P00087503</td>\n",
              "      <td>mqs 0.64</td>\n",
              "      <td>Au</td>\n",
              "      <td>male</td>\n",
              "      <td>CuNiSi</td>\n",
              "      <td>3.800000</td>\n",
              "      <td>sealable</td>\n",
              "      <td>0.64</td>\n",
              "      <td>0.64</td>\n",
              "      <td>Cu</td>\n",
              "      <td>1.899770</td>\n",
              "      <td>1.358937</td>\n",
              "      <td>0.50</td>\n",
              "      <td>0.75</td>\n",
              "      <td>1037</td>\n",
              "    </tr>\n",
              "  </tbody>\n",
              "</table>\n",
              "</div>\n",
              "      <button class=\"colab-df-convert\" onclick=\"convertToInteractive('df-bf69e8a4-d4cb-4666-a85a-cdf3adf892f6')\"\n",
              "              title=\"Convert this dataframe to an interactive table.\"\n",
              "              style=\"display:none;\">\n",
              "        \n",
              "  <svg xmlns=\"http://www.w3.org/2000/svg\" height=\"24px\"viewBox=\"0 0 24 24\"\n",
              "       width=\"24px\">\n",
              "    <path d=\"M0 0h24v24H0V0z\" fill=\"none\"/>\n",
              "    <path d=\"M18.56 5.44l.94 2.06.94-2.06 2.06-.94-2.06-.94-.94-2.06-.94 2.06-2.06.94zm-11 1L8.5 8.5l.94-2.06 2.06-.94-2.06-.94L8.5 2.5l-.94 2.06-2.06.94zm10 10l.94 2.06.94-2.06 2.06-.94-2.06-.94-.94-2.06-.94 2.06-2.06.94z\"/><path d=\"M17.41 7.96l-1.37-1.37c-.4-.4-.92-.59-1.43-.59-.52 0-1.04.2-1.43.59L10.3 9.45l-7.72 7.72c-.78.78-.78 2.05 0 2.83L4 21.41c.39.39.9.59 1.41.59.51 0 1.02-.2 1.41-.59l7.78-7.78 2.81-2.81c.8-.78.8-2.07 0-2.86zM5.41 20L4 18.59l7.72-7.72 1.47 1.35L5.41 20z\"/>\n",
              "  </svg>\n",
              "      </button>\n",
              "      \n",
              "  <style>\n",
              "    .colab-df-container {\n",
              "      display:flex;\n",
              "      flex-wrap:wrap;\n",
              "      gap: 12px;\n",
              "    }\n",
              "\n",
              "    .colab-df-convert {\n",
              "      background-color: #E8F0FE;\n",
              "      border: none;\n",
              "      border-radius: 50%;\n",
              "      cursor: pointer;\n",
              "      display: none;\n",
              "      fill: #1967D2;\n",
              "      height: 32px;\n",
              "      padding: 0 0 0 0;\n",
              "      width: 32px;\n",
              "    }\n",
              "\n",
              "    .colab-df-convert:hover {\n",
              "      background-color: #E2EBFA;\n",
              "      box-shadow: 0px 1px 2px rgba(60, 64, 67, 0.3), 0px 1px 3px 1px rgba(60, 64, 67, 0.15);\n",
              "      fill: #174EA6;\n",
              "    }\n",
              "\n",
              "    [theme=dark] .colab-df-convert {\n",
              "      background-color: #3B4455;\n",
              "      fill: #D2E3FC;\n",
              "    }\n",
              "\n",
              "    [theme=dark] .colab-df-convert:hover {\n",
              "      background-color: #434B5C;\n",
              "      box-shadow: 0px 1px 3px 1px rgba(0, 0, 0, 0.15);\n",
              "      filter: drop-shadow(0px 1px 2px rgba(0, 0, 0, 0.3));\n",
              "      fill: #FFFFFF;\n",
              "    }\n",
              "  </style>\n",
              "\n",
              "      <script>\n",
              "        const buttonEl =\n",
              "          document.querySelector('#df-bf69e8a4-d4cb-4666-a85a-cdf3adf892f6 button.colab-df-convert');\n",
              "        buttonEl.style.display =\n",
              "          google.colab.kernel.accessAllowed ? 'block' : 'none';\n",
              "\n",
              "        async function convertToInteractive(key) {\n",
              "          const element = document.querySelector('#df-bf69e8a4-d4cb-4666-a85a-cdf3adf892f6');\n",
              "          const dataTable =\n",
              "            await google.colab.kernel.invokeFunction('convertToInteractive',\n",
              "                                                     [key], {});\n",
              "          if (!dataTable) return;\n",
              "\n",
              "          const docLinkHtml = 'Like what you see? Visit the ' +\n",
              "            '<a target=\"_blank\" href=https://colab.research.google.com/notebooks/data_table.ipynb>data table notebook</a>'\n",
              "            + ' to learn more about interactive tables.';\n",
              "          element.innerHTML = '';\n",
              "          dataTable['output_type'] = 'display_data';\n",
              "          await google.colab.output.renderOutput(dataTable, element);\n",
              "          const docLink = document.createElement('div');\n",
              "          docLink.innerHTML = docLinkHtml;\n",
              "          element.appendChild(docLink);\n",
              "        }\n",
              "      </script>\n",
              "    </div>\n",
              "  </div>\n",
              "  "
            ]
          },
          "metadata": {},
          "execution_count": 39
        }
      ]
    },
    {
      "cell_type": "code",
      "source": [
        "df_result.shape"
      ],
      "metadata": {
        "id": "zokLpaQL6wMU",
        "colab": {
          "base_uri": "https://localhost:8080/"
        },
        "outputId": "5d1f0e44-ded5-4f6b-b7ad-696f3ed63388"
      },
      "execution_count": null,
      "outputs": [
        {
          "output_type": "execute_result",
          "data": {
            "text/plain": [
              "(17, 16)"
            ]
          },
          "metadata": {},
          "execution_count": 40
        }
      ]
    },
    {
      "cell_type": "code",
      "source": [
        "df_result['index']"
      ],
      "metadata": {
        "id": "PG5qQSNhuD4U",
        "colab": {
          "base_uri": "https://localhost:8080/"
        },
        "outputId": "91a866c0-b521-46bb-e1a3-6f938b5001a8"
      },
      "execution_count": null,
      "outputs": [
        {
          "output_type": "execute_result",
          "data": {
            "text/plain": [
              "0        0\n",
              "3       27\n",
              "4       28\n",
              "10     338\n",
              "11     360\n",
              "12     361\n",
              "16     583\n",
              "31    1048\n",
              "32    1049\n",
              "38    1056\n",
              "47    1267\n",
              "59    1917\n",
              "63    1951\n",
              "79    3046\n",
              "89    3436\n",
              "90    3467\n",
              "99    4353\n",
              "Name: index, dtype: int64"
            ]
          },
          "metadata": {},
          "execution_count": 41
        }
      ]
    },
    {
      "cell_type": "code",
      "source": [
        "df_result.drop(['index'],axis = 1,inplace=True)"
      ],
      "metadata": {
        "id": "vH9-pnTTuD4V"
      },
      "execution_count": null,
      "outputs": []
    },
    {
      "cell_type": "code",
      "source": [
        "df_result.head()"
      ],
      "metadata": {
        "id": "yrOAkUiNuD4V",
        "colab": {
          "base_uri": "https://localhost:8080/",
          "height": 320
        },
        "outputId": "d14377e1-9d3f-4ef8-d431-b42d727ebd10"
      },
      "execution_count": null,
      "outputs": [
        {
          "output_type": "execute_result",
          "data": {
            "text/plain": [
              "   Leoni Part Number Contact System Finish Gender Material Name  \\\n",
              "0          P00117177       mqs 0.64     Au   male        CuNiSi   \n",
              "3          P00117178       mqs 0.64     Au   male        CuNiSi   \n",
              "4          P00117179       mqs 0.64     Au   male        CuNiSi   \n",
              "10         P00072367       mqs 0.64     Au   male        CuNiSi   \n",
              "11         P00087503       mqs 0.64     Au   male        CuNiSi   \n",
              "\n",
              "    Strip Length [mm] Sealability  Tab Thickness [mm]  Tab Width [mm]  \\\n",
              "0            3.817235    sealable                0.64            0.64   \n",
              "3            3.957289  unsealable                0.64            0.64   \n",
              "4            3.791847  unsealable                0.64            0.64   \n",
              "10           3.500000  unsealable                0.64            0.64   \n",
              "11           3.800000    sealable                0.64            0.64   \n",
              "\n",
              "   Wire Material  Wire Max. External Diameter [mm]  \\\n",
              "0             Cu                          1.600000   \n",
              "3             Cu                          1.900000   \n",
              "4             Cu                          1.600000   \n",
              "10            Cu                          1.543865   \n",
              "11            Cu                          1.899770   \n",
              "\n",
              "    Wire Min. External Diameter [mm]  Wire Size Range From [mm²]  \\\n",
              "0                           1.142954                        0.25   \n",
              "3                           1.370154                        0.50   \n",
              "4                           1.154537                        0.25   \n",
              "10                          1.070187                        0.14   \n",
              "11                          1.358937                        0.50   \n",
              "\n",
              "    Wire Size Range To [mm²]    id  \n",
              "0                       0.35     2  \n",
              "3                       0.75   217  \n",
              "4                       0.35   218  \n",
              "10                      0.22   996  \n",
              "11                      0.75  1037  "
            ],
            "text/html": [
              "\n",
              "  <div id=\"df-4edf36e7-b3ca-45a5-a45e-5d748376f401\">\n",
              "    <div class=\"colab-df-container\">\n",
              "      <div>\n",
              "<style scoped>\n",
              "    .dataframe tbody tr th:only-of-type {\n",
              "        vertical-align: middle;\n",
              "    }\n",
              "\n",
              "    .dataframe tbody tr th {\n",
              "        vertical-align: top;\n",
              "    }\n",
              "\n",
              "    .dataframe thead th {\n",
              "        text-align: right;\n",
              "    }\n",
              "</style>\n",
              "<table border=\"1\" class=\"dataframe\">\n",
              "  <thead>\n",
              "    <tr style=\"text-align: right;\">\n",
              "      <th></th>\n",
              "      <th>Leoni Part Number</th>\n",
              "      <th>Contact System</th>\n",
              "      <th>Finish</th>\n",
              "      <th>Gender</th>\n",
              "      <th>Material Name</th>\n",
              "      <th>Strip Length [mm]</th>\n",
              "      <th>Sealability</th>\n",
              "      <th>Tab Thickness [mm]</th>\n",
              "      <th>Tab Width [mm]</th>\n",
              "      <th>Wire Material</th>\n",
              "      <th>Wire Max. External Diameter [mm]</th>\n",
              "      <th>Wire Min. External Diameter [mm]</th>\n",
              "      <th>Wire Size Range From [mm²]</th>\n",
              "      <th>Wire Size Range To [mm²]</th>\n",
              "      <th>id</th>\n",
              "    </tr>\n",
              "  </thead>\n",
              "  <tbody>\n",
              "    <tr>\n",
              "      <th>0</th>\n",
              "      <td>P00117177</td>\n",
              "      <td>mqs 0.64</td>\n",
              "      <td>Au</td>\n",
              "      <td>male</td>\n",
              "      <td>CuNiSi</td>\n",
              "      <td>3.817235</td>\n",
              "      <td>sealable</td>\n",
              "      <td>0.64</td>\n",
              "      <td>0.64</td>\n",
              "      <td>Cu</td>\n",
              "      <td>1.600000</td>\n",
              "      <td>1.142954</td>\n",
              "      <td>0.25</td>\n",
              "      <td>0.35</td>\n",
              "      <td>2</td>\n",
              "    </tr>\n",
              "    <tr>\n",
              "      <th>3</th>\n",
              "      <td>P00117178</td>\n",
              "      <td>mqs 0.64</td>\n",
              "      <td>Au</td>\n",
              "      <td>male</td>\n",
              "      <td>CuNiSi</td>\n",
              "      <td>3.957289</td>\n",
              "      <td>unsealable</td>\n",
              "      <td>0.64</td>\n",
              "      <td>0.64</td>\n",
              "      <td>Cu</td>\n",
              "      <td>1.900000</td>\n",
              "      <td>1.370154</td>\n",
              "      <td>0.50</td>\n",
              "      <td>0.75</td>\n",
              "      <td>217</td>\n",
              "    </tr>\n",
              "    <tr>\n",
              "      <th>4</th>\n",
              "      <td>P00117179</td>\n",
              "      <td>mqs 0.64</td>\n",
              "      <td>Au</td>\n",
              "      <td>male</td>\n",
              "      <td>CuNiSi</td>\n",
              "      <td>3.791847</td>\n",
              "      <td>unsealable</td>\n",
              "      <td>0.64</td>\n",
              "      <td>0.64</td>\n",
              "      <td>Cu</td>\n",
              "      <td>1.600000</td>\n",
              "      <td>1.154537</td>\n",
              "      <td>0.25</td>\n",
              "      <td>0.35</td>\n",
              "      <td>218</td>\n",
              "    </tr>\n",
              "    <tr>\n",
              "      <th>10</th>\n",
              "      <td>P00072367</td>\n",
              "      <td>mqs 0.64</td>\n",
              "      <td>Au</td>\n",
              "      <td>male</td>\n",
              "      <td>CuNiSi</td>\n",
              "      <td>3.500000</td>\n",
              "      <td>unsealable</td>\n",
              "      <td>0.64</td>\n",
              "      <td>0.64</td>\n",
              "      <td>Cu</td>\n",
              "      <td>1.543865</td>\n",
              "      <td>1.070187</td>\n",
              "      <td>0.14</td>\n",
              "      <td>0.22</td>\n",
              "      <td>996</td>\n",
              "    </tr>\n",
              "    <tr>\n",
              "      <th>11</th>\n",
              "      <td>P00087503</td>\n",
              "      <td>mqs 0.64</td>\n",
              "      <td>Au</td>\n",
              "      <td>male</td>\n",
              "      <td>CuNiSi</td>\n",
              "      <td>3.800000</td>\n",
              "      <td>sealable</td>\n",
              "      <td>0.64</td>\n",
              "      <td>0.64</td>\n",
              "      <td>Cu</td>\n",
              "      <td>1.899770</td>\n",
              "      <td>1.358937</td>\n",
              "      <td>0.50</td>\n",
              "      <td>0.75</td>\n",
              "      <td>1037</td>\n",
              "    </tr>\n",
              "  </tbody>\n",
              "</table>\n",
              "</div>\n",
              "      <button class=\"colab-df-convert\" onclick=\"convertToInteractive('df-4edf36e7-b3ca-45a5-a45e-5d748376f401')\"\n",
              "              title=\"Convert this dataframe to an interactive table.\"\n",
              "              style=\"display:none;\">\n",
              "        \n",
              "  <svg xmlns=\"http://www.w3.org/2000/svg\" height=\"24px\"viewBox=\"0 0 24 24\"\n",
              "       width=\"24px\">\n",
              "    <path d=\"M0 0h24v24H0V0z\" fill=\"none\"/>\n",
              "    <path d=\"M18.56 5.44l.94 2.06.94-2.06 2.06-.94-2.06-.94-.94-2.06-.94 2.06-2.06.94zm-11 1L8.5 8.5l.94-2.06 2.06-.94-2.06-.94L8.5 2.5l-.94 2.06-2.06.94zm10 10l.94 2.06.94-2.06 2.06-.94-2.06-.94-.94-2.06-.94 2.06-2.06.94z\"/><path d=\"M17.41 7.96l-1.37-1.37c-.4-.4-.92-.59-1.43-.59-.52 0-1.04.2-1.43.59L10.3 9.45l-7.72 7.72c-.78.78-.78 2.05 0 2.83L4 21.41c.39.39.9.59 1.41.59.51 0 1.02-.2 1.41-.59l7.78-7.78 2.81-2.81c.8-.78.8-2.07 0-2.86zM5.41 20L4 18.59l7.72-7.72 1.47 1.35L5.41 20z\"/>\n",
              "  </svg>\n",
              "      </button>\n",
              "      \n",
              "  <style>\n",
              "    .colab-df-container {\n",
              "      display:flex;\n",
              "      flex-wrap:wrap;\n",
              "      gap: 12px;\n",
              "    }\n",
              "\n",
              "    .colab-df-convert {\n",
              "      background-color: #E8F0FE;\n",
              "      border: none;\n",
              "      border-radius: 50%;\n",
              "      cursor: pointer;\n",
              "      display: none;\n",
              "      fill: #1967D2;\n",
              "      height: 32px;\n",
              "      padding: 0 0 0 0;\n",
              "      width: 32px;\n",
              "    }\n",
              "\n",
              "    .colab-df-convert:hover {\n",
              "      background-color: #E2EBFA;\n",
              "      box-shadow: 0px 1px 2px rgba(60, 64, 67, 0.3), 0px 1px 3px 1px rgba(60, 64, 67, 0.15);\n",
              "      fill: #174EA6;\n",
              "    }\n",
              "\n",
              "    [theme=dark] .colab-df-convert {\n",
              "      background-color: #3B4455;\n",
              "      fill: #D2E3FC;\n",
              "    }\n",
              "\n",
              "    [theme=dark] .colab-df-convert:hover {\n",
              "      background-color: #434B5C;\n",
              "      box-shadow: 0px 1px 3px 1px rgba(0, 0, 0, 0.15);\n",
              "      filter: drop-shadow(0px 1px 2px rgba(0, 0, 0, 0.3));\n",
              "      fill: #FFFFFF;\n",
              "    }\n",
              "  </style>\n",
              "\n",
              "      <script>\n",
              "        const buttonEl =\n",
              "          document.querySelector('#df-4edf36e7-b3ca-45a5-a45e-5d748376f401 button.colab-df-convert');\n",
              "        buttonEl.style.display =\n",
              "          google.colab.kernel.accessAllowed ? 'block' : 'none';\n",
              "\n",
              "        async function convertToInteractive(key) {\n",
              "          const element = document.querySelector('#df-4edf36e7-b3ca-45a5-a45e-5d748376f401');\n",
              "          const dataTable =\n",
              "            await google.colab.kernel.invokeFunction('convertToInteractive',\n",
              "                                                     [key], {});\n",
              "          if (!dataTable) return;\n",
              "\n",
              "          const docLinkHtml = 'Like what you see? Visit the ' +\n",
              "            '<a target=\"_blank\" href=https://colab.research.google.com/notebooks/data_table.ipynb>data table notebook</a>'\n",
              "            + ' to learn more about interactive tables.';\n",
              "          element.innerHTML = '';\n",
              "          dataTable['output_type'] = 'display_data';\n",
              "          await google.colab.output.renderOutput(dataTable, element);\n",
              "          const docLink = document.createElement('div');\n",
              "          docLink.innerHTML = docLinkHtml;\n",
              "          element.appendChild(docLink);\n",
              "        }\n",
              "      </script>\n",
              "    </div>\n",
              "  </div>\n",
              "  "
            ]
          },
          "metadata": {},
          "execution_count": 43
        }
      ]
    },
    {
      "cell_type": "code",
      "source": [
        "df_result.reset_index(inplace=True)"
      ],
      "metadata": {
        "id": "7Ghp8RaGuD4V"
      },
      "execution_count": null,
      "outputs": []
    },
    {
      "cell_type": "markdown",
      "source": [
        "# **Material Name**"
      ],
      "metadata": {
        "id": "TRvNM64nGH8i"
      }
    },
    {
      "cell_type": "code",
      "source": [
        "n = input(\"please enter Material Name\")"
      ],
      "metadata": {
        "id": "SNeEyIqWGahu",
        "colab": {
          "base_uri": "https://localhost:8080/"
        },
        "outputId": "f3b616f0-6cfb-4aa3-f653-0de4a0a01546"
      },
      "execution_count": null,
      "outputs": [
        {
          "name": "stdout",
          "output_type": "stream",
          "text": [
            "please enter Material NameCuNiSi\n"
          ]
        }
      ]
    },
    {
      "cell_type": "code",
      "source": [
        "df_result.columns"
      ],
      "metadata": {
        "id": "68FA1lEeWpHw",
        "colab": {
          "base_uri": "https://localhost:8080/"
        },
        "outputId": "6188cbff-e3eb-45ec-891c-adc429cbf9f3"
      },
      "execution_count": null,
      "outputs": [
        {
          "output_type": "execute_result",
          "data": {
            "text/plain": [
              "Index(['index', 'Leoni Part Number', 'Contact System', 'Finish', 'Gender',\n",
              "       'Material Name', 'Strip Length [mm]', 'Sealability',\n",
              "       'Tab Thickness [mm]', 'Tab Width [mm]', 'Wire Material',\n",
              "       'Wire Max. External Diameter [mm]', 'Wire Min. External Diameter [mm]',\n",
              "       'Wire Size Range From [mm²]', 'Wire Size Range To [mm²]', 'id'],\n",
              "      dtype='object')"
            ]
          },
          "metadata": {},
          "execution_count": 46
        }
      ]
    },
    {
      "cell_type": "code",
      "source": [
        "df_result['index']"
      ],
      "metadata": {
        "id": "rbIjG6gXWuvW",
        "colab": {
          "base_uri": "https://localhost:8080/"
        },
        "outputId": "57fc0c95-5fd6-4fd5-bb79-8a96c9100972"
      },
      "execution_count": null,
      "outputs": [
        {
          "output_type": "execute_result",
          "data": {
            "text/plain": [
              "0      0\n",
              "1      3\n",
              "2      4\n",
              "3     10\n",
              "4     11\n",
              "5     12\n",
              "6     16\n",
              "7     31\n",
              "8     32\n",
              "9     38\n",
              "10    47\n",
              "11    59\n",
              "12    63\n",
              "13    79\n",
              "14    89\n",
              "15    90\n",
              "16    99\n",
              "Name: index, dtype: int64"
            ]
          },
          "metadata": {},
          "execution_count": 47
        }
      ]
    },
    {
      "cell_type": "code",
      "source": [
        "df_result.drop(['index'],axis = 1,inplace=True)"
      ],
      "metadata": {
        "id": "gQjKwzqEVnAy"
      },
      "execution_count": null,
      "outputs": []
    },
    {
      "cell_type": "code",
      "source": [
        "df_result.head()"
      ],
      "metadata": {
        "id": "cuhpqZ2GB1r2",
        "colab": {
          "base_uri": "https://localhost:8080/",
          "height": 320
        },
        "outputId": "48c84ea7-74d7-4ec3-e0dd-1b0bb32ed523"
      },
      "execution_count": null,
      "outputs": [
        {
          "output_type": "execute_result",
          "data": {
            "text/plain": [
              "  Leoni Part Number Contact System Finish Gender Material Name  \\\n",
              "0         P00117177       mqs 0.64     Au   male        CuNiSi   \n",
              "1         P00117178       mqs 0.64     Au   male        CuNiSi   \n",
              "2         P00117179       mqs 0.64     Au   male        CuNiSi   \n",
              "3         P00072367       mqs 0.64     Au   male        CuNiSi   \n",
              "4         P00087503       mqs 0.64     Au   male        CuNiSi   \n",
              "\n",
              "   Strip Length [mm] Sealability  Tab Thickness [mm]  Tab Width [mm]  \\\n",
              "0           3.817235    sealable                0.64            0.64   \n",
              "1           3.957289  unsealable                0.64            0.64   \n",
              "2           3.791847  unsealable                0.64            0.64   \n",
              "3           3.500000  unsealable                0.64            0.64   \n",
              "4           3.800000    sealable                0.64            0.64   \n",
              "\n",
              "  Wire Material  Wire Max. External Diameter [mm]  \\\n",
              "0            Cu                          1.600000   \n",
              "1            Cu                          1.900000   \n",
              "2            Cu                          1.600000   \n",
              "3            Cu                          1.543865   \n",
              "4            Cu                          1.899770   \n",
              "\n",
              "   Wire Min. External Diameter [mm]  Wire Size Range From [mm²]  \\\n",
              "0                          1.142954                        0.25   \n",
              "1                          1.370154                        0.50   \n",
              "2                          1.154537                        0.25   \n",
              "3                          1.070187                        0.14   \n",
              "4                          1.358937                        0.50   \n",
              "\n",
              "   Wire Size Range To [mm²]    id  \n",
              "0                      0.35     2  \n",
              "1                      0.75   217  \n",
              "2                      0.35   218  \n",
              "3                      0.22   996  \n",
              "4                      0.75  1037  "
            ],
            "text/html": [
              "\n",
              "  <div id=\"df-41268a9b-7c17-4d27-9322-2ee1670a7b5b\">\n",
              "    <div class=\"colab-df-container\">\n",
              "      <div>\n",
              "<style scoped>\n",
              "    .dataframe tbody tr th:only-of-type {\n",
              "        vertical-align: middle;\n",
              "    }\n",
              "\n",
              "    .dataframe tbody tr th {\n",
              "        vertical-align: top;\n",
              "    }\n",
              "\n",
              "    .dataframe thead th {\n",
              "        text-align: right;\n",
              "    }\n",
              "</style>\n",
              "<table border=\"1\" class=\"dataframe\">\n",
              "  <thead>\n",
              "    <tr style=\"text-align: right;\">\n",
              "      <th></th>\n",
              "      <th>Leoni Part Number</th>\n",
              "      <th>Contact System</th>\n",
              "      <th>Finish</th>\n",
              "      <th>Gender</th>\n",
              "      <th>Material Name</th>\n",
              "      <th>Strip Length [mm]</th>\n",
              "      <th>Sealability</th>\n",
              "      <th>Tab Thickness [mm]</th>\n",
              "      <th>Tab Width [mm]</th>\n",
              "      <th>Wire Material</th>\n",
              "      <th>Wire Max. External Diameter [mm]</th>\n",
              "      <th>Wire Min. External Diameter [mm]</th>\n",
              "      <th>Wire Size Range From [mm²]</th>\n",
              "      <th>Wire Size Range To [mm²]</th>\n",
              "      <th>id</th>\n",
              "    </tr>\n",
              "  </thead>\n",
              "  <tbody>\n",
              "    <tr>\n",
              "      <th>0</th>\n",
              "      <td>P00117177</td>\n",
              "      <td>mqs 0.64</td>\n",
              "      <td>Au</td>\n",
              "      <td>male</td>\n",
              "      <td>CuNiSi</td>\n",
              "      <td>3.817235</td>\n",
              "      <td>sealable</td>\n",
              "      <td>0.64</td>\n",
              "      <td>0.64</td>\n",
              "      <td>Cu</td>\n",
              "      <td>1.600000</td>\n",
              "      <td>1.142954</td>\n",
              "      <td>0.25</td>\n",
              "      <td>0.35</td>\n",
              "      <td>2</td>\n",
              "    </tr>\n",
              "    <tr>\n",
              "      <th>1</th>\n",
              "      <td>P00117178</td>\n",
              "      <td>mqs 0.64</td>\n",
              "      <td>Au</td>\n",
              "      <td>male</td>\n",
              "      <td>CuNiSi</td>\n",
              "      <td>3.957289</td>\n",
              "      <td>unsealable</td>\n",
              "      <td>0.64</td>\n",
              "      <td>0.64</td>\n",
              "      <td>Cu</td>\n",
              "      <td>1.900000</td>\n",
              "      <td>1.370154</td>\n",
              "      <td>0.50</td>\n",
              "      <td>0.75</td>\n",
              "      <td>217</td>\n",
              "    </tr>\n",
              "    <tr>\n",
              "      <th>2</th>\n",
              "      <td>P00117179</td>\n",
              "      <td>mqs 0.64</td>\n",
              "      <td>Au</td>\n",
              "      <td>male</td>\n",
              "      <td>CuNiSi</td>\n",
              "      <td>3.791847</td>\n",
              "      <td>unsealable</td>\n",
              "      <td>0.64</td>\n",
              "      <td>0.64</td>\n",
              "      <td>Cu</td>\n",
              "      <td>1.600000</td>\n",
              "      <td>1.154537</td>\n",
              "      <td>0.25</td>\n",
              "      <td>0.35</td>\n",
              "      <td>218</td>\n",
              "    </tr>\n",
              "    <tr>\n",
              "      <th>3</th>\n",
              "      <td>P00072367</td>\n",
              "      <td>mqs 0.64</td>\n",
              "      <td>Au</td>\n",
              "      <td>male</td>\n",
              "      <td>CuNiSi</td>\n",
              "      <td>3.500000</td>\n",
              "      <td>unsealable</td>\n",
              "      <td>0.64</td>\n",
              "      <td>0.64</td>\n",
              "      <td>Cu</td>\n",
              "      <td>1.543865</td>\n",
              "      <td>1.070187</td>\n",
              "      <td>0.14</td>\n",
              "      <td>0.22</td>\n",
              "      <td>996</td>\n",
              "    </tr>\n",
              "    <tr>\n",
              "      <th>4</th>\n",
              "      <td>P00087503</td>\n",
              "      <td>mqs 0.64</td>\n",
              "      <td>Au</td>\n",
              "      <td>male</td>\n",
              "      <td>CuNiSi</td>\n",
              "      <td>3.800000</td>\n",
              "      <td>sealable</td>\n",
              "      <td>0.64</td>\n",
              "      <td>0.64</td>\n",
              "      <td>Cu</td>\n",
              "      <td>1.899770</td>\n",
              "      <td>1.358937</td>\n",
              "      <td>0.50</td>\n",
              "      <td>0.75</td>\n",
              "      <td>1037</td>\n",
              "    </tr>\n",
              "  </tbody>\n",
              "</table>\n",
              "</div>\n",
              "      <button class=\"colab-df-convert\" onclick=\"convertToInteractive('df-41268a9b-7c17-4d27-9322-2ee1670a7b5b')\"\n",
              "              title=\"Convert this dataframe to an interactive table.\"\n",
              "              style=\"display:none;\">\n",
              "        \n",
              "  <svg xmlns=\"http://www.w3.org/2000/svg\" height=\"24px\"viewBox=\"0 0 24 24\"\n",
              "       width=\"24px\">\n",
              "    <path d=\"M0 0h24v24H0V0z\" fill=\"none\"/>\n",
              "    <path d=\"M18.56 5.44l.94 2.06.94-2.06 2.06-.94-2.06-.94-.94-2.06-.94 2.06-2.06.94zm-11 1L8.5 8.5l.94-2.06 2.06-.94-2.06-.94L8.5 2.5l-.94 2.06-2.06.94zm10 10l.94 2.06.94-2.06 2.06-.94-2.06-.94-.94-2.06-.94 2.06-2.06.94z\"/><path d=\"M17.41 7.96l-1.37-1.37c-.4-.4-.92-.59-1.43-.59-.52 0-1.04.2-1.43.59L10.3 9.45l-7.72 7.72c-.78.78-.78 2.05 0 2.83L4 21.41c.39.39.9.59 1.41.59.51 0 1.02-.2 1.41-.59l7.78-7.78 2.81-2.81c.8-.78.8-2.07 0-2.86zM5.41 20L4 18.59l7.72-7.72 1.47 1.35L5.41 20z\"/>\n",
              "  </svg>\n",
              "      </button>\n",
              "      \n",
              "  <style>\n",
              "    .colab-df-container {\n",
              "      display:flex;\n",
              "      flex-wrap:wrap;\n",
              "      gap: 12px;\n",
              "    }\n",
              "\n",
              "    .colab-df-convert {\n",
              "      background-color: #E8F0FE;\n",
              "      border: none;\n",
              "      border-radius: 50%;\n",
              "      cursor: pointer;\n",
              "      display: none;\n",
              "      fill: #1967D2;\n",
              "      height: 32px;\n",
              "      padding: 0 0 0 0;\n",
              "      width: 32px;\n",
              "    }\n",
              "\n",
              "    .colab-df-convert:hover {\n",
              "      background-color: #E2EBFA;\n",
              "      box-shadow: 0px 1px 2px rgba(60, 64, 67, 0.3), 0px 1px 3px 1px rgba(60, 64, 67, 0.15);\n",
              "      fill: #174EA6;\n",
              "    }\n",
              "\n",
              "    [theme=dark] .colab-df-convert {\n",
              "      background-color: #3B4455;\n",
              "      fill: #D2E3FC;\n",
              "    }\n",
              "\n",
              "    [theme=dark] .colab-df-convert:hover {\n",
              "      background-color: #434B5C;\n",
              "      box-shadow: 0px 1px 3px 1px rgba(0, 0, 0, 0.15);\n",
              "      filter: drop-shadow(0px 1px 2px rgba(0, 0, 0, 0.3));\n",
              "      fill: #FFFFFF;\n",
              "    }\n",
              "  </style>\n",
              "\n",
              "      <script>\n",
              "        const buttonEl =\n",
              "          document.querySelector('#df-41268a9b-7c17-4d27-9322-2ee1670a7b5b button.colab-df-convert');\n",
              "        buttonEl.style.display =\n",
              "          google.colab.kernel.accessAllowed ? 'block' : 'none';\n",
              "\n",
              "        async function convertToInteractive(key) {\n",
              "          const element = document.querySelector('#df-41268a9b-7c17-4d27-9322-2ee1670a7b5b');\n",
              "          const dataTable =\n",
              "            await google.colab.kernel.invokeFunction('convertToInteractive',\n",
              "                                                     [key], {});\n",
              "          if (!dataTable) return;\n",
              "\n",
              "          const docLinkHtml = 'Like what you see? Visit the ' +\n",
              "            '<a target=\"_blank\" href=https://colab.research.google.com/notebooks/data_table.ipynb>data table notebook</a>'\n",
              "            + ' to learn more about interactive tables.';\n",
              "          element.innerHTML = '';\n",
              "          dataTable['output_type'] = 'display_data';\n",
              "          await google.colab.output.renderOutput(dataTable, element);\n",
              "          const docLink = document.createElement('div');\n",
              "          docLink.innerHTML = docLinkHtml;\n",
              "          element.appendChild(docLink);\n",
              "        }\n",
              "      </script>\n",
              "    </div>\n",
              "  </div>\n",
              "  "
            ]
          },
          "metadata": {},
          "execution_count": 49
        }
      ]
    },
    {
      "cell_type": "code",
      "source": [
        "df_result.reset_index(inplace=True)"
      ],
      "metadata": {
        "id": "S3GwZzimW8tn"
      },
      "execution_count": null,
      "outputs": []
    },
    {
      "cell_type": "code",
      "source": [
        "import pandas as pd\n",
        "from sklearn.feature_extraction.text import TfidfVectorizer\n",
        "from sklearn.metrics.pairwise import linear_kernel\n",
        "\n",
        "scores = set()\n",
        "tf = TfidfVectorizer()\n",
        "tfidf_matrix = tf.fit_transform(df_result[\"Material Name\"])\n",
        "\n",
        "cosine_similarities = linear_kernel(tfidf_matrix, tfidf_matrix)\n",
        "\n",
        "def index_from_product(df,product):\n",
        "\n",
        "    return df[df['Material Name']==product].index.values[0]\n",
        "def recommenda( product, df,cosine_similarity_matrix):\n",
        "\n",
        "    index = index_from_product(df,product)\n",
        "\n",
        "    similarity_scores = list(enumerate(cosine_similarity_matrix[index]))\n",
        "    \n",
        "    similarity_scores_sorted = sorted(similarity_scores, key=lambda x: x[1], reverse=True)\n",
        "    recommendations_indices = []\n",
        "    for t in similarity_scores_sorted:\n",
        "        recommendations_indices.append([t[0],t[1]])\n",
        "        scores.add(t[1])\n",
        "\n",
        "    l= sorted(scores)\n",
        "    n= len(l)\n",
        "    print(l[int(n/2)])\n",
        "    lis=[]\n",
        "    for i in recommendations_indices:\n",
        "        if (i[1] != 0):\n",
        "            id=df['id'].iloc[i[0]]\n",
        "            lis.append(df[df[\"id\"]==id].index[0])\n",
        "            print(\"Recommended: \" + df['Material Name'].iloc[i[0]] + \" (score:\" + str(i[1]) + \")\")\n",
        "    print(lis)\n",
        "    return(lis)"
      ],
      "metadata": {
        "id": "vXsnQHgwdMy4"
      },
      "execution_count": null,
      "outputs": []
    },
    {
      "cell_type": "code",
      "source": [
        "l=recommenda(n, df_result, cosine_similarities)"
      ],
      "metadata": {
        "id": "dQgFhHTH6WMS",
        "colab": {
          "base_uri": "https://localhost:8080/"
        },
        "outputId": "1673c9ab-f588-4583-aae9-50f4693e58e8"
      },
      "execution_count": null,
      "outputs": [
        {
          "output_type": "stream",
          "name": "stdout",
          "text": [
            "1.0\n",
            "Recommended: CuNiSi (score:1.0)\n",
            "Recommended: CuNiSi (score:1.0)\n",
            "Recommended: CuNiSi (score:1.0)\n",
            "Recommended: CuNiSi (score:1.0)\n",
            "Recommended: CuNiSi (score:1.0)\n",
            "Recommended: CuNiSi (score:1.0)\n",
            "Recommended: CuNiSi (score:1.0)\n",
            "Recommended: CuNiSi (score:1.0)\n",
            "Recommended: CuNiSi (score:1.0)\n",
            "Recommended: CuNiSi (score:1.0)\n",
            "Recommended: CuNiSi (score:1.0)\n",
            "Recommended: CuNiSi (score:1.0)\n",
            "Recommended: CuNiSi (score:1.0)\n",
            "Recommended: CuNiSi (score:1.0)\n",
            "Recommended: CuNiSi (score:1.0)\n",
            "Recommended: CuNiSi (score:1.0)\n",
            "Recommended: CuNiSi (score:1.0)\n",
            "[0, 1, 2, 3, 4, 5, 6, 7, 8, 9, 10, 11, 12, 13, 14, 15, 16]\n"
          ]
        }
      ]
    },
    {
      "cell_type": "code",
      "source": [
        "df_result1= df_result.loc[l]"
      ],
      "metadata": {
        "id": "fzbsHW0i7Jps"
      },
      "execution_count": null,
      "outputs": []
    },
    {
      "cell_type": "code",
      "source": [
        "df_result1.head()"
      ],
      "metadata": {
        "id": "6-mCKYTYZw_x",
        "colab": {
          "base_uri": "https://localhost:8080/",
          "height": 320
        },
        "outputId": "924fadfb-f343-4684-c706-5c960d4128dd"
      },
      "execution_count": null,
      "outputs": [
        {
          "output_type": "execute_result",
          "data": {
            "text/plain": [
              "   index Leoni Part Number Contact System Finish Gender Material Name  \\\n",
              "0      0         P00117177       mqs 0.64     Au   male        CuNiSi   \n",
              "1      1         P00117178       mqs 0.64     Au   male        CuNiSi   \n",
              "2      2         P00117179       mqs 0.64     Au   male        CuNiSi   \n",
              "3      3         P00072367       mqs 0.64     Au   male        CuNiSi   \n",
              "4      4         P00087503       mqs 0.64     Au   male        CuNiSi   \n",
              "\n",
              "   Strip Length [mm] Sealability  Tab Thickness [mm]  Tab Width [mm]  \\\n",
              "0           3.817235    sealable                0.64            0.64   \n",
              "1           3.957289  unsealable                0.64            0.64   \n",
              "2           3.791847  unsealable                0.64            0.64   \n",
              "3           3.500000  unsealable                0.64            0.64   \n",
              "4           3.800000    sealable                0.64            0.64   \n",
              "\n",
              "  Wire Material  Wire Max. External Diameter [mm]  \\\n",
              "0            Cu                          1.600000   \n",
              "1            Cu                          1.900000   \n",
              "2            Cu                          1.600000   \n",
              "3            Cu                          1.543865   \n",
              "4            Cu                          1.899770   \n",
              "\n",
              "   Wire Min. External Diameter [mm]  Wire Size Range From [mm²]  \\\n",
              "0                          1.142954                        0.25   \n",
              "1                          1.370154                        0.50   \n",
              "2                          1.154537                        0.25   \n",
              "3                          1.070187                        0.14   \n",
              "4                          1.358937                        0.50   \n",
              "\n",
              "   Wire Size Range To [mm²]    id  \n",
              "0                      0.35     2  \n",
              "1                      0.75   217  \n",
              "2                      0.35   218  \n",
              "3                      0.22   996  \n",
              "4                      0.75  1037  "
            ],
            "text/html": [
              "\n",
              "  <div id=\"df-7f1164e8-4248-4fee-bdf6-dbc4458b203d\">\n",
              "    <div class=\"colab-df-container\">\n",
              "      <div>\n",
              "<style scoped>\n",
              "    .dataframe tbody tr th:only-of-type {\n",
              "        vertical-align: middle;\n",
              "    }\n",
              "\n",
              "    .dataframe tbody tr th {\n",
              "        vertical-align: top;\n",
              "    }\n",
              "\n",
              "    .dataframe thead th {\n",
              "        text-align: right;\n",
              "    }\n",
              "</style>\n",
              "<table border=\"1\" class=\"dataframe\">\n",
              "  <thead>\n",
              "    <tr style=\"text-align: right;\">\n",
              "      <th></th>\n",
              "      <th>index</th>\n",
              "      <th>Leoni Part Number</th>\n",
              "      <th>Contact System</th>\n",
              "      <th>Finish</th>\n",
              "      <th>Gender</th>\n",
              "      <th>Material Name</th>\n",
              "      <th>Strip Length [mm]</th>\n",
              "      <th>Sealability</th>\n",
              "      <th>Tab Thickness [mm]</th>\n",
              "      <th>Tab Width [mm]</th>\n",
              "      <th>Wire Material</th>\n",
              "      <th>Wire Max. External Diameter [mm]</th>\n",
              "      <th>Wire Min. External Diameter [mm]</th>\n",
              "      <th>Wire Size Range From [mm²]</th>\n",
              "      <th>Wire Size Range To [mm²]</th>\n",
              "      <th>id</th>\n",
              "    </tr>\n",
              "  </thead>\n",
              "  <tbody>\n",
              "    <tr>\n",
              "      <th>0</th>\n",
              "      <td>0</td>\n",
              "      <td>P00117177</td>\n",
              "      <td>mqs 0.64</td>\n",
              "      <td>Au</td>\n",
              "      <td>male</td>\n",
              "      <td>CuNiSi</td>\n",
              "      <td>3.817235</td>\n",
              "      <td>sealable</td>\n",
              "      <td>0.64</td>\n",
              "      <td>0.64</td>\n",
              "      <td>Cu</td>\n",
              "      <td>1.600000</td>\n",
              "      <td>1.142954</td>\n",
              "      <td>0.25</td>\n",
              "      <td>0.35</td>\n",
              "      <td>2</td>\n",
              "    </tr>\n",
              "    <tr>\n",
              "      <th>1</th>\n",
              "      <td>1</td>\n",
              "      <td>P00117178</td>\n",
              "      <td>mqs 0.64</td>\n",
              "      <td>Au</td>\n",
              "      <td>male</td>\n",
              "      <td>CuNiSi</td>\n",
              "      <td>3.957289</td>\n",
              "      <td>unsealable</td>\n",
              "      <td>0.64</td>\n",
              "      <td>0.64</td>\n",
              "      <td>Cu</td>\n",
              "      <td>1.900000</td>\n",
              "      <td>1.370154</td>\n",
              "      <td>0.50</td>\n",
              "      <td>0.75</td>\n",
              "      <td>217</td>\n",
              "    </tr>\n",
              "    <tr>\n",
              "      <th>2</th>\n",
              "      <td>2</td>\n",
              "      <td>P00117179</td>\n",
              "      <td>mqs 0.64</td>\n",
              "      <td>Au</td>\n",
              "      <td>male</td>\n",
              "      <td>CuNiSi</td>\n",
              "      <td>3.791847</td>\n",
              "      <td>unsealable</td>\n",
              "      <td>0.64</td>\n",
              "      <td>0.64</td>\n",
              "      <td>Cu</td>\n",
              "      <td>1.600000</td>\n",
              "      <td>1.154537</td>\n",
              "      <td>0.25</td>\n",
              "      <td>0.35</td>\n",
              "      <td>218</td>\n",
              "    </tr>\n",
              "    <tr>\n",
              "      <th>3</th>\n",
              "      <td>3</td>\n",
              "      <td>P00072367</td>\n",
              "      <td>mqs 0.64</td>\n",
              "      <td>Au</td>\n",
              "      <td>male</td>\n",
              "      <td>CuNiSi</td>\n",
              "      <td>3.500000</td>\n",
              "      <td>unsealable</td>\n",
              "      <td>0.64</td>\n",
              "      <td>0.64</td>\n",
              "      <td>Cu</td>\n",
              "      <td>1.543865</td>\n",
              "      <td>1.070187</td>\n",
              "      <td>0.14</td>\n",
              "      <td>0.22</td>\n",
              "      <td>996</td>\n",
              "    </tr>\n",
              "    <tr>\n",
              "      <th>4</th>\n",
              "      <td>4</td>\n",
              "      <td>P00087503</td>\n",
              "      <td>mqs 0.64</td>\n",
              "      <td>Au</td>\n",
              "      <td>male</td>\n",
              "      <td>CuNiSi</td>\n",
              "      <td>3.800000</td>\n",
              "      <td>sealable</td>\n",
              "      <td>0.64</td>\n",
              "      <td>0.64</td>\n",
              "      <td>Cu</td>\n",
              "      <td>1.899770</td>\n",
              "      <td>1.358937</td>\n",
              "      <td>0.50</td>\n",
              "      <td>0.75</td>\n",
              "      <td>1037</td>\n",
              "    </tr>\n",
              "  </tbody>\n",
              "</table>\n",
              "</div>\n",
              "      <button class=\"colab-df-convert\" onclick=\"convertToInteractive('df-7f1164e8-4248-4fee-bdf6-dbc4458b203d')\"\n",
              "              title=\"Convert this dataframe to an interactive table.\"\n",
              "              style=\"display:none;\">\n",
              "        \n",
              "  <svg xmlns=\"http://www.w3.org/2000/svg\" height=\"24px\"viewBox=\"0 0 24 24\"\n",
              "       width=\"24px\">\n",
              "    <path d=\"M0 0h24v24H0V0z\" fill=\"none\"/>\n",
              "    <path d=\"M18.56 5.44l.94 2.06.94-2.06 2.06-.94-2.06-.94-.94-2.06-.94 2.06-2.06.94zm-11 1L8.5 8.5l.94-2.06 2.06-.94-2.06-.94L8.5 2.5l-.94 2.06-2.06.94zm10 10l.94 2.06.94-2.06 2.06-.94-2.06-.94-.94-2.06-.94 2.06-2.06.94z\"/><path d=\"M17.41 7.96l-1.37-1.37c-.4-.4-.92-.59-1.43-.59-.52 0-1.04.2-1.43.59L10.3 9.45l-7.72 7.72c-.78.78-.78 2.05 0 2.83L4 21.41c.39.39.9.59 1.41.59.51 0 1.02-.2 1.41-.59l7.78-7.78 2.81-2.81c.8-.78.8-2.07 0-2.86zM5.41 20L4 18.59l7.72-7.72 1.47 1.35L5.41 20z\"/>\n",
              "  </svg>\n",
              "      </button>\n",
              "      \n",
              "  <style>\n",
              "    .colab-df-container {\n",
              "      display:flex;\n",
              "      flex-wrap:wrap;\n",
              "      gap: 12px;\n",
              "    }\n",
              "\n",
              "    .colab-df-convert {\n",
              "      background-color: #E8F0FE;\n",
              "      border: none;\n",
              "      border-radius: 50%;\n",
              "      cursor: pointer;\n",
              "      display: none;\n",
              "      fill: #1967D2;\n",
              "      height: 32px;\n",
              "      padding: 0 0 0 0;\n",
              "      width: 32px;\n",
              "    }\n",
              "\n",
              "    .colab-df-convert:hover {\n",
              "      background-color: #E2EBFA;\n",
              "      box-shadow: 0px 1px 2px rgba(60, 64, 67, 0.3), 0px 1px 3px 1px rgba(60, 64, 67, 0.15);\n",
              "      fill: #174EA6;\n",
              "    }\n",
              "\n",
              "    [theme=dark] .colab-df-convert {\n",
              "      background-color: #3B4455;\n",
              "      fill: #D2E3FC;\n",
              "    }\n",
              "\n",
              "    [theme=dark] .colab-df-convert:hover {\n",
              "      background-color: #434B5C;\n",
              "      box-shadow: 0px 1px 3px 1px rgba(0, 0, 0, 0.15);\n",
              "      filter: drop-shadow(0px 1px 2px rgba(0, 0, 0, 0.3));\n",
              "      fill: #FFFFFF;\n",
              "    }\n",
              "  </style>\n",
              "\n",
              "      <script>\n",
              "        const buttonEl =\n",
              "          document.querySelector('#df-7f1164e8-4248-4fee-bdf6-dbc4458b203d button.colab-df-convert');\n",
              "        buttonEl.style.display =\n",
              "          google.colab.kernel.accessAllowed ? 'block' : 'none';\n",
              "\n",
              "        async function convertToInteractive(key) {\n",
              "          const element = document.querySelector('#df-7f1164e8-4248-4fee-bdf6-dbc4458b203d');\n",
              "          const dataTable =\n",
              "            await google.colab.kernel.invokeFunction('convertToInteractive',\n",
              "                                                     [key], {});\n",
              "          if (!dataTable) return;\n",
              "\n",
              "          const docLinkHtml = 'Like what you see? Visit the ' +\n",
              "            '<a target=\"_blank\" href=https://colab.research.google.com/notebooks/data_table.ipynb>data table notebook</a>'\n",
              "            + ' to learn more about interactive tables.';\n",
              "          element.innerHTML = '';\n",
              "          dataTable['output_type'] = 'display_data';\n",
              "          await google.colab.output.renderOutput(dataTable, element);\n",
              "          const docLink = document.createElement('div');\n",
              "          docLink.innerHTML = docLinkHtml;\n",
              "          element.appendChild(docLink);\n",
              "        }\n",
              "      </script>\n",
              "    </div>\n",
              "  </div>\n",
              "  "
            ]
          },
          "metadata": {},
          "execution_count": 54
        }
      ]
    },
    {
      "cell_type": "markdown",
      "source": [
        "# **Wire Size Range From [mm²]**"
      ],
      "metadata": {
        "id": "lRK-pFplvQ4K"
      }
    },
    {
      "cell_type": "code",
      "source": [
        "number = float(input(\"enter the Wire Size Range From [mm²]\"))"
      ],
      "metadata": {
        "id": "awdTtRBsvRdN"
      },
      "execution_count": null,
      "outputs": []
    },
    {
      "cell_type": "code",
      "source": [
        "df_result1['index']"
      ],
      "metadata": {
        "id": "Aptk8XcVqLf2"
      },
      "execution_count": null,
      "outputs": []
    },
    {
      "cell_type": "code",
      "source": [
        "df_result1.drop(['index'],axis = 1,inplace=True)"
      ],
      "metadata": {
        "id": "jBVRWOeFqLf4"
      },
      "execution_count": null,
      "outputs": []
    },
    {
      "cell_type": "code",
      "source": [
        "df_result1.reset_index(inplace=True)"
      ],
      "metadata": {
        "id": "i_PZx0bIqLf4"
      },
      "execution_count": null,
      "outputs": []
    },
    {
      "cell_type": "code",
      "source": [
        "df_result1 [\"Wire_Size_Range_From_[mm²]_diffrence\"]=abs(number - df_result1[\"Wire Size Range From [mm²]\"])"
      ],
      "metadata": {
        "id": "ZRwxHQTpvRdO"
      },
      "execution_count": null,
      "outputs": []
    },
    {
      "cell_type": "code",
      "source": [
        "df_result1[\"Wire_Size_Range_From_[mm²]_diffrence\"].sort_values(ascending = True)"
      ],
      "metadata": {
        "id": "8k5sJp_GvRdO"
      },
      "execution_count": null,
      "outputs": []
    },
    {
      "cell_type": "code",
      "source": [
        "len(df_result1)"
      ],
      "metadata": {
        "id": "ZYt1xZZdr20I"
      },
      "execution_count": null,
      "outputs": []
    },
    {
      "cell_type": "code",
      "source": [
        "\n",
        "epsilon = float(input(\"enter the precison\"))"
      ],
      "metadata": {
        "id": "MJSPMeTxvRdO"
      },
      "execution_count": null,
      "outputs": []
    },
    {
      "cell_type": "code",
      "source": [
        "recommmended = []\n",
        "recommmended.append(df_result1[df_result1['Wire_Size_Range_From_[mm²]_diffrence']< epsilon].index)\n",
        "recommmended"
      ],
      "metadata": {
        "id": "QJTQ7mtMvRdO"
      },
      "execution_count": null,
      "outputs": []
    },
    {
      "cell_type": "code",
      "source": [],
      "metadata": {
        "id": "aoU4UvkZLN_C"
      },
      "execution_count": null,
      "outputs": []
    },
    {
      "cell_type": "code",
      "source": [
        "df_result2= df_result1.loc[recommmended[0]]"
      ],
      "metadata": {
        "id": "CZksJ3gbLOGj"
      },
      "execution_count": null,
      "outputs": []
    },
    {
      "cell_type": "code",
      "source": [
        "df_result2.head()"
      ],
      "metadata": {
        "id": "QVvGHcxdLOGj"
      },
      "execution_count": null,
      "outputs": []
    },
    {
      "cell_type": "markdown",
      "source": [
        "# **Wire Size Range To [mm²]**"
      ],
      "metadata": {
        "id": "KEQPIX5SwmcW"
      }
    },
    {
      "cell_type": "code",
      "source": [
        "number = float(input(\"enter the Wire Size Range To [mm²]\"))"
      ],
      "metadata": {
        "id": "ZzAjNcYJwmcW"
      },
      "execution_count": null,
      "outputs": []
    },
    {
      "cell_type": "code",
      "source": [],
      "metadata": {
        "id": "tbeg-uN1vWTK"
      },
      "execution_count": null,
      "outputs": []
    },
    {
      "cell_type": "code",
      "source": [
        "df_result2['index']"
      ],
      "metadata": {
        "id": "_nnEJDOHvWmU"
      },
      "execution_count": null,
      "outputs": []
    },
    {
      "cell_type": "code",
      "source": [
        "df_result2.drop(['index'],axis = 1,inplace=True)"
      ],
      "metadata": {
        "id": "iGkeFIJ8vWmV"
      },
      "execution_count": null,
      "outputs": []
    },
    {
      "cell_type": "code",
      "source": [
        "df_result2.reset_index(inplace=True)"
      ],
      "metadata": {
        "id": "Jd5LVywevWmV"
      },
      "execution_count": null,
      "outputs": []
    },
    {
      "cell_type": "code",
      "source": [
        "df_result2 [\"Wire_Size_Range_To_[mm²]_diffrence\"]=abs(number - df_result2[\"Wire Size Range To [mm²]\"])"
      ],
      "metadata": {
        "id": "0naySyLAwmcX"
      },
      "execution_count": null,
      "outputs": []
    },
    {
      "cell_type": "code",
      "source": [
        "df_result2[\"Wire_Size_Range_To_[mm²]_diffrence\"].sort_values(ascending = True)"
      ],
      "metadata": {
        "id": "nvRHsVkPwmcX"
      },
      "execution_count": null,
      "outputs": []
    },
    {
      "cell_type": "code",
      "source": [
        "epsilon = float(input(\"enter the precison\"))"
      ],
      "metadata": {
        "id": "ZbIk5kRRwmcX"
      },
      "execution_count": null,
      "outputs": []
    },
    {
      "cell_type": "code",
      "source": [
        "recommmended = []\n",
        "recommmended.append(df_result2[df_result2['Wire_Size_Range_To_[mm²]_diffrence']<= epsilon].index)\n",
        "recommmended"
      ],
      "metadata": {
        "id": "1k708IM-wmcX"
      },
      "execution_count": null,
      "outputs": []
    },
    {
      "cell_type": "code",
      "source": [
        "df_result3= df_result2.loc[recommmended[0]]"
      ],
      "metadata": {
        "id": "7cVt5guRmASi"
      },
      "execution_count": null,
      "outputs": []
    },
    {
      "cell_type": "code",
      "source": [
        "df_result3.head()"
      ],
      "metadata": {
        "id": "ljmmJKtDmEDY"
      },
      "execution_count": null,
      "outputs": []
    },
    {
      "cell_type": "markdown",
      "source": [
        "# **Sealability**"
      ],
      "metadata": {
        "id": "4WsWtMR_QptC"
      }
    },
    {
      "cell_type": "code",
      "source": [
        "n = input(\"please enter sealability\")"
      ],
      "metadata": {
        "id": "i1N6Y_ZWG9Yv"
      },
      "execution_count": null,
      "outputs": []
    },
    {
      "cell_type": "code",
      "source": [
        "df_result3.drop(['index'],axis = 1,inplace=True)"
      ],
      "metadata": {
        "id": "iW9KW_PZZ5pN"
      },
      "execution_count": null,
      "outputs": []
    },
    {
      "cell_type": "code",
      "source": [
        "df_result3.reset_index(inplace=True)"
      ],
      "metadata": {
        "id": "YuPmsancZ_At"
      },
      "execution_count": null,
      "outputs": []
    },
    {
      "cell_type": "code",
      "source": [
        "import pandas as pd\n",
        "from sklearn.feature_extraction.text import TfidfVectorizer\n",
        "from sklearn.metrics.pairwise import linear_kernel\n",
        "\n",
        "scores = set()\n",
        "tf = TfidfVectorizer()\n",
        "tfidf_matrix = tf.fit_transform(df_result3[\"Sealability\"])\n",
        "\n",
        "cosine_similarities = linear_kernel(tfidf_matrix, tfidf_matrix)\n",
        "\n",
        "def index_from_product(df,product):\n",
        "\n",
        "    return df[df['Sealability']==product].index.values[0]\n",
        "def recommenda( product, df,cosine_similarity_matrix):\n",
        "\n",
        "    index = index_from_product(df,product)\n",
        "\n",
        "    similarity_scores = list(enumerate(cosine_similarity_matrix[index]))\n",
        "    \n",
        "    similarity_scores_sorted = sorted(similarity_scores, key=lambda x: x[1], reverse=True)\n",
        "    recommendations_indices = []\n",
        "    for t in similarity_scores_sorted:\n",
        "        recommendations_indices.append([t[0],t[1]])\n",
        "        scores.add(t[1])\n",
        "\n",
        "    l= sorted(scores)\n",
        "    n= len(l)\n",
        "    print(l[int(n/2)])\n",
        "    lis=[]\n",
        "    for i in recommendations_indices:\n",
        "        if (i[1] != 0):\n",
        "            id=df['id'].iloc[i[0]]\n",
        "            lis.append(df[df[\"id\"]==id].index[0])\n",
        "            print(\"Recommended: \" + df['Sealability'].iloc[i[0]] + \" (score:\" + str(i[1]) + \")\")\n",
        "    print(lis)\n",
        "    return(lis)"
      ],
      "metadata": {
        "id": "gB2ijkfXaD9V"
      },
      "execution_count": null,
      "outputs": []
    },
    {
      "cell_type": "code",
      "source": [
        "l=recommenda(n, df_result3, cosine_similarities)"
      ],
      "metadata": {
        "id": "RTRaWnPqaN6X"
      },
      "execution_count": null,
      "outputs": []
    },
    {
      "cell_type": "code",
      "source": [
        "df_result4= df_result3.loc[l]"
      ],
      "metadata": {
        "id": "F5x-bB67aeZt"
      },
      "execution_count": null,
      "outputs": []
    },
    {
      "cell_type": "code",
      "source": [
        "df_result4.head()"
      ],
      "metadata": {
        "id": "scZiAo0pag_Y"
      },
      "execution_count": null,
      "outputs": []
    },
    {
      "cell_type": "markdown",
      "source": [
        "# **Wire Material**"
      ],
      "metadata": {
        "id": "0d_k25BtRZ3o"
      }
    },
    {
      "cell_type": "code",
      "source": [
        "n = input(\"please enter wire material\")"
      ],
      "metadata": {
        "id": "cJ1BZPAQHhIi"
      },
      "execution_count": null,
      "outputs": []
    },
    {
      "cell_type": "code",
      "source": [
        "df_result4.drop(['index'],axis = 1,inplace=True)"
      ],
      "metadata": {
        "id": "oBrlC37bar_0"
      },
      "execution_count": null,
      "outputs": []
    },
    {
      "cell_type": "code",
      "source": [
        "df_result4.reset_index(inplace=True)"
      ],
      "metadata": {
        "id": "LO1VUbyear_0"
      },
      "execution_count": null,
      "outputs": []
    },
    {
      "cell_type": "code",
      "source": [
        "import pandas as pd\n",
        "from sklearn.feature_extraction.text import TfidfVectorizer\n",
        "from sklearn.metrics.pairwise import linear_kernel\n",
        "\n",
        "scores = set()\n",
        "tf = TfidfVectorizer()\n",
        "tfidf_matrix = tf.fit_transform(df_result4[\"Wire Material\"])\n",
        "\n",
        "cosine_similarities = linear_kernel(tfidf_matrix, tfidf_matrix)\n",
        "\n",
        "def index_from_product(df,product):\n",
        "\n",
        "    return df[df['Wire Material']==product].index.values[0]\n",
        "def recommenda( product, df,cosine_similarity_matrix):\n",
        "\n",
        "    index = index_from_product(df,product)\n",
        "\n",
        "    similarity_scores = list(enumerate(cosine_similarity_matrix[index]))\n",
        "    \n",
        "    similarity_scores_sorted = sorted(similarity_scores, key=lambda x: x[1], reverse=True)\n",
        "    recommendations_indices = []\n",
        "    for t in similarity_scores_sorted:\n",
        "        recommendations_indices.append([t[0],t[1]])\n",
        "        scores.add(t[1])\n",
        "\n",
        "    l= sorted(scores)\n",
        "    n= len(l)\n",
        "    print(l[int(n/2)])\n",
        "    lis=[]\n",
        "    for i in recommendations_indices:\n",
        "        if (i[1] != 0):\n",
        "            id=df['id'].iloc[i[0]]\n",
        "            lis.append(df[df[\"id\"]==id].index[0])\n",
        "            print(\"Recommended: \" + df['Wire Material'].iloc[i[0]] + \" (score:\" + str(i[1]) + \")\")\n",
        "    print(lis)\n",
        "    return(lis)"
      ],
      "metadata": {
        "id": "CgWV3owYar_0"
      },
      "execution_count": null,
      "outputs": []
    },
    {
      "cell_type": "code",
      "source": [
        "l=recommenda(n, df_result4, cosine_similarities)"
      ],
      "metadata": {
        "id": "pPxJq0V_ar_0"
      },
      "execution_count": null,
      "outputs": []
    },
    {
      "cell_type": "code",
      "source": [
        "df_result5= df_result4.loc[l]"
      ],
      "metadata": {
        "id": "j-euLFGqar_1"
      },
      "execution_count": null,
      "outputs": []
    },
    {
      "cell_type": "code",
      "source": [
        "df_result5.head()"
      ],
      "metadata": {
        "id": "M_BoKc8sar_1"
      },
      "execution_count": null,
      "outputs": []
    },
    {
      "cell_type": "markdown",
      "source": [
        "# **Strip Length [mm]**"
      ],
      "metadata": {
        "id": "WXtdLr6wqsgg"
      }
    },
    {
      "cell_type": "code",
      "source": [
        "number = float(input(\"enter the strip length\"))"
      ],
      "metadata": {
        "id": "ABkVIEM0q3yZ"
      },
      "execution_count": null,
      "outputs": []
    },
    {
      "cell_type": "code",
      "source": [
        "df_result5['index']"
      ],
      "metadata": {
        "id": "3mzCB3VuxIDO"
      },
      "execution_count": null,
      "outputs": []
    },
    {
      "cell_type": "code",
      "source": [
        "df_result5.drop(['index'],axis = 1,inplace=True)"
      ],
      "metadata": {
        "id": "7uDMrbUlxIDP"
      },
      "execution_count": null,
      "outputs": []
    },
    {
      "cell_type": "code",
      "source": [
        "df_result5.reset_index(inplace=True)"
      ],
      "metadata": {
        "id": "J54V-g6rxIDQ"
      },
      "execution_count": null,
      "outputs": []
    },
    {
      "cell_type": "code",
      "source": [
        "df_result5 [\"Strip_Length_[mm]_diffrence\"]=abs(number - df_result5[\"Strip Length [mm]\"])\n",
        "df_result5 [\"Strip_Length_[mm]_diffrence\"]"
      ],
      "metadata": {
        "id": "hM2KtfUvqYeM"
      },
      "execution_count": null,
      "outputs": []
    },
    {
      "cell_type": "code",
      "source": [
        "df_result5[\"Strip_Length_[mm]_diffrence\"].sort_values(ascending = True)"
      ],
      "metadata": {
        "id": "lVjo4gMKRwEB"
      },
      "execution_count": null,
      "outputs": []
    },
    {
      "cell_type": "code",
      "source": [
        "epsilon = float(input(\"enter the precison\"))"
      ],
      "metadata": {
        "id": "Ib8SDhM4sDbC"
      },
      "execution_count": null,
      "outputs": []
    },
    {
      "cell_type": "code",
      "source": [
        "recommmended = []\n",
        "recommmended.append(df_result5[df_result5['Strip_Length_[mm]_diffrence']<= epsilon].index)\n",
        "recommmended[0]"
      ],
      "metadata": {
        "id": "RToqhxbMt0ec"
      },
      "execution_count": null,
      "outputs": []
    },
    {
      "cell_type": "code",
      "source": [
        "df_result6= df_result5.loc[recommmended[0]]"
      ],
      "metadata": {
        "id": "2ryhd-j_ILRA"
      },
      "execution_count": null,
      "outputs": []
    },
    {
      "cell_type": "code",
      "source": [
        "df_result6.head()"
      ],
      "metadata": {
        "id": "M3UWcSc_ILRB"
      },
      "execution_count": null,
      "outputs": []
    },
    {
      "cell_type": "markdown",
      "source": [
        "# **Tab Thickness [mm]**"
      ],
      "metadata": {
        "id": "JK-I2G5buTso"
      }
    },
    {
      "cell_type": "code",
      "source": [
        "number = float(input(\"enter the Tab Thickness\"))"
      ],
      "metadata": {
        "id": "J4DmvwX3ugmL"
      },
      "execution_count": null,
      "outputs": []
    },
    {
      "cell_type": "code",
      "source": [
        "df_result6['index']"
      ],
      "metadata": {
        "id": "54UrP6mJxeDC"
      },
      "execution_count": null,
      "outputs": []
    },
    {
      "cell_type": "code",
      "source": [
        "df_result6.drop(['index'],axis = 1,inplace=True)"
      ],
      "metadata": {
        "id": "G48xGHTBxeDD"
      },
      "execution_count": null,
      "outputs": []
    },
    {
      "cell_type": "code",
      "source": [
        "df_result6.reset_index(inplace=True)"
      ],
      "metadata": {
        "id": "lAs3uGU7xeDE"
      },
      "execution_count": null,
      "outputs": []
    },
    {
      "cell_type": "code",
      "source": [
        "df_result6 [\"Tab_Thickness_[mm]_diffrence\"]=abs(number - df_result6[\"Tab Thickness [mm]\"])"
      ],
      "metadata": {
        "id": "w2LKizFrurGj"
      },
      "execution_count": null,
      "outputs": []
    },
    {
      "cell_type": "code",
      "source": [
        "df_result6[\"Tab_Thickness_[mm]_diffrence\"].sort_values(ascending = True)"
      ],
      "metadata": {
        "id": "neKvyQpKutar"
      },
      "execution_count": null,
      "outputs": []
    },
    {
      "cell_type": "code",
      "source": [
        "epsilon = float(input(\"enter the precison\"))"
      ],
      "metadata": {
        "id": "hNM1c89cuvai"
      },
      "execution_count": null,
      "outputs": []
    },
    {
      "cell_type": "code",
      "source": [
        "recommmended = []\n",
        "recommmended.append(df_result6[df_result6['Tab_Thickness_[mm]_diffrence']< epsilon].index)\n",
        "recommmended"
      ],
      "metadata": {
        "id": "mJT7AN6tuxcy"
      },
      "execution_count": null,
      "outputs": []
    },
    {
      "cell_type": "code",
      "source": [
        "df_result7= df_result6.loc[recommmended[0]]"
      ],
      "metadata": {
        "id": "MkCGyxrQJLfU"
      },
      "execution_count": null,
      "outputs": []
    },
    {
      "cell_type": "code",
      "source": [
        "df_result7.head()"
      ],
      "metadata": {
        "id": "TkB0aYU7JLfW"
      },
      "execution_count": null,
      "outputs": []
    },
    {
      "cell_type": "markdown",
      "source": [
        "# **Tab Width [mm]**"
      ],
      "metadata": {
        "id": "991Hryh9vMoL"
      }
    },
    {
      "cell_type": "code",
      "source": [
        "number = float(input(\"enter the Tab Width\"))"
      ],
      "metadata": {
        "id": "br8rqKQ4vKzk"
      },
      "execution_count": null,
      "outputs": []
    },
    {
      "cell_type": "code",
      "source": [],
      "metadata": {
        "id": "gteq-RXExrRo"
      },
      "execution_count": null,
      "outputs": []
    },
    {
      "cell_type": "code",
      "source": [
        "df_result7['index']"
      ],
      "metadata": {
        "id": "TYqrzZTGxroc"
      },
      "execution_count": null,
      "outputs": []
    },
    {
      "cell_type": "code",
      "source": [
        "df_result7.drop(['index'],axis = 1,inplace=True)"
      ],
      "metadata": {
        "id": "NtvlbV40xrod"
      },
      "execution_count": null,
      "outputs": []
    },
    {
      "cell_type": "code",
      "source": [
        "df_result7.reset_index(inplace=True)"
      ],
      "metadata": {
        "id": "zWc0Kp3Zxrod"
      },
      "execution_count": null,
      "outputs": []
    },
    {
      "cell_type": "code",
      "source": [
        "df_result7 [\"Tab_Width_[mm]_diffrence\"]=abs(number - df_result7[\"Tab Width [mm]\"])"
      ],
      "metadata": {
        "id": "eraiQe0bvKzl"
      },
      "execution_count": null,
      "outputs": []
    },
    {
      "cell_type": "code",
      "source": [
        "df_result7[\"Tab_Width_[mm]_diffrence\"].sort_values(ascending = True)"
      ],
      "metadata": {
        "id": "prajn26FvKzm"
      },
      "execution_count": null,
      "outputs": []
    },
    {
      "cell_type": "code",
      "source": [
        "epsilon = float(input(\"enter the precison\"))"
      ],
      "metadata": {
        "id": "srXZ4uUIvKzm"
      },
      "execution_count": null,
      "outputs": []
    },
    {
      "cell_type": "code",
      "source": [
        "recommmended = []\n",
        "recommmended.append(df_result7[df_result7['Tab_Width_[mm]_diffrence']<= epsilon].index)\n",
        "recommmended"
      ],
      "metadata": {
        "id": "uv9z1UjavKzn"
      },
      "execution_count": null,
      "outputs": []
    },
    {
      "cell_type": "code",
      "source": [],
      "metadata": {
        "id": "AxicYuTzJ3Xn"
      },
      "execution_count": null,
      "outputs": []
    },
    {
      "cell_type": "code",
      "source": [
        "df_result8= df_result7.loc[recommmended[0]]"
      ],
      "metadata": {
        "id": "JCNibDn8J3yM"
      },
      "execution_count": null,
      "outputs": []
    },
    {
      "cell_type": "code",
      "source": [
        "df_result8.head()"
      ],
      "metadata": {
        "id": "VlG1iACrJ3yM"
      },
      "execution_count": null,
      "outputs": []
    },
    {
      "cell_type": "markdown",
      "source": [
        "# **Wire Max. External Diameter [mm]**"
      ],
      "metadata": {
        "id": "JmaVij07vNsq"
      }
    },
    {
      "cell_type": "code",
      "source": [
        "number = float(input(\"enter the Wire Max. External Diameter [mm]\"))"
      ],
      "metadata": {
        "id": "oIZie6_WvO3q"
      },
      "execution_count": null,
      "outputs": []
    },
    {
      "cell_type": "code",
      "source": [],
      "metadata": {
        "id": "0pZfOK60x6_x"
      },
      "execution_count": null,
      "outputs": []
    },
    {
      "cell_type": "code",
      "source": [
        "df_result8['index']"
      ],
      "metadata": {
        "id": "IHVgGS7Ox7WH"
      },
      "execution_count": null,
      "outputs": []
    },
    {
      "cell_type": "code",
      "source": [
        "df_result8.drop(['index'],axis = 1,inplace=True)"
      ],
      "metadata": {
        "id": "wpLMOktnx7WI"
      },
      "execution_count": null,
      "outputs": []
    },
    {
      "cell_type": "code",
      "source": [
        "df_result8.reset_index(inplace=True)"
      ],
      "metadata": {
        "id": "uU97VUJFx7WJ"
      },
      "execution_count": null,
      "outputs": []
    },
    {
      "cell_type": "code",
      "source": [
        "df_result8 [\"Wire_Max._External_Diameter_[mm]_diffrence\"]=abs(number - df_result8[\"Wire Max. External Diameter [mm]\"])"
      ],
      "metadata": {
        "id": "cFoomzAzvO3r"
      },
      "execution_count": null,
      "outputs": []
    },
    {
      "cell_type": "code",
      "source": [
        "df_result8[\"Wire_Max._External_Diameter_[mm]_diffrence\"].sort_values(ascending = True)"
      ],
      "metadata": {
        "id": "RpBEi_P7vO3r"
      },
      "execution_count": null,
      "outputs": []
    },
    {
      "cell_type": "code",
      "source": [
        "epsilon = float(input(\"enter the precison\"))"
      ],
      "metadata": {
        "id": "i3-kdksKvO3s"
      },
      "execution_count": null,
      "outputs": []
    },
    {
      "cell_type": "code",
      "source": [
        "recommmended = []\n",
        "recommmended.append(df_result8[df_result8['Wire_Max._External_Diameter_[mm]_diffrence']< epsilon].index)\n",
        "recommmended"
      ],
      "metadata": {
        "id": "Jo0ACzCkvO3s"
      },
      "execution_count": null,
      "outputs": []
    },
    {
      "cell_type": "code",
      "source": [],
      "metadata": {
        "id": "dMQq7WRpKLE_"
      },
      "execution_count": null,
      "outputs": []
    },
    {
      "cell_type": "code",
      "source": [
        "df_result9= df_result8.loc[recommmended[0]]"
      ],
      "metadata": {
        "id": "EGeawVLXKLYm"
      },
      "execution_count": null,
      "outputs": []
    },
    {
      "cell_type": "code",
      "source": [
        "df_result9.head()"
      ],
      "metadata": {
        "id": "ZgZtnxygKLYn"
      },
      "execution_count": null,
      "outputs": []
    },
    {
      "cell_type": "markdown",
      "source": [
        "# **Wire Min. External Diameter [mm]**"
      ],
      "metadata": {
        "id": "1mxpgBnwvPmq"
      }
    },
    {
      "cell_type": "code",
      "source": [
        "number = float(input(\"enter the Tab Wire Min. External Diameter [mm]\"))"
      ],
      "metadata": {
        "id": "dKVf8DgKvQYC"
      },
      "execution_count": null,
      "outputs": []
    },
    {
      "cell_type": "code",
      "source": [
        "df_result9['index']"
      ],
      "metadata": {
        "id": "Fv3XGh8OyGwT"
      },
      "execution_count": null,
      "outputs": []
    },
    {
      "cell_type": "code",
      "source": [
        "df_result9.drop(['index'],axis = 1,inplace=True)"
      ],
      "metadata": {
        "id": "fi1HsRBFyGwV"
      },
      "execution_count": null,
      "outputs": []
    },
    {
      "cell_type": "code",
      "source": [
        "df_result9.reset_index(inplace=True)"
      ],
      "metadata": {
        "id": "EAudNqJNyGwV"
      },
      "execution_count": null,
      "outputs": []
    },
    {
      "cell_type": "code",
      "source": [
        "df_result9 [\"Wire_Min._External_Diameter_[mm]_diffrence\"]=abs(number - df_result9[\"Wire Max. External Diameter [mm]\"])"
      ],
      "metadata": {
        "id": "ScFB09I_vQYC"
      },
      "execution_count": null,
      "outputs": []
    },
    {
      "cell_type": "code",
      "source": [
        "df_result9[\"Wire_Min._External_Diameter_[mm]_diffrence\"].sort_values(ascending = True)"
      ],
      "metadata": {
        "id": "koQCHhM8vQYD"
      },
      "execution_count": null,
      "outputs": []
    },
    {
      "cell_type": "code",
      "source": [
        "epsilon = float(input(\"enter the precison\"))"
      ],
      "metadata": {
        "id": "WwZYn75HvQYD"
      },
      "execution_count": null,
      "outputs": []
    },
    {
      "cell_type": "code",
      "source": [
        "recommmended = []\n",
        "recommmended.append(df_result9[df_result9['Wire_Min._External_Diameter_[mm]_diffrence']<= epsilon].index)\n",
        "recommmended"
      ],
      "metadata": {
        "id": "6KYVufqkvQYD"
      },
      "execution_count": null,
      "outputs": []
    },
    {
      "cell_type": "code",
      "source": [],
      "metadata": {
        "id": "naVQDLRqKmAG"
      },
      "execution_count": null,
      "outputs": []
    },
    {
      "cell_type": "code",
      "source": [
        "df_result10= df_result9.loc[recommmended[0]]"
      ],
      "metadata": {
        "id": "RjocehFSKqRt"
      },
      "execution_count": null,
      "outputs": []
    },
    {
      "cell_type": "code",
      "source": [
        "df_result10.head()"
      ],
      "metadata": {
        "id": "BYZ9fjmBKqRu"
      },
      "execution_count": null,
      "outputs": []
    }
  ],
  "metadata": {
    "colab": {
      "provenance": []
    },
    "kernelspec": {
      "display_name": "Python 3",
      "name": "python3"
    },
    "language_info": {
      "name": "python"
    }
  },
  "nbformat": 4,
  "nbformat_minor": 0
}